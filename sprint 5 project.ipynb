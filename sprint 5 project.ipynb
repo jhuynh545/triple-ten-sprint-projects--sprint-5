{
 "cells": [
  {
   "cell_type": "markdown",
   "metadata": {},
   "source": [
    "# Ice\n",
    "An online store, Ice, sells video games all over the world. Reviews from users and experts, genres, platforms, and historical data on all game sales are open sources. We are identifying patterns that determine what games succeed. By doing this, it will allow us to spot big winners and plan advertising campaigns. \n"
   ]
  },
  {
   "cell_type": "markdown",
   "metadata": {},
   "source": [
    "## Data description\n",
    "\n",
    "—*Name*\n",
    "\n",
    "—*Platform*\n",
    "\n",
    "—*Year_of_Release*\n",
    "\n",
    "—*Genre*\n",
    "\n",
    "—*NA_sales* (North American sales in USD million)\n",
    "\n",
    "—*EU_sales* (sales in Europe in USD million)\n",
    "\n",
    "—*JP_sales* (sales in Japan in USD million)\n",
    "\n",
    "—*Other_sales* (sales in other countries in USD million)\n",
    "\n",
    "—*Critic_Score* (maximum of 100)\n",
    "\n",
    "—*User_Score* (maximum of 10)\n",
    "\n",
    "—*Rating* (ESRB)"
   ]
  },
  {
   "cell_type": "code",
   "execution_count": 1,
   "metadata": {},
   "outputs": [],
   "source": [
    "import pandas as pd\n",
    "import numpy as np\n",
    "import matplotlib.pyplot as plt\n",
    "from scipy import stats as st\n",
    "import seaborn as sns\n",
    "import plotly.express as px"
   ]
  },
  {
   "cell_type": "code",
   "execution_count": 2,
   "metadata": {},
   "outputs": [],
   "source": [
    "games = pd.read_csv('/datasets/games.csv')"
   ]
  },
  {
   "cell_type": "code",
   "execution_count": 3,
   "metadata": {},
   "outputs": [
    {
     "name": "stdout",
     "output_type": "stream",
     "text": [
      "<class 'pandas.core.frame.DataFrame'>\n",
      "RangeIndex: 16715 entries, 0 to 16714\n",
      "Data columns (total 11 columns):\n",
      " #   Column           Non-Null Count  Dtype  \n",
      "---  ------           --------------  -----  \n",
      " 0   Name             16713 non-null  object \n",
      " 1   Platform         16715 non-null  object \n",
      " 2   Year_of_Release  16446 non-null  float64\n",
      " 3   Genre            16713 non-null  object \n",
      " 4   NA_sales         16715 non-null  float64\n",
      " 5   EU_sales         16715 non-null  float64\n",
      " 6   JP_sales         16715 non-null  float64\n",
      " 7   Other_sales      16715 non-null  float64\n",
      " 8   Critic_Score     8137 non-null   float64\n",
      " 9   User_Score       10014 non-null  object \n",
      " 10  Rating           9949 non-null   object \n",
      "dtypes: float64(6), object(5)\n",
      "memory usage: 1.4+ MB\n"
     ]
    }
   ],
   "source": [
    "games.info()"
   ]
  },
  {
   "cell_type": "code",
   "execution_count": 4,
   "metadata": {},
   "outputs": [
    {
     "data": {
      "text/html": [
       "<div>\n",
       "<style scoped>\n",
       "    .dataframe tbody tr th:only-of-type {\n",
       "        vertical-align: middle;\n",
       "    }\n",
       "\n",
       "    .dataframe tbody tr th {\n",
       "        vertical-align: top;\n",
       "    }\n",
       "\n",
       "    .dataframe thead th {\n",
       "        text-align: right;\n",
       "    }\n",
       "</style>\n",
       "<table border=\"1\" class=\"dataframe\">\n",
       "  <thead>\n",
       "    <tr style=\"text-align: right;\">\n",
       "      <th></th>\n",
       "      <th>Year_of_Release</th>\n",
       "      <th>NA_sales</th>\n",
       "      <th>EU_sales</th>\n",
       "      <th>JP_sales</th>\n",
       "      <th>Other_sales</th>\n",
       "      <th>Critic_Score</th>\n",
       "    </tr>\n",
       "  </thead>\n",
       "  <tbody>\n",
       "    <tr>\n",
       "      <th>count</th>\n",
       "      <td>16446.000000</td>\n",
       "      <td>16715.000000</td>\n",
       "      <td>16715.000000</td>\n",
       "      <td>16715.000000</td>\n",
       "      <td>16715.000000</td>\n",
       "      <td>8137.000000</td>\n",
       "    </tr>\n",
       "    <tr>\n",
       "      <th>mean</th>\n",
       "      <td>2006.484616</td>\n",
       "      <td>0.263377</td>\n",
       "      <td>0.145060</td>\n",
       "      <td>0.077617</td>\n",
       "      <td>0.047342</td>\n",
       "      <td>68.967679</td>\n",
       "    </tr>\n",
       "    <tr>\n",
       "      <th>std</th>\n",
       "      <td>5.877050</td>\n",
       "      <td>0.813604</td>\n",
       "      <td>0.503339</td>\n",
       "      <td>0.308853</td>\n",
       "      <td>0.186731</td>\n",
       "      <td>13.938165</td>\n",
       "    </tr>\n",
       "    <tr>\n",
       "      <th>min</th>\n",
       "      <td>1980.000000</td>\n",
       "      <td>0.000000</td>\n",
       "      <td>0.000000</td>\n",
       "      <td>0.000000</td>\n",
       "      <td>0.000000</td>\n",
       "      <td>13.000000</td>\n",
       "    </tr>\n",
       "    <tr>\n",
       "      <th>25%</th>\n",
       "      <td>2003.000000</td>\n",
       "      <td>0.000000</td>\n",
       "      <td>0.000000</td>\n",
       "      <td>0.000000</td>\n",
       "      <td>0.000000</td>\n",
       "      <td>60.000000</td>\n",
       "    </tr>\n",
       "    <tr>\n",
       "      <th>50%</th>\n",
       "      <td>2007.000000</td>\n",
       "      <td>0.080000</td>\n",
       "      <td>0.020000</td>\n",
       "      <td>0.000000</td>\n",
       "      <td>0.010000</td>\n",
       "      <td>71.000000</td>\n",
       "    </tr>\n",
       "    <tr>\n",
       "      <th>75%</th>\n",
       "      <td>2010.000000</td>\n",
       "      <td>0.240000</td>\n",
       "      <td>0.110000</td>\n",
       "      <td>0.040000</td>\n",
       "      <td>0.030000</td>\n",
       "      <td>79.000000</td>\n",
       "    </tr>\n",
       "    <tr>\n",
       "      <th>max</th>\n",
       "      <td>2016.000000</td>\n",
       "      <td>41.360000</td>\n",
       "      <td>28.960000</td>\n",
       "      <td>10.220000</td>\n",
       "      <td>10.570000</td>\n",
       "      <td>98.000000</td>\n",
       "    </tr>\n",
       "  </tbody>\n",
       "</table>\n",
       "</div>"
      ],
      "text/plain": [
       "       Year_of_Release      NA_sales      EU_sales      JP_sales  \\\n",
       "count     16446.000000  16715.000000  16715.000000  16715.000000   \n",
       "mean       2006.484616      0.263377      0.145060      0.077617   \n",
       "std           5.877050      0.813604      0.503339      0.308853   \n",
       "min        1980.000000      0.000000      0.000000      0.000000   \n",
       "25%        2003.000000      0.000000      0.000000      0.000000   \n",
       "50%        2007.000000      0.080000      0.020000      0.000000   \n",
       "75%        2010.000000      0.240000      0.110000      0.040000   \n",
       "max        2016.000000     41.360000     28.960000     10.220000   \n",
       "\n",
       "        Other_sales  Critic_Score  \n",
       "count  16715.000000   8137.000000  \n",
       "mean       0.047342     68.967679  \n",
       "std        0.186731     13.938165  \n",
       "min        0.000000     13.000000  \n",
       "25%        0.000000     60.000000  \n",
       "50%        0.010000     71.000000  \n",
       "75%        0.030000     79.000000  \n",
       "max       10.570000     98.000000  "
      ]
     },
     "execution_count": 4,
     "metadata": {},
     "output_type": "execute_result"
    }
   ],
   "source": [
    "games.describe()"
   ]
  },
  {
   "cell_type": "code",
   "execution_count": 5,
   "metadata": {},
   "outputs": [
    {
     "data": {
      "text/html": [
       "<div>\n",
       "<style scoped>\n",
       "    .dataframe tbody tr th:only-of-type {\n",
       "        vertical-align: middle;\n",
       "    }\n",
       "\n",
       "    .dataframe tbody tr th {\n",
       "        vertical-align: top;\n",
       "    }\n",
       "\n",
       "    .dataframe thead th {\n",
       "        text-align: right;\n",
       "    }\n",
       "</style>\n",
       "<table border=\"1\" class=\"dataframe\">\n",
       "  <thead>\n",
       "    <tr style=\"text-align: right;\">\n",
       "      <th></th>\n",
       "      <th>Name</th>\n",
       "      <th>Platform</th>\n",
       "      <th>Year_of_Release</th>\n",
       "      <th>Genre</th>\n",
       "      <th>NA_sales</th>\n",
       "      <th>EU_sales</th>\n",
       "      <th>JP_sales</th>\n",
       "      <th>Other_sales</th>\n",
       "      <th>Critic_Score</th>\n",
       "      <th>User_Score</th>\n",
       "      <th>Rating</th>\n",
       "    </tr>\n",
       "  </thead>\n",
       "  <tbody>\n",
       "    <tr>\n",
       "      <th>0</th>\n",
       "      <td>Wii Sports</td>\n",
       "      <td>Wii</td>\n",
       "      <td>2006.0</td>\n",
       "      <td>Sports</td>\n",
       "      <td>41.36</td>\n",
       "      <td>28.96</td>\n",
       "      <td>3.77</td>\n",
       "      <td>8.45</td>\n",
       "      <td>76.0</td>\n",
       "      <td>8</td>\n",
       "      <td>E</td>\n",
       "    </tr>\n",
       "    <tr>\n",
       "      <th>1</th>\n",
       "      <td>Super Mario Bros.</td>\n",
       "      <td>NES</td>\n",
       "      <td>1985.0</td>\n",
       "      <td>Platform</td>\n",
       "      <td>29.08</td>\n",
       "      <td>3.58</td>\n",
       "      <td>6.81</td>\n",
       "      <td>0.77</td>\n",
       "      <td>NaN</td>\n",
       "      <td>NaN</td>\n",
       "      <td>NaN</td>\n",
       "    </tr>\n",
       "    <tr>\n",
       "      <th>2</th>\n",
       "      <td>Mario Kart Wii</td>\n",
       "      <td>Wii</td>\n",
       "      <td>2008.0</td>\n",
       "      <td>Racing</td>\n",
       "      <td>15.68</td>\n",
       "      <td>12.76</td>\n",
       "      <td>3.79</td>\n",
       "      <td>3.29</td>\n",
       "      <td>82.0</td>\n",
       "      <td>8.3</td>\n",
       "      <td>E</td>\n",
       "    </tr>\n",
       "    <tr>\n",
       "      <th>3</th>\n",
       "      <td>Wii Sports Resort</td>\n",
       "      <td>Wii</td>\n",
       "      <td>2009.0</td>\n",
       "      <td>Sports</td>\n",
       "      <td>15.61</td>\n",
       "      <td>10.93</td>\n",
       "      <td>3.28</td>\n",
       "      <td>2.95</td>\n",
       "      <td>80.0</td>\n",
       "      <td>8</td>\n",
       "      <td>E</td>\n",
       "    </tr>\n",
       "    <tr>\n",
       "      <th>4</th>\n",
       "      <td>Pokemon Red/Pokemon Blue</td>\n",
       "      <td>GB</td>\n",
       "      <td>1996.0</td>\n",
       "      <td>Role-Playing</td>\n",
       "      <td>11.27</td>\n",
       "      <td>8.89</td>\n",
       "      <td>10.22</td>\n",
       "      <td>1.00</td>\n",
       "      <td>NaN</td>\n",
       "      <td>NaN</td>\n",
       "      <td>NaN</td>\n",
       "    </tr>\n",
       "  </tbody>\n",
       "</table>\n",
       "</div>"
      ],
      "text/plain": [
       "                       Name Platform  Year_of_Release         Genre  NA_sales  \\\n",
       "0                Wii Sports      Wii           2006.0        Sports     41.36   \n",
       "1         Super Mario Bros.      NES           1985.0      Platform     29.08   \n",
       "2            Mario Kart Wii      Wii           2008.0        Racing     15.68   \n",
       "3         Wii Sports Resort      Wii           2009.0        Sports     15.61   \n",
       "4  Pokemon Red/Pokemon Blue       GB           1996.0  Role-Playing     11.27   \n",
       "\n",
       "   EU_sales  JP_sales  Other_sales  Critic_Score User_Score Rating  \n",
       "0     28.96      3.77         8.45          76.0          8      E  \n",
       "1      3.58      6.81         0.77           NaN        NaN    NaN  \n",
       "2     12.76      3.79         3.29          82.0        8.3      E  \n",
       "3     10.93      3.28         2.95          80.0          8      E  \n",
       "4      8.89     10.22         1.00           NaN        NaN    NaN  "
      ]
     },
     "execution_count": 5,
     "metadata": {},
     "output_type": "execute_result"
    }
   ],
   "source": [
    "games.head()"
   ]
  },
  {
   "cell_type": "code",
   "execution_count": 6,
   "metadata": {},
   "outputs": [
    {
     "data": {
      "text/html": [
       "<div>\n",
       "<style scoped>\n",
       "    .dataframe tbody tr th:only-of-type {\n",
       "        vertical-align: middle;\n",
       "    }\n",
       "\n",
       "    .dataframe tbody tr th {\n",
       "        vertical-align: top;\n",
       "    }\n",
       "\n",
       "    .dataframe thead th {\n",
       "        text-align: right;\n",
       "    }\n",
       "</style>\n",
       "<table border=\"1\" class=\"dataframe\">\n",
       "  <thead>\n",
       "    <tr style=\"text-align: right;\">\n",
       "      <th></th>\n",
       "      <th>Name</th>\n",
       "      <th>Platform</th>\n",
       "      <th>Year_of_Release</th>\n",
       "      <th>Genre</th>\n",
       "      <th>NA_sales</th>\n",
       "      <th>EU_sales</th>\n",
       "      <th>JP_sales</th>\n",
       "      <th>Other_sales</th>\n",
       "      <th>Critic_Score</th>\n",
       "      <th>User_Score</th>\n",
       "      <th>Rating</th>\n",
       "    </tr>\n",
       "  </thead>\n",
       "  <tbody>\n",
       "    <tr>\n",
       "      <th>16710</th>\n",
       "      <td>Samurai Warriors: Sanada Maru</td>\n",
       "      <td>PS3</td>\n",
       "      <td>2016.0</td>\n",
       "      <td>Action</td>\n",
       "      <td>0.00</td>\n",
       "      <td>0.00</td>\n",
       "      <td>0.01</td>\n",
       "      <td>0.0</td>\n",
       "      <td>NaN</td>\n",
       "      <td>NaN</td>\n",
       "      <td>NaN</td>\n",
       "    </tr>\n",
       "    <tr>\n",
       "      <th>16711</th>\n",
       "      <td>LMA Manager 2007</td>\n",
       "      <td>X360</td>\n",
       "      <td>2006.0</td>\n",
       "      <td>Sports</td>\n",
       "      <td>0.00</td>\n",
       "      <td>0.01</td>\n",
       "      <td>0.00</td>\n",
       "      <td>0.0</td>\n",
       "      <td>NaN</td>\n",
       "      <td>NaN</td>\n",
       "      <td>NaN</td>\n",
       "    </tr>\n",
       "    <tr>\n",
       "      <th>16712</th>\n",
       "      <td>Haitaka no Psychedelica</td>\n",
       "      <td>PSV</td>\n",
       "      <td>2016.0</td>\n",
       "      <td>Adventure</td>\n",
       "      <td>0.00</td>\n",
       "      <td>0.00</td>\n",
       "      <td>0.01</td>\n",
       "      <td>0.0</td>\n",
       "      <td>NaN</td>\n",
       "      <td>NaN</td>\n",
       "      <td>NaN</td>\n",
       "    </tr>\n",
       "    <tr>\n",
       "      <th>16713</th>\n",
       "      <td>Spirits &amp; Spells</td>\n",
       "      <td>GBA</td>\n",
       "      <td>2003.0</td>\n",
       "      <td>Platform</td>\n",
       "      <td>0.01</td>\n",
       "      <td>0.00</td>\n",
       "      <td>0.00</td>\n",
       "      <td>0.0</td>\n",
       "      <td>NaN</td>\n",
       "      <td>NaN</td>\n",
       "      <td>NaN</td>\n",
       "    </tr>\n",
       "    <tr>\n",
       "      <th>16714</th>\n",
       "      <td>Winning Post 8 2016</td>\n",
       "      <td>PSV</td>\n",
       "      <td>2016.0</td>\n",
       "      <td>Simulation</td>\n",
       "      <td>0.00</td>\n",
       "      <td>0.00</td>\n",
       "      <td>0.01</td>\n",
       "      <td>0.0</td>\n",
       "      <td>NaN</td>\n",
       "      <td>NaN</td>\n",
       "      <td>NaN</td>\n",
       "    </tr>\n",
       "  </tbody>\n",
       "</table>\n",
       "</div>"
      ],
      "text/plain": [
       "                                Name Platform  Year_of_Release       Genre  \\\n",
       "16710  Samurai Warriors: Sanada Maru      PS3           2016.0      Action   \n",
       "16711               LMA Manager 2007     X360           2006.0      Sports   \n",
       "16712        Haitaka no Psychedelica      PSV           2016.0   Adventure   \n",
       "16713               Spirits & Spells      GBA           2003.0    Platform   \n",
       "16714            Winning Post 8 2016      PSV           2016.0  Simulation   \n",
       "\n",
       "       NA_sales  EU_sales  JP_sales  Other_sales  Critic_Score User_Score  \\\n",
       "16710      0.00      0.00      0.01          0.0           NaN        NaN   \n",
       "16711      0.00      0.01      0.00          0.0           NaN        NaN   \n",
       "16712      0.00      0.00      0.01          0.0           NaN        NaN   \n",
       "16713      0.01      0.00      0.00          0.0           NaN        NaN   \n",
       "16714      0.00      0.00      0.01          0.0           NaN        NaN   \n",
       "\n",
       "      Rating  \n",
       "16710    NaN  \n",
       "16711    NaN  \n",
       "16712    NaN  \n",
       "16713    NaN  \n",
       "16714    NaN  "
      ]
     },
     "execution_count": 6,
     "metadata": {},
     "output_type": "execute_result"
    }
   ],
   "source": [
    "games.tail()"
   ]
  },
  {
   "cell_type": "code",
   "execution_count": 7,
   "metadata": {},
   "outputs": [
    {
     "data": {
      "text/plain": [
       "Name                  2\n",
       "Platform              0\n",
       "Year_of_Release     269\n",
       "Genre                 2\n",
       "NA_sales              0\n",
       "EU_sales              0\n",
       "JP_sales              0\n",
       "Other_sales           0\n",
       "Critic_Score       8578\n",
       "User_Score         6701\n",
       "Rating             6766\n",
       "dtype: int64"
      ]
     },
     "execution_count": 7,
     "metadata": {},
     "output_type": "execute_result"
    }
   ],
   "source": [
    "games.isna().sum()"
   ]
  },
  {
   "cell_type": "code",
   "execution_count": 8,
   "metadata": {},
   "outputs": [
    {
     "data": {
      "text/plain": [
       "0"
      ]
     },
     "execution_count": 8,
     "metadata": {},
     "output_type": "execute_result"
    }
   ],
   "source": [
    "games.duplicated().sum()"
   ]
  },
  {
   "cell_type": "markdown",
   "metadata": {},
   "source": [
    "## Summary on the intro\n",
    "- We loaded the dataset and there are 16715 entries in the dataset. \n",
    "- The two datasets are floats and objects.\n",
    "- The sales are categorized into three major regions and another region that consists of others. \n",
    "- By displaying the first five rows, we see that there are NaN values in the critic score, user score, and ratings.\n",
    "- We have multiple missing values and zero duplicate rows. "
   ]
  },
  {
   "cell_type": "markdown",
   "metadata": {},
   "source": [
    "# Preparing the data"
   ]
  },
  {
   "cell_type": "code",
   "execution_count": 9,
   "metadata": {},
   "outputs": [
    {
     "data": {
      "text/html": [
       "<div>\n",
       "<style scoped>\n",
       "    .dataframe tbody tr th:only-of-type {\n",
       "        vertical-align: middle;\n",
       "    }\n",
       "\n",
       "    .dataframe tbody tr th {\n",
       "        vertical-align: top;\n",
       "    }\n",
       "\n",
       "    .dataframe thead th {\n",
       "        text-align: right;\n",
       "    }\n",
       "</style>\n",
       "<table border=\"1\" class=\"dataframe\">\n",
       "  <thead>\n",
       "    <tr style=\"text-align: right;\">\n",
       "      <th></th>\n",
       "      <th>name</th>\n",
       "      <th>platform</th>\n",
       "      <th>year_of_release</th>\n",
       "      <th>genre</th>\n",
       "      <th>na_sales</th>\n",
       "      <th>eu_sales</th>\n",
       "      <th>jp_sales</th>\n",
       "      <th>other_sales</th>\n",
       "      <th>critic_score</th>\n",
       "      <th>user_score</th>\n",
       "      <th>rating</th>\n",
       "    </tr>\n",
       "  </thead>\n",
       "  <tbody>\n",
       "    <tr>\n",
       "      <th>0</th>\n",
       "      <td>Wii Sports</td>\n",
       "      <td>Wii</td>\n",
       "      <td>2006.0</td>\n",
       "      <td>Sports</td>\n",
       "      <td>41.36</td>\n",
       "      <td>28.96</td>\n",
       "      <td>3.77</td>\n",
       "      <td>8.45</td>\n",
       "      <td>76.0</td>\n",
       "      <td>8</td>\n",
       "      <td>E</td>\n",
       "    </tr>\n",
       "    <tr>\n",
       "      <th>1</th>\n",
       "      <td>Super Mario Bros.</td>\n",
       "      <td>NES</td>\n",
       "      <td>1985.0</td>\n",
       "      <td>Platform</td>\n",
       "      <td>29.08</td>\n",
       "      <td>3.58</td>\n",
       "      <td>6.81</td>\n",
       "      <td>0.77</td>\n",
       "      <td>NaN</td>\n",
       "      <td>NaN</td>\n",
       "      <td>NaN</td>\n",
       "    </tr>\n",
       "    <tr>\n",
       "      <th>2</th>\n",
       "      <td>Mario Kart Wii</td>\n",
       "      <td>Wii</td>\n",
       "      <td>2008.0</td>\n",
       "      <td>Racing</td>\n",
       "      <td>15.68</td>\n",
       "      <td>12.76</td>\n",
       "      <td>3.79</td>\n",
       "      <td>3.29</td>\n",
       "      <td>82.0</td>\n",
       "      <td>8.3</td>\n",
       "      <td>E</td>\n",
       "    </tr>\n",
       "    <tr>\n",
       "      <th>3</th>\n",
       "      <td>Wii Sports Resort</td>\n",
       "      <td>Wii</td>\n",
       "      <td>2009.0</td>\n",
       "      <td>Sports</td>\n",
       "      <td>15.61</td>\n",
       "      <td>10.93</td>\n",
       "      <td>3.28</td>\n",
       "      <td>2.95</td>\n",
       "      <td>80.0</td>\n",
       "      <td>8</td>\n",
       "      <td>E</td>\n",
       "    </tr>\n",
       "    <tr>\n",
       "      <th>4</th>\n",
       "      <td>Pokemon Red/Pokemon Blue</td>\n",
       "      <td>GB</td>\n",
       "      <td>1996.0</td>\n",
       "      <td>Role-Playing</td>\n",
       "      <td>11.27</td>\n",
       "      <td>8.89</td>\n",
       "      <td>10.22</td>\n",
       "      <td>1.00</td>\n",
       "      <td>NaN</td>\n",
       "      <td>NaN</td>\n",
       "      <td>NaN</td>\n",
       "    </tr>\n",
       "    <tr>\n",
       "      <th>...</th>\n",
       "      <td>...</td>\n",
       "      <td>...</td>\n",
       "      <td>...</td>\n",
       "      <td>...</td>\n",
       "      <td>...</td>\n",
       "      <td>...</td>\n",
       "      <td>...</td>\n",
       "      <td>...</td>\n",
       "      <td>...</td>\n",
       "      <td>...</td>\n",
       "      <td>...</td>\n",
       "    </tr>\n",
       "    <tr>\n",
       "      <th>16710</th>\n",
       "      <td>Samurai Warriors: Sanada Maru</td>\n",
       "      <td>PS3</td>\n",
       "      <td>2016.0</td>\n",
       "      <td>Action</td>\n",
       "      <td>0.00</td>\n",
       "      <td>0.00</td>\n",
       "      <td>0.01</td>\n",
       "      <td>0.00</td>\n",
       "      <td>NaN</td>\n",
       "      <td>NaN</td>\n",
       "      <td>NaN</td>\n",
       "    </tr>\n",
       "    <tr>\n",
       "      <th>16711</th>\n",
       "      <td>LMA Manager 2007</td>\n",
       "      <td>X360</td>\n",
       "      <td>2006.0</td>\n",
       "      <td>Sports</td>\n",
       "      <td>0.00</td>\n",
       "      <td>0.01</td>\n",
       "      <td>0.00</td>\n",
       "      <td>0.00</td>\n",
       "      <td>NaN</td>\n",
       "      <td>NaN</td>\n",
       "      <td>NaN</td>\n",
       "    </tr>\n",
       "    <tr>\n",
       "      <th>16712</th>\n",
       "      <td>Haitaka no Psychedelica</td>\n",
       "      <td>PSV</td>\n",
       "      <td>2016.0</td>\n",
       "      <td>Adventure</td>\n",
       "      <td>0.00</td>\n",
       "      <td>0.00</td>\n",
       "      <td>0.01</td>\n",
       "      <td>0.00</td>\n",
       "      <td>NaN</td>\n",
       "      <td>NaN</td>\n",
       "      <td>NaN</td>\n",
       "    </tr>\n",
       "    <tr>\n",
       "      <th>16713</th>\n",
       "      <td>Spirits &amp; Spells</td>\n",
       "      <td>GBA</td>\n",
       "      <td>2003.0</td>\n",
       "      <td>Platform</td>\n",
       "      <td>0.01</td>\n",
       "      <td>0.00</td>\n",
       "      <td>0.00</td>\n",
       "      <td>0.00</td>\n",
       "      <td>NaN</td>\n",
       "      <td>NaN</td>\n",
       "      <td>NaN</td>\n",
       "    </tr>\n",
       "    <tr>\n",
       "      <th>16714</th>\n",
       "      <td>Winning Post 8 2016</td>\n",
       "      <td>PSV</td>\n",
       "      <td>2016.0</td>\n",
       "      <td>Simulation</td>\n",
       "      <td>0.00</td>\n",
       "      <td>0.00</td>\n",
       "      <td>0.01</td>\n",
       "      <td>0.00</td>\n",
       "      <td>NaN</td>\n",
       "      <td>NaN</td>\n",
       "      <td>NaN</td>\n",
       "    </tr>\n",
       "  </tbody>\n",
       "</table>\n",
       "<p>16715 rows × 11 columns</p>\n",
       "</div>"
      ],
      "text/plain": [
       "                                name platform  year_of_release         genre  \\\n",
       "0                         Wii Sports      Wii           2006.0        Sports   \n",
       "1                  Super Mario Bros.      NES           1985.0      Platform   \n",
       "2                     Mario Kart Wii      Wii           2008.0        Racing   \n",
       "3                  Wii Sports Resort      Wii           2009.0        Sports   \n",
       "4           Pokemon Red/Pokemon Blue       GB           1996.0  Role-Playing   \n",
       "...                              ...      ...              ...           ...   \n",
       "16710  Samurai Warriors: Sanada Maru      PS3           2016.0        Action   \n",
       "16711               LMA Manager 2007     X360           2006.0        Sports   \n",
       "16712        Haitaka no Psychedelica      PSV           2016.0     Adventure   \n",
       "16713               Spirits & Spells      GBA           2003.0      Platform   \n",
       "16714            Winning Post 8 2016      PSV           2016.0    Simulation   \n",
       "\n",
       "       na_sales  eu_sales  jp_sales  other_sales  critic_score user_score  \\\n",
       "0         41.36     28.96      3.77         8.45          76.0          8   \n",
       "1         29.08      3.58      6.81         0.77           NaN        NaN   \n",
       "2         15.68     12.76      3.79         3.29          82.0        8.3   \n",
       "3         15.61     10.93      3.28         2.95          80.0          8   \n",
       "4         11.27      8.89     10.22         1.00           NaN        NaN   \n",
       "...         ...       ...       ...          ...           ...        ...   \n",
       "16710      0.00      0.00      0.01         0.00           NaN        NaN   \n",
       "16711      0.00      0.01      0.00         0.00           NaN        NaN   \n",
       "16712      0.00      0.00      0.01         0.00           NaN        NaN   \n",
       "16713      0.01      0.00      0.00         0.00           NaN        NaN   \n",
       "16714      0.00      0.00      0.01         0.00           NaN        NaN   \n",
       "\n",
       "      rating  \n",
       "0          E  \n",
       "1        NaN  \n",
       "2          E  \n",
       "3          E  \n",
       "4        NaN  \n",
       "...      ...  \n",
       "16710    NaN  \n",
       "16711    NaN  \n",
       "16712    NaN  \n",
       "16713    NaN  \n",
       "16714    NaN  \n",
       "\n",
       "[16715 rows x 11 columns]"
      ]
     },
     "metadata": {},
     "output_type": "display_data"
    }
   ],
   "source": [
    "# Replace the column names (make them lowercase)\n",
    "games.columns = map(str.lower, games.columns)\n",
    "display(games)"
   ]
  },
  {
   "cell_type": "code",
   "execution_count": 10,
   "metadata": {},
   "outputs": [
    {
     "data": {
      "text/plain": [
       "name                object\n",
       "platform            object\n",
       "year_of_release      Int64\n",
       "genre               object\n",
       "na_sales           float64\n",
       "eu_sales           float64\n",
       "jp_sales           float64\n",
       "other_sales        float64\n",
       "critic_score       float64\n",
       "user_score         float64\n",
       "rating              object\n",
       "dtype: object"
      ]
     },
     "metadata": {},
     "output_type": "display_data"
    }
   ],
   "source": [
    "# Convert the required data types\n",
    "# Convert year_of_release to int64\n",
    "games['year_of_release'] = pd.to_numeric(games['year_of_release'], errors='coerce').astype('Int64')\n",
    "\n",
    "# Convert user_score to float64 \n",
    "games['user_score'] = pd.to_numeric(games['user_score'], errors='coerce')\n",
    "display(games.dtypes)"
   ]
  },
  {
   "cell_type": "code",
   "execution_count": 11,
   "metadata": {},
   "outputs": [
    {
     "data": {
      "text/html": [
       "<div>\n",
       "<style scoped>\n",
       "    .dataframe tbody tr th:only-of-type {\n",
       "        vertical-align: middle;\n",
       "    }\n",
       "\n",
       "    .dataframe tbody tr th {\n",
       "        vertical-align: top;\n",
       "    }\n",
       "\n",
       "    .dataframe thead th {\n",
       "        text-align: right;\n",
       "    }\n",
       "</style>\n",
       "<table border=\"1\" class=\"dataframe\">\n",
       "  <thead>\n",
       "    <tr style=\"text-align: right;\">\n",
       "      <th></th>\n",
       "      <th>name</th>\n",
       "      <th>platform</th>\n",
       "      <th>year_of_release</th>\n",
       "      <th>genre</th>\n",
       "      <th>na_sales</th>\n",
       "      <th>eu_sales</th>\n",
       "      <th>jp_sales</th>\n",
       "      <th>other_sales</th>\n",
       "      <th>critic_score</th>\n",
       "      <th>user_score</th>\n",
       "      <th>rating</th>\n",
       "    </tr>\n",
       "  </thead>\n",
       "  <tbody>\n",
       "    <tr>\n",
       "      <th>0</th>\n",
       "      <td>Wii Sports</td>\n",
       "      <td>Wii</td>\n",
       "      <td>2006</td>\n",
       "      <td>Sports</td>\n",
       "      <td>41.36</td>\n",
       "      <td>28.96</td>\n",
       "      <td>3.77</td>\n",
       "      <td>8.45</td>\n",
       "      <td>76.0</td>\n",
       "      <td>8.0</td>\n",
       "      <td>E</td>\n",
       "    </tr>\n",
       "    <tr>\n",
       "      <th>1</th>\n",
       "      <td>Super Mario Bros.</td>\n",
       "      <td>NES</td>\n",
       "      <td>1985</td>\n",
       "      <td>Platform</td>\n",
       "      <td>29.08</td>\n",
       "      <td>3.58</td>\n",
       "      <td>6.81</td>\n",
       "      <td>0.77</td>\n",
       "      <td>NaN</td>\n",
       "      <td>NaN</td>\n",
       "      <td>NaN</td>\n",
       "    </tr>\n",
       "    <tr>\n",
       "      <th>2</th>\n",
       "      <td>Mario Kart Wii</td>\n",
       "      <td>Wii</td>\n",
       "      <td>2008</td>\n",
       "      <td>Racing</td>\n",
       "      <td>15.68</td>\n",
       "      <td>12.76</td>\n",
       "      <td>3.79</td>\n",
       "      <td>3.29</td>\n",
       "      <td>82.0</td>\n",
       "      <td>8.3</td>\n",
       "      <td>E</td>\n",
       "    </tr>\n",
       "    <tr>\n",
       "      <th>3</th>\n",
       "      <td>Wii Sports Resort</td>\n",
       "      <td>Wii</td>\n",
       "      <td>2009</td>\n",
       "      <td>Sports</td>\n",
       "      <td>15.61</td>\n",
       "      <td>10.93</td>\n",
       "      <td>3.28</td>\n",
       "      <td>2.95</td>\n",
       "      <td>80.0</td>\n",
       "      <td>8.0</td>\n",
       "      <td>E</td>\n",
       "    </tr>\n",
       "    <tr>\n",
       "      <th>4</th>\n",
       "      <td>Pokemon Red/Pokemon Blue</td>\n",
       "      <td>GB</td>\n",
       "      <td>1996</td>\n",
       "      <td>Role-Playing</td>\n",
       "      <td>11.27</td>\n",
       "      <td>8.89</td>\n",
       "      <td>10.22</td>\n",
       "      <td>1.00</td>\n",
       "      <td>NaN</td>\n",
       "      <td>NaN</td>\n",
       "      <td>NaN</td>\n",
       "    </tr>\n",
       "    <tr>\n",
       "      <th>...</th>\n",
       "      <td>...</td>\n",
       "      <td>...</td>\n",
       "      <td>...</td>\n",
       "      <td>...</td>\n",
       "      <td>...</td>\n",
       "      <td>...</td>\n",
       "      <td>...</td>\n",
       "      <td>...</td>\n",
       "      <td>...</td>\n",
       "      <td>...</td>\n",
       "      <td>...</td>\n",
       "    </tr>\n",
       "    <tr>\n",
       "      <th>16710</th>\n",
       "      <td>Samurai Warriors: Sanada Maru</td>\n",
       "      <td>PS3</td>\n",
       "      <td>2016</td>\n",
       "      <td>Action</td>\n",
       "      <td>0.00</td>\n",
       "      <td>0.00</td>\n",
       "      <td>0.01</td>\n",
       "      <td>0.00</td>\n",
       "      <td>NaN</td>\n",
       "      <td>NaN</td>\n",
       "      <td>NaN</td>\n",
       "    </tr>\n",
       "    <tr>\n",
       "      <th>16711</th>\n",
       "      <td>LMA Manager 2007</td>\n",
       "      <td>X360</td>\n",
       "      <td>2006</td>\n",
       "      <td>Sports</td>\n",
       "      <td>0.00</td>\n",
       "      <td>0.01</td>\n",
       "      <td>0.00</td>\n",
       "      <td>0.00</td>\n",
       "      <td>NaN</td>\n",
       "      <td>NaN</td>\n",
       "      <td>NaN</td>\n",
       "    </tr>\n",
       "    <tr>\n",
       "      <th>16712</th>\n",
       "      <td>Haitaka no Psychedelica</td>\n",
       "      <td>PSV</td>\n",
       "      <td>2016</td>\n",
       "      <td>Adventure</td>\n",
       "      <td>0.00</td>\n",
       "      <td>0.00</td>\n",
       "      <td>0.01</td>\n",
       "      <td>0.00</td>\n",
       "      <td>NaN</td>\n",
       "      <td>NaN</td>\n",
       "      <td>NaN</td>\n",
       "    </tr>\n",
       "    <tr>\n",
       "      <th>16713</th>\n",
       "      <td>Spirits &amp; Spells</td>\n",
       "      <td>GBA</td>\n",
       "      <td>2003</td>\n",
       "      <td>Platform</td>\n",
       "      <td>0.01</td>\n",
       "      <td>0.00</td>\n",
       "      <td>0.00</td>\n",
       "      <td>0.00</td>\n",
       "      <td>NaN</td>\n",
       "      <td>NaN</td>\n",
       "      <td>NaN</td>\n",
       "    </tr>\n",
       "    <tr>\n",
       "      <th>16714</th>\n",
       "      <td>Winning Post 8 2016</td>\n",
       "      <td>PSV</td>\n",
       "      <td>2016</td>\n",
       "      <td>Simulation</td>\n",
       "      <td>0.00</td>\n",
       "      <td>0.00</td>\n",
       "      <td>0.01</td>\n",
       "      <td>0.00</td>\n",
       "      <td>NaN</td>\n",
       "      <td>NaN</td>\n",
       "      <td>NaN</td>\n",
       "    </tr>\n",
       "  </tbody>\n",
       "</table>\n",
       "<p>16446 rows × 11 columns</p>\n",
       "</div>"
      ],
      "text/plain": [
       "                                name platform  year_of_release         genre  \\\n",
       "0                         Wii Sports      Wii             2006        Sports   \n",
       "1                  Super Mario Bros.      NES             1985      Platform   \n",
       "2                     Mario Kart Wii      Wii             2008        Racing   \n",
       "3                  Wii Sports Resort      Wii             2009        Sports   \n",
       "4           Pokemon Red/Pokemon Blue       GB             1996  Role-Playing   \n",
       "...                              ...      ...              ...           ...   \n",
       "16710  Samurai Warriors: Sanada Maru      PS3             2016        Action   \n",
       "16711               LMA Manager 2007     X360             2006        Sports   \n",
       "16712        Haitaka no Psychedelica      PSV             2016     Adventure   \n",
       "16713               Spirits & Spells      GBA             2003      Platform   \n",
       "16714            Winning Post 8 2016      PSV             2016    Simulation   \n",
       "\n",
       "       na_sales  eu_sales  jp_sales  other_sales  critic_score  user_score  \\\n",
       "0         41.36     28.96      3.77         8.45          76.0         8.0   \n",
       "1         29.08      3.58      6.81         0.77           NaN         NaN   \n",
       "2         15.68     12.76      3.79         3.29          82.0         8.3   \n",
       "3         15.61     10.93      3.28         2.95          80.0         8.0   \n",
       "4         11.27      8.89     10.22         1.00           NaN         NaN   \n",
       "...         ...       ...       ...          ...           ...         ...   \n",
       "16710      0.00      0.00      0.01         0.00           NaN         NaN   \n",
       "16711      0.00      0.01      0.00         0.00           NaN         NaN   \n",
       "16712      0.00      0.00      0.01         0.00           NaN         NaN   \n",
       "16713      0.01      0.00      0.00         0.00           NaN         NaN   \n",
       "16714      0.00      0.00      0.01         0.00           NaN         NaN   \n",
       "\n",
       "      rating  \n",
       "0          E  \n",
       "1        NaN  \n",
       "2          E  \n",
       "3          E  \n",
       "4        NaN  \n",
       "...      ...  \n",
       "16710    NaN  \n",
       "16711    NaN  \n",
       "16712    NaN  \n",
       "16713    NaN  \n",
       "16714    NaN  \n",
       "\n",
       "[16446 rows x 11 columns]"
      ]
     },
     "metadata": {},
     "output_type": "display_data"
    }
   ],
   "source": [
    "# Dropped NaNs in year_of_release\n",
    "games.dropna(subset=['year_of_release'], inplace=True)\n",
    "display(games)"
   ]
  },
  {
   "cell_type": "code",
   "execution_count": 12,
   "metadata": {},
   "outputs": [],
   "source": [
    "# Handling missing values in the 'year_of_release' column\n",
    "games['year_of_release'].fillna(-1, inplace=True)\n",
    "games['year_of_release'] = games['year_of_release'].astype(int)"
   ]
  },
  {
   "cell_type": "code",
   "execution_count": 13,
   "metadata": {},
   "outputs": [
    {
     "data": {
      "text/plain": [
       "array([8. , nan, 8.3, 8.5, 6.6, 8.4, 8.6, 7.7, 6.3, 7.4, 8.2, 9. , 7.9,\n",
       "       8.1, 8.7, 7.1, 3.4, 5.3, 4.8, 3.2, 8.9, 6.4, 7.8, 7.5, 2.6, 7.2,\n",
       "       9.2, 7. , 7.3, 4.3, 7.6, 5.7, 5. , 9.1, 6.5, 8.8, 6.9, 9.4, 6.8,\n",
       "       6.1, 6.7, 5.4, 4. , 4.9, 4.5, 9.3, 6.2, 4.2, 6. , 3.7, 4.1, 5.8,\n",
       "       5.6, 5.5, 4.4, 4.6, 5.9, 3.9, 3.1, 2.9, 5.2, 3.3, 4.7, 5.1, 3.5,\n",
       "       2.5, 1.9, 3. , 2.7, 2.2, 2. , 9.5, 2.1, 3.6, 2.8, 1.8, 3.8, 0. ,\n",
       "       1.6, 9.6, 2.4, 1.7, 1.1, 0.3, 1.5, 0.7, 1.2, 2.3, 0.5, 1.3, 0.2,\n",
       "       0.6, 1.4, 0.9, 1. , 9.7])"
      ]
     },
     "execution_count": 13,
     "metadata": {},
     "output_type": "execute_result"
    }
   ],
   "source": [
    "# Returning an array containing all unique values present in the 'user_score' column\n",
    "games['user_score'].unique()"
   ]
  },
  {
   "cell_type": "code",
   "execution_count": 14,
   "metadata": {},
   "outputs": [
    {
     "data": {
      "text/plain": [
       "None"
      ]
     },
     "metadata": {},
     "output_type": "display_data"
    }
   ],
   "source": [
    "# This displays the count of occurrences of the value 'tbd' in the 'user_score' column\n",
    "tbd_count = games['user_score'].value_counts().get('tbd')\n",
    "display(tbd_count) "
   ]
  },
  {
   "cell_type": "code",
   "execution_count": 15,
   "metadata": {
    "scrolled": false
   },
   "outputs": [
    {
     "data": {
      "text/html": [
       "<div>\n",
       "<style scoped>\n",
       "    .dataframe tbody tr th:only-of-type {\n",
       "        vertical-align: middle;\n",
       "    }\n",
       "\n",
       "    .dataframe tbody tr th {\n",
       "        vertical-align: top;\n",
       "    }\n",
       "\n",
       "    .dataframe thead th {\n",
       "        text-align: right;\n",
       "    }\n",
       "</style>\n",
       "<table border=\"1\" class=\"dataframe\">\n",
       "  <thead>\n",
       "    <tr style=\"text-align: right;\">\n",
       "      <th></th>\n",
       "      <th>name</th>\n",
       "      <th>platform</th>\n",
       "      <th>year_of_release</th>\n",
       "      <th>genre</th>\n",
       "      <th>na_sales</th>\n",
       "      <th>eu_sales</th>\n",
       "      <th>jp_sales</th>\n",
       "      <th>other_sales</th>\n",
       "      <th>critic_score</th>\n",
       "      <th>user_score</th>\n",
       "      <th>rating</th>\n",
       "      <th>total_sales</th>\n",
       "    </tr>\n",
       "  </thead>\n",
       "  <tbody>\n",
       "    <tr>\n",
       "      <th>0</th>\n",
       "      <td>Wii Sports</td>\n",
       "      <td>Wii</td>\n",
       "      <td>2006</td>\n",
       "      <td>Sports</td>\n",
       "      <td>41.36</td>\n",
       "      <td>28.96</td>\n",
       "      <td>3.77</td>\n",
       "      <td>8.45</td>\n",
       "      <td>76.0</td>\n",
       "      <td>8.0</td>\n",
       "      <td>E</td>\n",
       "      <td>82.54</td>\n",
       "    </tr>\n",
       "    <tr>\n",
       "      <th>1</th>\n",
       "      <td>Super Mario Bros.</td>\n",
       "      <td>NES</td>\n",
       "      <td>1985</td>\n",
       "      <td>Platform</td>\n",
       "      <td>29.08</td>\n",
       "      <td>3.58</td>\n",
       "      <td>6.81</td>\n",
       "      <td>0.77</td>\n",
       "      <td>NaN</td>\n",
       "      <td>NaN</td>\n",
       "      <td>NaN</td>\n",
       "      <td>40.24</td>\n",
       "    </tr>\n",
       "    <tr>\n",
       "      <th>2</th>\n",
       "      <td>Mario Kart Wii</td>\n",
       "      <td>Wii</td>\n",
       "      <td>2008</td>\n",
       "      <td>Racing</td>\n",
       "      <td>15.68</td>\n",
       "      <td>12.76</td>\n",
       "      <td>3.79</td>\n",
       "      <td>3.29</td>\n",
       "      <td>82.0</td>\n",
       "      <td>8.3</td>\n",
       "      <td>E</td>\n",
       "      <td>35.52</td>\n",
       "    </tr>\n",
       "    <tr>\n",
       "      <th>3</th>\n",
       "      <td>Wii Sports Resort</td>\n",
       "      <td>Wii</td>\n",
       "      <td>2009</td>\n",
       "      <td>Sports</td>\n",
       "      <td>15.61</td>\n",
       "      <td>10.93</td>\n",
       "      <td>3.28</td>\n",
       "      <td>2.95</td>\n",
       "      <td>80.0</td>\n",
       "      <td>8.0</td>\n",
       "      <td>E</td>\n",
       "      <td>32.77</td>\n",
       "    </tr>\n",
       "    <tr>\n",
       "      <th>4</th>\n",
       "      <td>Pokemon Red/Pokemon Blue</td>\n",
       "      <td>GB</td>\n",
       "      <td>1996</td>\n",
       "      <td>Role-Playing</td>\n",
       "      <td>11.27</td>\n",
       "      <td>8.89</td>\n",
       "      <td>10.22</td>\n",
       "      <td>1.00</td>\n",
       "      <td>NaN</td>\n",
       "      <td>NaN</td>\n",
       "      <td>NaN</td>\n",
       "      <td>31.38</td>\n",
       "    </tr>\n",
       "    <tr>\n",
       "      <th>...</th>\n",
       "      <td>...</td>\n",
       "      <td>...</td>\n",
       "      <td>...</td>\n",
       "      <td>...</td>\n",
       "      <td>...</td>\n",
       "      <td>...</td>\n",
       "      <td>...</td>\n",
       "      <td>...</td>\n",
       "      <td>...</td>\n",
       "      <td>...</td>\n",
       "      <td>...</td>\n",
       "      <td>...</td>\n",
       "    </tr>\n",
       "    <tr>\n",
       "      <th>16710</th>\n",
       "      <td>Samurai Warriors: Sanada Maru</td>\n",
       "      <td>PS3</td>\n",
       "      <td>2016</td>\n",
       "      <td>Action</td>\n",
       "      <td>0.00</td>\n",
       "      <td>0.00</td>\n",
       "      <td>0.01</td>\n",
       "      <td>0.00</td>\n",
       "      <td>NaN</td>\n",
       "      <td>NaN</td>\n",
       "      <td>NaN</td>\n",
       "      <td>0.01</td>\n",
       "    </tr>\n",
       "    <tr>\n",
       "      <th>16711</th>\n",
       "      <td>LMA Manager 2007</td>\n",
       "      <td>X360</td>\n",
       "      <td>2006</td>\n",
       "      <td>Sports</td>\n",
       "      <td>0.00</td>\n",
       "      <td>0.01</td>\n",
       "      <td>0.00</td>\n",
       "      <td>0.00</td>\n",
       "      <td>NaN</td>\n",
       "      <td>NaN</td>\n",
       "      <td>NaN</td>\n",
       "      <td>0.01</td>\n",
       "    </tr>\n",
       "    <tr>\n",
       "      <th>16712</th>\n",
       "      <td>Haitaka no Psychedelica</td>\n",
       "      <td>PSV</td>\n",
       "      <td>2016</td>\n",
       "      <td>Adventure</td>\n",
       "      <td>0.00</td>\n",
       "      <td>0.00</td>\n",
       "      <td>0.01</td>\n",
       "      <td>0.00</td>\n",
       "      <td>NaN</td>\n",
       "      <td>NaN</td>\n",
       "      <td>NaN</td>\n",
       "      <td>0.01</td>\n",
       "    </tr>\n",
       "    <tr>\n",
       "      <th>16713</th>\n",
       "      <td>Spirits &amp; Spells</td>\n",
       "      <td>GBA</td>\n",
       "      <td>2003</td>\n",
       "      <td>Platform</td>\n",
       "      <td>0.01</td>\n",
       "      <td>0.00</td>\n",
       "      <td>0.00</td>\n",
       "      <td>0.00</td>\n",
       "      <td>NaN</td>\n",
       "      <td>NaN</td>\n",
       "      <td>NaN</td>\n",
       "      <td>0.01</td>\n",
       "    </tr>\n",
       "    <tr>\n",
       "      <th>16714</th>\n",
       "      <td>Winning Post 8 2016</td>\n",
       "      <td>PSV</td>\n",
       "      <td>2016</td>\n",
       "      <td>Simulation</td>\n",
       "      <td>0.00</td>\n",
       "      <td>0.00</td>\n",
       "      <td>0.01</td>\n",
       "      <td>0.00</td>\n",
       "      <td>NaN</td>\n",
       "      <td>NaN</td>\n",
       "      <td>NaN</td>\n",
       "      <td>0.01</td>\n",
       "    </tr>\n",
       "  </tbody>\n",
       "</table>\n",
       "<p>16446 rows × 12 columns</p>\n",
       "</div>"
      ],
      "text/plain": [
       "                                name platform  year_of_release         genre  \\\n",
       "0                         Wii Sports      Wii             2006        Sports   \n",
       "1                  Super Mario Bros.      NES             1985      Platform   \n",
       "2                     Mario Kart Wii      Wii             2008        Racing   \n",
       "3                  Wii Sports Resort      Wii             2009        Sports   \n",
       "4           Pokemon Red/Pokemon Blue       GB             1996  Role-Playing   \n",
       "...                              ...      ...              ...           ...   \n",
       "16710  Samurai Warriors: Sanada Maru      PS3             2016        Action   \n",
       "16711               LMA Manager 2007     X360             2006        Sports   \n",
       "16712        Haitaka no Psychedelica      PSV             2016     Adventure   \n",
       "16713               Spirits & Spells      GBA             2003      Platform   \n",
       "16714            Winning Post 8 2016      PSV             2016    Simulation   \n",
       "\n",
       "       na_sales  eu_sales  jp_sales  other_sales  critic_score  user_score  \\\n",
       "0         41.36     28.96      3.77         8.45          76.0         8.0   \n",
       "1         29.08      3.58      6.81         0.77           NaN         NaN   \n",
       "2         15.68     12.76      3.79         3.29          82.0         8.3   \n",
       "3         15.61     10.93      3.28         2.95          80.0         8.0   \n",
       "4         11.27      8.89     10.22         1.00           NaN         NaN   \n",
       "...         ...       ...       ...          ...           ...         ...   \n",
       "16710      0.00      0.00      0.01         0.00           NaN         NaN   \n",
       "16711      0.00      0.01      0.00         0.00           NaN         NaN   \n",
       "16712      0.00      0.00      0.01         0.00           NaN         NaN   \n",
       "16713      0.01      0.00      0.00         0.00           NaN         NaN   \n",
       "16714      0.00      0.00      0.01         0.00           NaN         NaN   \n",
       "\n",
       "      rating  total_sales  \n",
       "0          E        82.54  \n",
       "1        NaN        40.24  \n",
       "2          E        35.52  \n",
       "3          E        32.77  \n",
       "4        NaN        31.38  \n",
       "...      ...          ...  \n",
       "16710    NaN         0.01  \n",
       "16711    NaN         0.01  \n",
       "16712    NaN         0.01  \n",
       "16713    NaN         0.01  \n",
       "16714    NaN         0.01  \n",
       "\n",
       "[16446 rows x 12 columns]"
      ]
     },
     "metadata": {},
     "output_type": "display_data"
    }
   ],
   "source": [
    "# Calculate the total sales (the sum of sales in all regions) for each game and put these values in a separate column.\n",
    "# List of columns representing sales in different regions\n",
    "sales_columns = ['na_sales', 'eu_sales', 'jp_sales', 'other_sales']\n",
    "\n",
    "# Calculate the total sales for each game\n",
    "games['total_sales'] = games[sales_columns].sum(axis=1)\n",
    "\n",
    "display(games)"
   ]
  },
  {
   "cell_type": "markdown",
   "metadata": {},
   "source": [
    "## Summary on preparing the data\n",
    "- I made all column names lowercase.\n",
    "- Datatypes were changed to better the dataframe flow. Name, platform, genre, and rating are all objects. Year of release is now an integer. Both scores and all sales are floats. \n",
    "- The number of NaNs in year_or_release is less than 2%. Rows were just dropped.\n",
    "- The total sales for all regions is now in its own column."
   ]
  },
  {
   "cell_type": "markdown",
   "metadata": {},
   "source": [
    "# Analyze the data"
   ]
  },
  {
   "cell_type": "code",
   "execution_count": 16,
   "metadata": {},
   "outputs": [
    {
     "data": {
      "text/plain": [
       "1980       9\n",
       "1981      46\n",
       "1982      36\n",
       "1983      17\n",
       "1984      14\n",
       "1985      14\n",
       "1986      21\n",
       "1987      16\n",
       "1988      15\n",
       "1989      17\n",
       "1990      16\n",
       "1991      41\n",
       "1992      43\n",
       "1993      62\n",
       "1994     121\n",
       "1995     219\n",
       "1996     263\n",
       "1997     289\n",
       "1998     379\n",
       "1999     338\n",
       "2000     350\n",
       "2001     482\n",
       "2002     829\n",
       "2003     775\n",
       "2004     762\n",
       "2005     939\n",
       "2006    1006\n",
       "2007    1197\n",
       "2008    1427\n",
       "2009    1426\n",
       "2010    1255\n",
       "2011    1136\n",
       "2012     653\n",
       "2013     544\n",
       "2014     581\n",
       "2015     606\n",
       "2016     502\n",
       "Name: year_of_release, dtype: int64"
      ]
     },
     "metadata": {},
     "output_type": "display_data"
    }
   ],
   "source": [
    "# Look at how many games were released in different years. Is the data for every period significant?\n",
    "# Replace 'year_of_release' with the actual column name if different\n",
    "yearly_game_counts = games['year_of_release'].value_counts()\n",
    "\n",
    "# Sort the counts by year\n",
    "yearly_game_counts = yearly_game_counts.sort_index()\n",
    "\n",
    "display(yearly_game_counts)"
   ]
  },
  {
   "cell_type": "code",
   "execution_count": 17,
   "metadata": {},
   "outputs": [
    {
     "data": {
      "image/png": "[encoded data removed]",
      "text/plain": [
       "<Figure size 1200x600 with 1 Axes>"
      ]
     },
     "metadata": {},
     "output_type": "display_data"
    }
   ],
   "source": [
    "plt.figure(figsize=(12, 6))\n",
    "sns.barplot(x=yearly_game_counts.index, y=yearly_game_counts.values, color='lightcyan')\n",
    "plt.title('Number of Games Released Each Year')\n",
    "plt.xlabel('Year')\n",
    "plt.ylabel('Number of Games Released')\n",
    "plt.xticks(rotation=45)\n",
    "plt.grid(axis='y', linestyle='--', alpha=1)\n",
    "plt.tight_layout()\n",
    "plt.show()"
   ]
  },
  {
   "cell_type": "code",
   "execution_count": 18,
   "metadata": {
    "scrolled": true
   },
   "outputs": [
    {
     "data": {
      "text/html": [
       "<div>\n",
       "<style scoped>\n",
       "    .dataframe tbody tr th:only-of-type {\n",
       "        vertical-align: middle;\n",
       "    }\n",
       "\n",
       "    .dataframe tbody tr th {\n",
       "        vertical-align: top;\n",
       "    }\n",
       "\n",
       "    .dataframe thead th {\n",
       "        text-align: right;\n",
       "    }\n",
       "</style>\n",
       "<table border=\"1\" class=\"dataframe\">\n",
       "  <thead>\n",
       "    <tr style=\"text-align: right;\">\n",
       "      <th></th>\n",
       "      <th>name</th>\n",
       "      <th>platform</th>\n",
       "      <th>year_of_release</th>\n",
       "      <th>genre</th>\n",
       "      <th>na_sales</th>\n",
       "      <th>eu_sales</th>\n",
       "      <th>jp_sales</th>\n",
       "      <th>other_sales</th>\n",
       "      <th>critic_score</th>\n",
       "      <th>user_score</th>\n",
       "      <th>rating</th>\n",
       "      <th>total_sales</th>\n",
       "    </tr>\n",
       "  </thead>\n",
       "  <tbody>\n",
       "    <tr>\n",
       "      <th>31</th>\n",
       "      <td>Call of Duty: Black Ops 3</td>\n",
       "      <td>PS4</td>\n",
       "      <td>2015</td>\n",
       "      <td>Shooter</td>\n",
       "      <td>6.03</td>\n",
       "      <td>5.86</td>\n",
       "      <td>0.36</td>\n",
       "      <td>2.38</td>\n",
       "      <td>NaN</td>\n",
       "      <td>NaN</td>\n",
       "      <td>NaN</td>\n",
       "      <td>14.63</td>\n",
       "    </tr>\n",
       "    <tr>\n",
       "      <th>42</th>\n",
       "      <td>Grand Theft Auto V</td>\n",
       "      <td>PS4</td>\n",
       "      <td>2014</td>\n",
       "      <td>Action</td>\n",
       "      <td>3.96</td>\n",
       "      <td>6.31</td>\n",
       "      <td>0.38</td>\n",
       "      <td>1.97</td>\n",
       "      <td>97.0</td>\n",
       "      <td>8.3</td>\n",
       "      <td>M</td>\n",
       "      <td>12.62</td>\n",
       "    </tr>\n",
       "    <tr>\n",
       "      <th>47</th>\n",
       "      <td>Pokemon Omega Ruby/Pokemon Alpha Sapphire</td>\n",
       "      <td>3DS</td>\n",
       "      <td>2014</td>\n",
       "      <td>Role-Playing</td>\n",
       "      <td>4.35</td>\n",
       "      <td>3.49</td>\n",
       "      <td>3.10</td>\n",
       "      <td>0.74</td>\n",
       "      <td>NaN</td>\n",
       "      <td>NaN</td>\n",
       "      <td>NaN</td>\n",
       "      <td>11.68</td>\n",
       "    </tr>\n",
       "    <tr>\n",
       "      <th>77</th>\n",
       "      <td>FIFA 16</td>\n",
       "      <td>PS4</td>\n",
       "      <td>2015</td>\n",
       "      <td>Sports</td>\n",
       "      <td>1.12</td>\n",
       "      <td>6.12</td>\n",
       "      <td>0.06</td>\n",
       "      <td>1.28</td>\n",
       "      <td>82.0</td>\n",
       "      <td>4.3</td>\n",
       "      <td>E</td>\n",
       "      <td>8.58</td>\n",
       "    </tr>\n",
       "    <tr>\n",
       "      <th>87</th>\n",
       "      <td>Star Wars Battlefront (2015)</td>\n",
       "      <td>PS4</td>\n",
       "      <td>2015</td>\n",
       "      <td>Shooter</td>\n",
       "      <td>2.99</td>\n",
       "      <td>3.49</td>\n",
       "      <td>0.22</td>\n",
       "      <td>1.28</td>\n",
       "      <td>NaN</td>\n",
       "      <td>NaN</td>\n",
       "      <td>NaN</td>\n",
       "      <td>7.98</td>\n",
       "    </tr>\n",
       "    <tr>\n",
       "      <th>...</th>\n",
       "      <td>...</td>\n",
       "      <td>...</td>\n",
       "      <td>...</td>\n",
       "      <td>...</td>\n",
       "      <td>...</td>\n",
       "      <td>...</td>\n",
       "      <td>...</td>\n",
       "      <td>...</td>\n",
       "      <td>...</td>\n",
       "      <td>...</td>\n",
       "      <td>...</td>\n",
       "      <td>...</td>\n",
       "    </tr>\n",
       "    <tr>\n",
       "      <th>16703</th>\n",
       "      <td>Strawberry Nauts</td>\n",
       "      <td>PSV</td>\n",
       "      <td>2016</td>\n",
       "      <td>Adventure</td>\n",
       "      <td>0.00</td>\n",
       "      <td>0.00</td>\n",
       "      <td>0.01</td>\n",
       "      <td>0.00</td>\n",
       "      <td>NaN</td>\n",
       "      <td>NaN</td>\n",
       "      <td>NaN</td>\n",
       "      <td>0.01</td>\n",
       "    </tr>\n",
       "    <tr>\n",
       "      <th>16707</th>\n",
       "      <td>Aiyoku no Eustia</td>\n",
       "      <td>PSV</td>\n",
       "      <td>2014</td>\n",
       "      <td>Misc</td>\n",
       "      <td>0.00</td>\n",
       "      <td>0.00</td>\n",
       "      <td>0.01</td>\n",
       "      <td>0.00</td>\n",
       "      <td>NaN</td>\n",
       "      <td>NaN</td>\n",
       "      <td>NaN</td>\n",
       "      <td>0.01</td>\n",
       "    </tr>\n",
       "    <tr>\n",
       "      <th>16710</th>\n",
       "      <td>Samurai Warriors: Sanada Maru</td>\n",
       "      <td>PS3</td>\n",
       "      <td>2016</td>\n",
       "      <td>Action</td>\n",
       "      <td>0.00</td>\n",
       "      <td>0.00</td>\n",
       "      <td>0.01</td>\n",
       "      <td>0.00</td>\n",
       "      <td>NaN</td>\n",
       "      <td>NaN</td>\n",
       "      <td>NaN</td>\n",
       "      <td>0.01</td>\n",
       "    </tr>\n",
       "    <tr>\n",
       "      <th>16712</th>\n",
       "      <td>Haitaka no Psychedelica</td>\n",
       "      <td>PSV</td>\n",
       "      <td>2016</td>\n",
       "      <td>Adventure</td>\n",
       "      <td>0.00</td>\n",
       "      <td>0.00</td>\n",
       "      <td>0.01</td>\n",
       "      <td>0.00</td>\n",
       "      <td>NaN</td>\n",
       "      <td>NaN</td>\n",
       "      <td>NaN</td>\n",
       "      <td>0.01</td>\n",
       "    </tr>\n",
       "    <tr>\n",
       "      <th>16714</th>\n",
       "      <td>Winning Post 8 2016</td>\n",
       "      <td>PSV</td>\n",
       "      <td>2016</td>\n",
       "      <td>Simulation</td>\n",
       "      <td>0.00</td>\n",
       "      <td>0.00</td>\n",
       "      <td>0.01</td>\n",
       "      <td>0.00</td>\n",
       "      <td>NaN</td>\n",
       "      <td>NaN</td>\n",
       "      <td>NaN</td>\n",
       "      <td>0.01</td>\n",
       "    </tr>\n",
       "  </tbody>\n",
       "</table>\n",
       "<p>1689 rows × 12 columns</p>\n",
       "</div>"
      ],
      "text/plain": [
       "                                            name platform  year_of_release  \\\n",
       "31                     Call of Duty: Black Ops 3      PS4             2015   \n",
       "42                            Grand Theft Auto V      PS4             2014   \n",
       "47     Pokemon Omega Ruby/Pokemon Alpha Sapphire      3DS             2014   \n",
       "77                                       FIFA 16      PS4             2015   \n",
       "87                  Star Wars Battlefront (2015)      PS4             2015   \n",
       "...                                          ...      ...              ...   \n",
       "16703                           Strawberry Nauts      PSV             2016   \n",
       "16707                           Aiyoku no Eustia      PSV             2014   \n",
       "16710              Samurai Warriors: Sanada Maru      PS3             2016   \n",
       "16712                    Haitaka no Psychedelica      PSV             2016   \n",
       "16714                        Winning Post 8 2016      PSV             2016   \n",
       "\n",
       "              genre  na_sales  eu_sales  jp_sales  other_sales  critic_score  \\\n",
       "31          Shooter      6.03      5.86      0.36         2.38           NaN   \n",
       "42           Action      3.96      6.31      0.38         1.97          97.0   \n",
       "47     Role-Playing      4.35      3.49      3.10         0.74           NaN   \n",
       "77           Sports      1.12      6.12      0.06         1.28          82.0   \n",
       "87          Shooter      2.99      3.49      0.22         1.28           NaN   \n",
       "...             ...       ...       ...       ...          ...           ...   \n",
       "16703     Adventure      0.00      0.00      0.01         0.00           NaN   \n",
       "16707          Misc      0.00      0.00      0.01         0.00           NaN   \n",
       "16710        Action      0.00      0.00      0.01         0.00           NaN   \n",
       "16712     Adventure      0.00      0.00      0.01         0.00           NaN   \n",
       "16714    Simulation      0.00      0.00      0.01         0.00           NaN   \n",
       "\n",
       "       user_score rating  total_sales  \n",
       "31            NaN    NaN        14.63  \n",
       "42            8.3      M        12.62  \n",
       "47            NaN    NaN        11.68  \n",
       "77            4.3      E         8.58  \n",
       "87            NaN    NaN         7.98  \n",
       "...           ...    ...          ...  \n",
       "16703         NaN    NaN         0.01  \n",
       "16707         NaN    NaN         0.01  \n",
       "16710         NaN    NaN         0.01  \n",
       "16712         NaN    NaN         0.01  \n",
       "16714         NaN    NaN         0.01  \n",
       "\n",
       "[1689 rows x 12 columns]"
      ]
     },
     "metadata": {},
     "output_type": "display_data"
    }
   ],
   "source": [
    "# Filtering games for entries from 2016 offering insights into trends in the gaming industry\n",
    "games = games.loc[games['year_of_release'] >= 2014]\n",
    "display(games)"
   ]
  },
  {
   "cell_type": "code",
   "execution_count": 19,
   "metadata": {},
   "outputs": [
    {
     "data": {
      "text/plain": [
       "count      37.000000\n",
       "mean      444.486486\n",
       "std       451.557159\n",
       "min         9.000000\n",
       "25%        36.000000\n",
       "50%       338.000000\n",
       "75%       762.000000\n",
       "max      1427.000000\n",
       "Name: year_of_release, dtype: float64"
      ]
     },
     "metadata": {},
     "output_type": "display_data"
    }
   ],
   "source": [
    "# Assess the significance of data for every period\n",
    "display(yearly_game_counts.describe())"
   ]
  },
  {
   "cell_type": "markdown",
   "metadata": {},
   "source": [
    "- The data for yearly game counts is very significant year by year. We see that in 1980 there was only 9 games release, while in 1994 it jumped to the hundreds. \n",
    "- The year 2014 was chosen to filter games for developmental insights."
   ]
  },
  {
   "cell_type": "code",
   "execution_count": 20,
   "metadata": {},
   "outputs": [
    {
     "name": "stdout",
     "output_type": "stream",
     "text": [
      "Total sales by platform (top platforms):\n"
     ]
    },
    {
     "data": {
      "text/plain": [
       "platform\n",
       "PS4     288.15\n",
       "XOne    140.36\n",
       "3DS      86.68\n",
       "PS3      68.18\n",
       "X360     48.22\n",
       "WiiU     42.98\n",
       "PC       27.05\n",
       "PSV      22.40\n",
       "Wii       5.07\n",
       "PSP       0.36\n",
       "Name: total_sales, dtype: float64"
      ]
     },
     "metadata": {},
     "output_type": "display_data"
    }
   ],
   "source": [
    "# Calculate total sales per platform\n",
    "platform_sales = games.groupby('platform')['total_sales'].sum().sort_values(ascending=False)\n",
    "\n",
    "print(\"Total sales by platform (top platforms):\")\n",
    "display(platform_sales.head(10))"
   ]
  },
  {
   "cell_type": "code",
   "execution_count": 21,
   "metadata": {},
   "outputs": [
    {
     "data": {
      "image/png": "[encoded data removed]",
      "text/plain": [
       "<Figure size 640x480 with 1 Axes>"
      ]
     },
     "metadata": {},
     "output_type": "display_data"
    }
   ],
   "source": [
    "# Bar plot of total sales for each platform \n",
    "games.groupby('platform')['total_sales'].sum().sort_values(ascending=False).plot(kind='bar',title='Total Sales for Each Platform')\n",
    "plt.show()"
   ]
  },
  {
   "cell_type": "markdown",
   "metadata": {},
   "source": [
    "- I have listed the total sales by platform for the top 10 gaming devices.\n",
    "- The total sales by platform are listed as well. The PS4 is leading with XOne and 3DS coming in second and third.\n",
    "- A bar plot is also shown for visuals."
   ]
  },
  {
   "cell_type": "code",
   "execution_count": 22,
   "metadata": {},
   "outputs": [
    {
     "data": {
      "image/png": "[encoded data removed]",
      "text/plain": [
       "<Figure size 1200x800 with 1 Axes>"
      ]
     },
     "metadata": {},
     "output_type": "display_data"
    }
   ],
   "source": [
    "# Build a box plot for the global sales of all games\n",
    "plt.figure(figsize=(12, 8))\n",
    "sns.boxplot(x='platform', y='total_sales', data=games)\n",
    "plt.title('Global Sales of Games by Platform')\n",
    "plt.xlabel('Platform')\n",
    "plt.ylabel('Global Sales (millions)')\n",
    "plt.xticks(rotation=45)\n",
    "\n",
    "plt.ylim(0, 3)\n",
    "\n",
    "plt.tight_layout()\n",
    "plt.show()"
   ]
  },
  {
   "cell_type": "code",
   "execution_count": 23,
   "metadata": {},
   "outputs": [
    {
     "data": {
      "image/png": "[encoded data removed]",
      "text/plain": [
       "<Figure size 1000x600 with 1 Axes>"
      ]
     },
     "metadata": {},
     "output_type": "display_data"
    }
   ],
   "source": [
    "# Filter data for PS4 platform (I chose a PS4 because that's what my brother used to play)\n",
    "platform = 'PS4'\n",
    "df_ps4 = games[games['platform'] == platform]\n",
    "\n",
    "# Drop rows with missing values in relevant columns\n",
    "df_ps4 = df_ps4.dropna(subset=['user_score', 'critic_score', 'total_sales'])\n",
    "\n",
    "# Create scatter plot\n",
    "plt.figure(figsize=(10, 6))\n",
    "plt.scatter(df_ps4['user_score'], df_ps4['total_sales'], label='user score')\n",
    "plt.scatter(df_ps4['critic_score'], df_ps4['total_sales'], label='critic score')\n",
    "plt.title(f'Sales vs Reviews for {platform}')\n",
    "plt.xlabel('Review Scores')\n",
    "plt.ylabel('Global Sales (millions)')\n",
    "plt.legend()\n",
    "plt.grid(True)\n",
    "plt.tight_layout()\n",
    "plt.show()"
   ]
  },
  {
   "cell_type": "code",
   "execution_count": 24,
   "metadata": {},
   "outputs": [
    {
     "name": "stdout",
     "output_type": "stream",
     "text": [
      "Correlation between User Score and Global Sales: -0.04318585997193634\n",
      "Correlation between Critic Score and Global Sales: 0.40190287811475334\n"
     ]
    }
   ],
   "source": [
    "# Calculate correlation coefficients\n",
    "correlation_user = df_ps4['user_score'].corr(df_ps4['total_sales'])\n",
    "correlation_critic = df_ps4['critic_score'].corr(df_ps4['total_sales'])\n",
    "\n",
    "print(f\"Correlation between User Score and Global Sales: {correlation_user}\")\n",
    "print(f\"Correlation between Critic Score and Global Sales: {correlation_critic}\")"
   ]
  },
  {
   "cell_type": "markdown",
   "metadata": {},
   "source": [
    "- A box plot of global sales of games by platform is included for visuals. \n",
    "- A scatter plot on sales verses reviews on a PS4 is shown. We are looking at user scores and critic scores. The distribution score isn't as spreaded out as much compared to critic score. \n",
    "- There is a negative correlation between user score and global sales.\n",
    "- There is a positive correlation between critic score and global sales. "
   ]
  },
  {
   "cell_type": "code",
   "execution_count": 25,
   "metadata": {},
   "outputs": [
    {
     "data": {
      "image/png": "[encoded data removed]",
      "text/plain": [
       "<Figure size 1200x600 with 1 Axes>"
      ]
     },
     "metadata": {},
     "output_type": "display_data"
    }
   ],
   "source": [
    "# Count the number of games in each genre\n",
    "genre_counts = games['genre'].value_counts()\n",
    "\n",
    "# Create a bar plot\n",
    "plt.figure(figsize=(12, 6))\n",
    "sns.barplot(x=genre_counts.index, y=genre_counts.values, palette='viridis')\n",
    "plt.title('Distribution of Games by Genre')\n",
    "plt.xlabel('Genre')\n",
    "plt.ylabel('Number of Games')\n",
    "plt.xticks(rotation=45)\n",
    "plt.tight_layout()\n",
    "plt.show()"
   ]
  },
  {
   "cell_type": "code",
   "execution_count": 26,
   "metadata": {},
   "outputs": [
    {
     "name": "stdout",
     "output_type": "stream",
     "text": [
      "Genres by Total Sales:\n"
     ]
    },
    {
     "data": {
      "text/plain": [
       "genre\n",
       "Action          199.36\n",
       "Shooter         170.94\n",
       "Sports          109.48\n",
       "Role-Playing    101.44\n",
       "Misc             37.55\n",
       "Fighting         28.22\n",
       "Racing           27.52\n",
       "Platform         18.09\n",
       "Adventure        17.55\n",
       "Simulation       13.13\n",
       "Strategy          3.96\n",
       "Puzzle            2.21\n",
       "Name: total_sales, dtype: float64"
      ]
     },
     "metadata": {},
     "output_type": "display_data"
    },
    {
     "name": "stdout",
     "output_type": "stream",
     "text": [
      "\n",
      "Genres by Average Sales:\n"
     ]
    },
    {
     "data": {
      "text/plain": [
       "genre\n",
       "Shooter         1.335469\n",
       "Sports          0.680000\n",
       "Platform        0.476053\n",
       "Fighting        0.470333\n",
       "Role-Playing    0.459005\n",
       "Racing          0.398841\n",
       "Misc            0.332301\n",
       "Action          0.322068\n",
       "Simulation      0.298409\n",
       "Puzzle          0.157857\n",
       "Strategy        0.107027\n",
       "Adventure       0.094865\n",
       "Name: total_sales, dtype: float64"
      ]
     },
     "metadata": {},
     "output_type": "display_data"
    }
   ],
   "source": [
    "# Calculate total global sales by genre\n",
    "genre_sales = games.groupby('genre')['total_sales'].sum().sort_values(ascending=False)\n",
    "\n",
    "# Calculate average global sales by genre\n",
    "genre_avg_sales = games.groupby('genre')['total_sales'].mean().sort_values(ascending=False)\n",
    "\n",
    "# Print top genres by total sales and average sales\n",
    "print(\"Genres by Total Sales:\")\n",
    "display(genre_sales)\n",
    "\n",
    "print(\"\\nGenres by Average Sales:\")\n",
    "display(genre_avg_sales)"
   ]
  },
  {
   "cell_type": "code",
   "execution_count": 27,
   "metadata": {},
   "outputs": [
    {
     "data": {
      "image/png": "[encoded data removed]",
      "text/plain": [
       "<Figure size 1200x800 with 1 Axes>"
      ]
     },
     "metadata": {},
     "output_type": "display_data"
    }
   ],
   "source": [
    "# Boxplot for genres by total_sales\n",
    "plt.figure(figsize=(12, 8))\n",
    "sns.boxplot(x='genre', y='total_sales', data=games)\n",
    "plt.title('Total Sales of Games by Genre')\n",
    "plt.xlabel('Genre')\n",
    "plt.ylabel('Total Sales (millions)')\n",
    "plt.xticks(rotation=45)\n",
    "plt.tight_layout()\n",
    "plt.ylim(0, 3)\n",
    "\n",
    "plt.show()"
   ]
  },
  {
   "cell_type": "markdown",
   "metadata": {},
   "source": [
    "I added a boxplot of total sales broken down by genres."
   ]
  },
  {
   "cell_type": "markdown",
   "metadata": {},
   "source": [
    "- There are over 175 games for the action genre with adventure and role playing coming in a close second and third. \n",
    "- In the genres by total sales, the top three are shooter, action, and sports games.\n",
    "- In the genres by average sales, the leading genre is still shooting. Second is sports and third is role playing games. "
   ]
  },
  {
   "cell_type": "markdown",
   "metadata": {},
   "source": [
    "## NA sales data"
   ]
  },
  {
   "cell_type": "code",
   "execution_count": 28,
   "metadata": {},
   "outputs": [
    {
     "name": "stdout",
     "output_type": "stream",
     "text": [
      "Top 5 Platforms by NA Sales:\n"
     ]
    },
    {
     "data": {
      "text/plain": [
       "platform\n",
       "PS4     98.61\n",
       "XOne    81.27\n",
       "X360    28.30\n",
       "3DS     22.64\n",
       "PS3     22.05\n",
       "Name: na_sales, dtype: float64"
      ]
     },
     "metadata": {},
     "output_type": "display_data"
    }
   ],
   "source": [
    "# Group by platform and sum na_sales\n",
    "platform_na_sales = games.groupby('platform')['na_sales'].sum()\n",
    "\n",
    "# Sort \n",
    "top_5_platforms_na = platform_na_sales.sort_values(ascending=False).head(5)\n",
    "\n",
    "print(\"Top 5 Platforms by NA Sales:\")\n",
    "display(top_5_platforms_na)"
   ]
  },
  {
   "cell_type": "code",
   "execution_count": 29,
   "metadata": {},
   "outputs": [
    {
     "data": {
      "image/png": "[encoded data removed]",
      "text/plain": [
       "<Figure size 800x800 with 1 Axes>"
      ]
     },
     "metadata": {},
     "output_type": "display_data"
    }
   ],
   "source": [
    "platforms = top_5_platforms_na.index\n",
    "sales = top_5_platforms_na.values\n",
    "colors = ['yellow', 'coral', 'blue', 'green', 'red']\n",
    "\n",
    "# Create a pie chart\n",
    "plt.figure(figsize=(8, 8))\n",
    "plt.pie(sales, labels=platforms, colors=colors, autopct='%1.1f%%', startangle=140)\n",
    "plt.title('Top 5 Platforms by NA Sales')\n",
    "plt.axis('equal')  \n",
    "plt.show()"
   ]
  },
  {
   "cell_type": "code",
   "execution_count": 30,
   "metadata": {
    "scrolled": true
   },
   "outputs": [
    {
     "name": "stdout",
     "output_type": "stream",
     "text": [
      "Top 5 Genres by NA Sales:\n"
     ]
    },
    {
     "data": {
      "text/plain": [
       "genre\n",
       "Shooter         79.02\n",
       "Action          72.53\n",
       "Sports          46.13\n",
       "Role-Playing    33.47\n",
       "Misc            15.05\n",
       "Name: na_sales, dtype: float64"
      ]
     },
     "metadata": {},
     "output_type": "display_data"
    }
   ],
   "source": [
    "# Group by genre and sum na_sales\n",
    "genre_na_sales = games.groupby('genre')['na_sales'].sum()\n",
    "\n",
    "# Sort \n",
    "top_5_genres_na = genre_na_sales.sort_values(ascending=False).head(5)\n",
    "\n",
    "print(\"Top 5 Genres by NA Sales:\")\n",
    "display(top_5_genres_na)"
   ]
  },
  {
   "cell_type": "code",
   "execution_count": 31,
   "metadata": {},
   "outputs": [
    {
     "data": {
      "image/png": "[encoded data removed]",
      "text/plain": [
       "<Figure size 1000x600 with 1 Axes>"
      ]
     },
     "metadata": {},
     "output_type": "display_data"
    }
   ],
   "source": [
    "genres = top_5_genres_na.index\n",
    "sales = top_5_genres_na.values\n",
    "\n",
    "plt.figure(figsize=(10, 6))\n",
    "plt.bar(genres, sales, color='pink')\n",
    "plt.xlabel('Genres')\n",
    "plt.ylabel('NA Sales (millions)')\n",
    "plt.title('Top 5 Genres by NA Sales')\n",
    "plt.xticks(rotation=45)\n",
    "\n",
    "plt.show()"
   ]
  },
  {
   "cell_type": "code",
   "execution_count": 32,
   "metadata": {},
   "outputs": [
    {
     "name": "stdout",
     "output_type": "stream",
     "text": [
      "Top Ratings by NA Sales:\n"
     ]
    },
    {
     "data": {
      "text/plain": [
       "rating\n",
       "M       96.42\n",
       "E       50.74\n",
       "T       38.95\n",
       "E10+    33.23\n",
       "Name: na_sales, dtype: float64"
      ]
     },
     "metadata": {},
     "output_type": "display_data"
    }
   ],
   "source": [
    "# Group by rating and sum na_sales\n",
    "rating_na_sales = games.groupby('rating')['na_sales'].sum()\n",
    "\n",
    "# Sort \n",
    "top_ratings_na = rating_na_sales.sort_values(ascending=False).head()\n",
    "\n",
    "print(\"Top Ratings by NA Sales:\")\n",
    "display(top_ratings_na)"
   ]
  },
  {
   "cell_type": "code",
   "execution_count": 33,
   "metadata": {},
   "outputs": [
    {
     "data": {
      "image/png": "[encoded data removed]",
      "text/plain": [
       "<Figure size 800x600 with 1 Axes>"
      ]
     },
     "metadata": {},
     "output_type": "display_data"
    }
   ],
   "source": [
    "ratings = top_ratings_na.index\n",
    "sales = top_ratings_na.values\n",
    "\n",
    "plt.figure(figsize=(8, 6))\n",
    "plt.bar(ratings, sales, color='purple')\n",
    "plt.xlabel('Ratings')\n",
    "plt.ylabel('NA Sales (millions)')\n",
    "plt.title('Top Ratings by NA Sales')\n",
    "\n",
    "plt.show()"
   ]
  },
  {
   "cell_type": "markdown",
   "metadata": {},
   "source": [
    "## EU sales data"
   ]
  },
  {
   "cell_type": "code",
   "execution_count": 34,
   "metadata": {},
   "outputs": [
    {
     "name": "stdout",
     "output_type": "stream",
     "text": [
      "Top 5 Platforms by EU Sales:\n"
     ]
    },
    {
     "data": {
      "text/plain": [
       "platform\n",
       "PS4     130.04\n",
       "XOne     46.25\n",
       "PS3      25.54\n",
       "PC       17.97\n",
       "3DS      16.12\n",
       "Name: eu_sales, dtype: float64"
      ]
     },
     "metadata": {},
     "output_type": "display_data"
    }
   ],
   "source": [
    "# Group by platform and sum eu_sales\n",
    "platform_eu_sales = games.groupby('platform')['eu_sales'].sum()\n",
    "\n",
    "# Sort \n",
    "top_5_platforms_eu = platform_eu_sales.sort_values(ascending=False).head(5)\n",
    "\n",
    "print(\"Top 5 Platforms by EU Sales:\")\n",
    "display(top_5_platforms_eu)"
   ]
  },
  {
   "cell_type": "code",
   "execution_count": 35,
   "metadata": {},
   "outputs": [
    {
     "data": {
      "image/png": "[encoded data removed]",
      "text/plain": [
       "<Figure size 800x800 with 1 Axes>"
      ]
     },
     "metadata": {},
     "output_type": "display_data"
    }
   ],
   "source": [
    "platforms = top_5_platforms_eu.index\n",
    "sales = top_5_platforms_eu.values\n",
    "colors = ['gold', 'lightskyblue', 'lightcoral', 'lightgreen', 'orange']\n",
    "\n",
    "# Create a pie chart\n",
    "plt.figure(figsize=(8, 8))\n",
    "plt.pie(sales, labels=platforms, colors=colors, autopct='%1.1f%%', startangle=140)\n",
    "plt.title('Top 5 Platforms by EU Sales')\n",
    "plt.axis('equal')  \n",
    "plt.show()"
   ]
  },
  {
   "cell_type": "code",
   "execution_count": 36,
   "metadata": {},
   "outputs": [
    {
     "name": "stdout",
     "output_type": "stream",
     "text": [
      "Top 5 Genres by EU Sales:\n"
     ]
    },
    {
     "data": {
      "text/plain": [
       "genre\n",
       "Action          74.68\n",
       "Shooter         65.52\n",
       "Sports          45.73\n",
       "Role-Playing    28.17\n",
       "Racing          14.13\n",
       "Name: eu_sales, dtype: float64"
      ]
     },
     "metadata": {},
     "output_type": "display_data"
    }
   ],
   "source": [
    "# Group by genre and sum eu_sales\n",
    "genre_eu_sales = games.groupby('genre')['eu_sales'].sum()\n",
    "\n",
    "# Sort \n",
    "top_5_genres_eu = genre_eu_sales.sort_values(ascending=False).head(5)\n",
    "\n",
    "print(\"Top 5 Genres by EU Sales:\")\n",
    "display(top_5_genres_eu)"
   ]
  },
  {
   "cell_type": "code",
   "execution_count": 37,
   "metadata": {},
   "outputs": [
    {
     "data": {
      "image/png": "[encoded data removed]",
      "text/plain": [
       "<Figure size 1000x600 with 1 Axes>"
      ]
     },
     "metadata": {},
     "output_type": "display_data"
    }
   ],
   "source": [
    "genres = top_5_genres_eu.index\n",
    "sales = top_5_genres_eu.values\n",
    "\n",
    "plt.figure(figsize=(10, 6))\n",
    "plt.barh(genres, sales, color='skyblue')\n",
    "plt.xlabel('EU Sales (millions)')\n",
    "plt.ylabel('Genres')\n",
    "plt.title('Top 5 Genres by EU Sales')\n",
    "\n",
    "plt.show()"
   ]
  },
  {
   "cell_type": "code",
   "execution_count": 38,
   "metadata": {},
   "outputs": [
    {
     "name": "stdout",
     "output_type": "stream",
     "text": [
      "Top Ratings by EU Sales:\n"
     ]
    },
    {
     "data": {
      "text/plain": [
       "rating\n",
       "M       93.44\n",
       "E       58.06\n",
       "T       34.07\n",
       "E10+    26.16\n",
       "Name: eu_sales, dtype: float64"
      ]
     },
     "metadata": {},
     "output_type": "display_data"
    }
   ],
   "source": [
    "# Group by rating and sum eu_sales\n",
    "rating_eu_sales = games.groupby('rating')['eu_sales'].sum()\n",
    "\n",
    "# Sort \n",
    "top_ratings_eu = rating_eu_sales.sort_values(ascending=False).head()\n",
    "\n",
    "print(\"Top Ratings by EU Sales:\")\n",
    "display(top_ratings_eu)"
   ]
  },
  {
   "cell_type": "code",
   "execution_count": 39,
   "metadata": {},
   "outputs": [
    {
     "data": {
      "image/png": "[encoded data removed]",
      "text/plain": [
       "<Figure size 800x600 with 1 Axes>"
      ]
     },
     "metadata": {},
     "output_type": "display_data"
    }
   ],
   "source": [
    "ratings = top_ratings_eu.index\n",
    "sales = top_ratings_eu.values\n",
    "\n",
    "plt.figure(figsize=(8, 6))\n",
    "plt.bar(ratings, sales, color='blue')\n",
    "plt.xlabel('Ratings')\n",
    "plt.ylabel('EU Sales (millions)')\n",
    "plt.title('Top Ratings by EU Sales')\n",
    "\n",
    "plt.show()"
   ]
  },
  {
   "cell_type": "markdown",
   "metadata": {},
   "source": [
    "## JP sales data"
   ]
  },
  {
   "cell_type": "code",
   "execution_count": 40,
   "metadata": {},
   "outputs": [
    {
     "name": "stdout",
     "output_type": "stream",
     "text": [
      "Top 5 Platforms by JP Sales:\n"
     ]
    },
    {
     "data": {
      "text/plain": [
       "platform\n",
       "3DS     44.24\n",
       "PS4     15.02\n",
       "PSV     14.54\n",
       "PS3     11.22\n",
       "WiiU     7.31\n",
       "Name: jp_sales, dtype: float64"
      ]
     },
     "metadata": {},
     "output_type": "display_data"
    }
   ],
   "source": [
    "# Group by platform and sum jp_sales\n",
    "platform_jp_sales = games.groupby('platform')['jp_sales'].sum()\n",
    "\n",
    "# Sort \n",
    "top_5_platforms_jp = platform_jp_sales.sort_values(ascending=False).head(5)\n",
    "\n",
    "print(\"Top 5 Platforms by JP Sales:\")\n",
    "display(top_5_platforms_jp)"
   ]
  },
  {
   "cell_type": "code",
   "execution_count": 41,
   "metadata": {},
   "outputs": [
    {
     "data": {
      "image/png": "[encoded data removed]",
      "text/plain": [
       "<Figure size 800x800 with 1 Axes>"
      ]
     },
     "metadata": {},
     "output_type": "display_data"
    }
   ],
   "source": [
    "platforms = top_5_platforms_jp.index\n",
    "sales = top_5_platforms_jp.values\n",
    "\n",
    "# Create a pie chart\n",
    "colors = ['lightpink', 'lightblue', 'yellow', 'mediumpurple', 'orange']\n",
    "plt.figure(figsize=(8, 8))\n",
    "plt.pie(sales, labels=platforms, colors=colors, autopct='%1.1f%%', startangle=140)\n",
    "plt.title('Top 5 Platforms by JP Sales')\n",
    "plt.axis('equal') \n",
    "plt.show()"
   ]
  },
  {
   "cell_type": "code",
   "execution_count": 42,
   "metadata": {},
   "outputs": [
    {
     "name": "stdout",
     "output_type": "stream",
     "text": [
      "Top 5 Genres by JP Sales:\n"
     ]
    },
    {
     "data": {
      "text/plain": [
       "genre\n",
       "Role-Playing    31.16\n",
       "Action          29.58\n",
       "Fighting         6.37\n",
       "Misc             5.61\n",
       "Shooter          4.87\n",
       "Name: jp_sales, dtype: float64"
      ]
     },
     "metadata": {},
     "output_type": "display_data"
    }
   ],
   "source": [
    "# Group by genre and sum jp_sales\n",
    "genre_jp_sales = games.groupby('genre')['jp_sales'].sum()\n",
    "\n",
    "# Sort \n",
    "top_5_genres_jp = genre_jp_sales.sort_values(ascending=False).head(5)\n",
    "\n",
    "print(\"Top 5 Genres by JP Sales:\")\n",
    "display(top_5_genres_jp)"
   ]
  },
  {
   "cell_type": "code",
   "execution_count": 43,
   "metadata": {},
   "outputs": [
    {
     "data": {
      "image/png": "[encoded data removed]",
      "text/plain": [
       "<Figure size 1000x600 with 1 Axes>"
      ]
     },
     "metadata": {},
     "output_type": "display_data"
    }
   ],
   "source": [
    "genres = top_5_genres_jp.index\n",
    "sales = top_5_genres_jp.values\n",
    "\n",
    "plt.figure(figsize=(10, 6))\n",
    "plt.bar(genres, sales, color='lightgreen')\n",
    "plt.xlabel('Genres')\n",
    "plt.ylabel('JP Sales (millions)')\n",
    "plt.title('Top 5 Genres by JP Sales')\n",
    "plt.xticks(rotation=45)\n",
    "\n",
    "plt.show()"
   ]
  },
  {
   "cell_type": "code",
   "execution_count": 44,
   "metadata": {},
   "outputs": [
    {
     "name": "stdout",
     "output_type": "stream",
     "text": [
      "Top Ratings by JP Sales:\n"
     ]
    },
    {
     "data": {
      "text/plain": [
       "rating\n",
       "T       14.78\n",
       "E        8.94\n",
       "M        8.01\n",
       "E10+     4.46\n",
       "Name: jp_sales, dtype: float64"
      ]
     },
     "metadata": {},
     "output_type": "display_data"
    }
   ],
   "source": [
    "# Group by rating and sum jp_sales\n",
    "rating_jp_sales = games.groupby('rating')['jp_sales'].sum()\n",
    "\n",
    "# Sort\n",
    "top_ratings_jp = rating_jp_sales.sort_values(ascending=False).head()\n",
    "\n",
    "print(\"Top Ratings by JP Sales:\")\n",
    "display(top_ratings_jp)"
   ]
  },
  {
   "cell_type": "code",
   "execution_count": 45,
   "metadata": {},
   "outputs": [
    {
     "data": {
      "image/png": "[encoded data removed]",
      "text/plain": [
       "<Figure size 800x600 with 1 Axes>"
      ]
     },
     "metadata": {},
     "output_type": "display_data"
    }
   ],
   "source": [
    "ratings = top_ratings_jp.index\n",
    "sales = top_ratings_jp.values\n",
    "\n",
    "plt.figure(figsize=(8, 6))\n",
    "plt.bar(ratings, sales, color='seagreen')\n",
    "plt.xlabel('Ratings')\n",
    "plt.ylabel('JP Sales (millions)')\n",
    "plt.title('Top Ratings by JP Sales')\n",
    "\n",
    "plt.show()"
   ]
  },
  {
   "cell_type": "markdown",
   "metadata": {},
   "source": [
    "- In the NA region, the top selling platform is the PS4. For the EU region it is the same; however, the EU region sells more than the NA region does. The JP region's top selling platform is the 3DS and it sells much less than the two other regions.\n",
    "- The top genre for both the NA and EU regions are shooter. The top genre for the JP region is action. \n",
    "- My hypothesis is that ESRB ratings are definitely affected by idividual sales. \n",
    "- Visuals for all sections have been included. "
   ]
  },
  {
   "cell_type": "markdown",
   "metadata": {},
   "source": [
    "# Testing the hypothesis"
   ]
  },
  {
   "cell_type": "code",
   "execution_count": 46,
   "metadata": {},
   "outputs": [
    {
     "name": "stdout",
     "output_type": "stream",
     "text": [
      "T-statistic: 1.6285882029651313\n",
      "P-value: 0.10450507919348415\n",
      "Fail to reject null hypothesis: Average user ratings of Xbox One and PC platforms are the same.\n"
     ]
    }
   ],
   "source": [
    "# Average user ratings of the Xbox One and PC platforms are the same\n",
    "\n",
    "# Filter data for Xbox One and PC platforms\n",
    "xbox_one_scores = games[games['platform'] == 'XOne']['user_score'].dropna().astype(float)\n",
    "pc_scores = games[games['platform'] == 'PC']['user_score'].dropna().astype(float)\n",
    "\n",
    "# Perform two-sample t-test\n",
    "t_statistic, p_value = st.ttest_ind(xbox_one_scores, pc_scores, equal_var=True)\n",
    "\n",
    "# Interpret results\n",
    "alpha = 0.05  # significance level\n",
    "print(f\"T-statistic: {t_statistic}\")\n",
    "print(f\"P-value: {p_value}\")\n",
    "\n",
    "if p_value < alpha:\n",
    "    print(\"Reject null hypothesis: Average user ratings of Xbox One and PC platforms are not the same.\")\n",
    "else:\n",
    "    print(\"Fail to reject null hypothesis: Average user ratings of Xbox One and PC platforms are the same.\")"
   ]
  },
  {
   "cell_type": "code",
   "execution_count": 47,
   "metadata": {},
   "outputs": [
    {
     "name": "stdout",
     "output_type": "stream",
     "text": [
      "T-statistic: 9.425173048948047\n",
      "P-value: 2.8711147985105864e-19\n",
      "Reject null hypothesis: Average user ratings for Action and Sports genres are different.\n"
     ]
    }
   ],
   "source": [
    "# Average user ratings for the Action and Sports genres are different\n",
    "\n",
    "# Filter data for Action and Sports genres\n",
    "action_scores = games[games['genre'] == 'Action']['user_score'].dropna().astype(float)\n",
    "sports_scores = games[games['genre'] == 'Sports']['user_score'].dropna().astype(float)\n",
    "\n",
    "# Perform two-sample t-test\n",
    "t_statistic, p_value = st.ttest_ind(action_scores, sports_scores, equal_var=True)\n",
    "\n",
    "# Interpret results\n",
    "alpha = 0.05  # significance level\n",
    "print(f\"T-statistic: {t_statistic}\")\n",
    "print(f\"P-value: {p_value}\")\n",
    "\n",
    "if p_value < alpha:\n",
    "    print(\"Reject null hypothesis: Average user ratings for Action and Sports genres are different.\")\n",
    "else:\n",
    "    print(\"Fail to reject null hypothesis: Average user ratings for Action and Sports genres are the same.\")\n"
   ]
  },
  {
   "cell_type": "markdown",
   "metadata": {},
   "source": [
    "# Overall Conclusion\n",
    "North America sells the most games with Europe coming in second. Japan comes in third, but overall they do not sell that much when you look at the numbers. Shooter, action, and sports are the top three genres for both North America and Europe; however, the order is a bit different. Japan's top genre's are completely different with action, role- playing, and adventure. "
   ]
  }
 ],
 "metadata": {
  "ExecuteTimeLog": [
   {
    "duration": 4895,
    "start_time": "2024-06-07T16:03:42.953Z"
   },
   {
    "duration": 54,
    "start_time": "2024-06-07T16:05:12.831Z"
   },
   {
    "duration": 22,
    "start_time": "2024-06-07T16:05:19.593Z"
   },
   {
    "duration": 27,
    "start_time": "2024-06-07T16:05:33.545Z"
   },
   {
    "duration": 36,
    "start_time": "2024-06-07T16:05:51.865Z"
   },
   {
    "duration": 19,
    "start_time": "2024-06-07T16:06:36.687Z"
   },
   {
    "duration": 18,
    "start_time": "2024-06-07T16:06:43.828Z"
   },
   {
    "duration": 21,
    "start_time": "2024-06-07T16:06:49.390Z"
   },
   {
    "duration": 18,
    "start_time": "2024-06-07T16:06:52.786Z"
   },
   {
    "duration": 25,
    "start_time": "2024-06-07T16:07:13.477Z"
   },
   {
    "duration": 31,
    "start_time": "2024-06-07T16:10:33.418Z"
   },
   {
    "duration": 1280,
    "start_time": "2024-06-07T16:12:48.668Z"
   },
   {
    "duration": 96,
    "start_time": "2024-06-07T16:13:26.009Z"
   },
   {
    "duration": 139,
    "start_time": "2024-06-07T16:56:11.423Z"
   },
   {
    "duration": 41,
    "start_time": "2024-06-07T16:56:14.704Z"
   },
   {
    "duration": 26,
    "start_time": "2024-06-07T16:57:40.319Z"
   },
   {
    "duration": 12,
    "start_time": "2024-06-07T16:59:26.958Z"
   },
   {
    "duration": 24,
    "start_time": "2024-06-07T17:00:00.143Z"
   },
   {
    "duration": 27,
    "start_time": "2024-06-07T17:06:45.687Z"
   },
   {
    "duration": 14,
    "start_time": "2024-06-07T17:24:00.630Z"
   },
   {
    "duration": 42,
    "start_time": "2024-06-07T17:24:41.841Z"
   },
   {
    "duration": 20,
    "start_time": "2024-06-07T17:24:46.943Z"
   },
   {
    "duration": 82,
    "start_time": "2024-06-07T17:27:28.954Z"
   },
   {
    "duration": 1398,
    "start_time": "2024-06-07T17:27:42.845Z"
   },
   {
    "duration": 38,
    "start_time": "2024-06-07T17:27:44.247Z"
   },
   {
    "duration": 19,
    "start_time": "2024-06-07T17:27:44.288Z"
   },
   {
    "duration": 55,
    "start_time": "2024-06-07T17:27:44.313Z"
   },
   {
    "duration": 17,
    "start_time": "2024-06-07T17:27:44.373Z"
   },
   {
    "duration": 43,
    "start_time": "2024-06-07T17:27:44.394Z"
   },
   {
    "duration": 13,
    "start_time": "2024-06-07T17:27:44.441Z"
   },
   {
    "duration": 21,
    "start_time": "2024-06-07T17:27:44.457Z"
   },
   {
    "duration": 70,
    "start_time": "2024-06-07T17:27:44.481Z"
   },
   {
    "duration": 1038,
    "start_time": "2024-06-07T17:27:44.553Z"
   },
   {
    "duration": 0,
    "start_time": "2024-06-07T17:27:45.594Z"
   },
   {
    "duration": 0,
    "start_time": "2024-06-07T17:27:45.597Z"
   },
   {
    "duration": 14,
    "start_time": "2024-06-07T17:28:34.971Z"
   },
   {
    "duration": 344,
    "start_time": "2024-06-08T18:36:01.428Z"
   },
   {
    "duration": 5152,
    "start_time": "2024-06-08T18:36:13.797Z"
   },
   {
    "duration": 68,
    "start_time": "2024-06-08T18:36:18.953Z"
   },
   {
    "duration": 23,
    "start_time": "2024-06-08T18:36:19.024Z"
   },
   {
    "duration": 45,
    "start_time": "2024-06-08T18:36:19.051Z"
   },
   {
    "duration": 18,
    "start_time": "2024-06-08T18:36:19.124Z"
   },
   {
    "duration": 19,
    "start_time": "2024-06-08T18:36:19.146Z"
   },
   {
    "duration": 14,
    "start_time": "2024-06-08T18:36:19.168Z"
   },
   {
    "duration": 20,
    "start_time": "2024-06-08T18:36:19.222Z"
   },
   {
    "duration": 32,
    "start_time": "2024-06-08T18:36:19.245Z"
   },
   {
    "duration": 1330,
    "start_time": "2024-06-08T18:36:19.283Z"
   },
   {
    "duration": 0,
    "start_time": "2024-06-08T18:36:20.623Z"
   },
   {
    "duration": 0,
    "start_time": "2024-06-08T18:36:20.625Z"
   },
   {
    "duration": 96,
    "start_time": "2024-06-08T18:36:30.183Z"
   },
   {
    "duration": 24,
    "start_time": "2024-06-08T18:36:46.948Z"
   },
   {
    "duration": 23,
    "start_time": "2024-06-08T18:37:44.376Z"
   },
   {
    "duration": 8,
    "start_time": "2024-06-08T18:37:50.931Z"
   },
   {
    "duration": 1457,
    "start_time": "2024-06-08T18:38:01.014Z"
   },
   {
    "duration": 49,
    "start_time": "2024-06-08T18:38:02.475Z"
   },
   {
    "duration": 20,
    "start_time": "2024-06-08T18:38:02.527Z"
   },
   {
    "duration": 40,
    "start_time": "2024-06-08T18:38:02.550Z"
   },
   {
    "duration": 43,
    "start_time": "2024-06-08T18:38:02.594Z"
   },
   {
    "duration": 18,
    "start_time": "2024-06-08T18:38:02.641Z"
   },
   {
    "duration": 16,
    "start_time": "2024-06-08T18:38:02.662Z"
   },
   {
    "duration": 57,
    "start_time": "2024-06-08T18:38:02.681Z"
   },
   {
    "duration": 38,
    "start_time": "2024-06-08T18:38:02.741Z"
   },
   {
    "duration": 56,
    "start_time": "2024-06-08T18:38:02.783Z"
   },
   {
    "duration": 23,
    "start_time": "2024-06-08T18:38:02.841Z"
   },
   {
    "duration": 8,
    "start_time": "2024-06-08T18:38:02.866Z"
   },
   {
    "duration": 324,
    "start_time": "2024-06-09T05:43:29.993Z"
   },
   {
    "duration": 5400,
    "start_time": "2024-06-09T05:43:43.612Z"
   },
   {
    "duration": 70,
    "start_time": "2024-06-09T05:43:49.016Z"
   },
   {
    "duration": 22,
    "start_time": "2024-06-09T05:43:49.091Z"
   },
   {
    "duration": 43,
    "start_time": "2024-06-09T05:43:49.123Z"
   },
   {
    "duration": 19,
    "start_time": "2024-06-09T05:43:49.170Z"
   },
   {
    "duration": 45,
    "start_time": "2024-06-09T05:43:49.193Z"
   },
   {
    "duration": 13,
    "start_time": "2024-06-09T05:43:49.241Z"
   },
   {
    "duration": 23,
    "start_time": "2024-06-09T05:43:49.257Z"
   },
   {
    "duration": 71,
    "start_time": "2024-06-09T05:43:49.283Z"
   },
   {
    "duration": 28,
    "start_time": "2024-06-09T05:43:49.360Z"
   },
   {
    "duration": 56,
    "start_time": "2024-06-09T05:43:49.391Z"
   },
   {
    "duration": 14,
    "start_time": "2024-06-09T05:43:49.451Z"
   },
   {
    "duration": 8,
    "start_time": "2024-06-09T05:53:41.190Z"
   },
   {
    "duration": 6,
    "start_time": "2024-06-09T05:55:26.590Z"
   },
   {
    "duration": 413,
    "start_time": "2024-06-09T05:55:37.109Z"
   },
   {
    "duration": 8,
    "start_time": "2024-06-09T05:55:43.575Z"
   },
   {
    "duration": 315,
    "start_time": "2024-06-10T15:12:13.624Z"
   },
   {
    "duration": 5140,
    "start_time": "2024-06-10T15:12:22.807Z"
   },
   {
    "duration": 52,
    "start_time": "2024-06-10T15:12:27.950Z"
   },
   {
    "duration": 22,
    "start_time": "2024-06-10T15:12:28.005Z"
   },
   {
    "duration": 40,
    "start_time": "2024-06-10T15:12:28.031Z"
   },
   {
    "duration": 43,
    "start_time": "2024-06-10T15:12:28.074Z"
   },
   {
    "duration": 18,
    "start_time": "2024-06-10T15:12:28.120Z"
   },
   {
    "duration": 16,
    "start_time": "2024-06-10T15:12:28.141Z"
   },
   {
    "duration": 55,
    "start_time": "2024-06-10T15:12:28.160Z"
   },
   {
    "duration": 32,
    "start_time": "2024-06-10T15:12:28.218Z"
   },
   {
    "duration": 53,
    "start_time": "2024-06-10T15:12:28.255Z"
   },
   {
    "duration": 22,
    "start_time": "2024-06-10T15:12:28.311Z"
   },
   {
    "duration": 12,
    "start_time": "2024-06-10T15:12:28.336Z"
   },
   {
    "duration": 8,
    "start_time": "2024-06-10T15:12:28.350Z"
   },
   {
    "duration": 8,
    "start_time": "2024-06-10T15:12:28.402Z"
   },
   {
    "duration": 6,
    "start_time": "2024-06-10T15:12:28.412Z"
   },
   {
    "duration": 1157,
    "start_time": "2024-06-10T15:12:28.420Z"
   },
   {
    "duration": 1406,
    "start_time": "2024-06-10T15:15:16.872Z"
   },
   {
    "duration": 51,
    "start_time": "2024-06-10T15:15:18.283Z"
   },
   {
    "duration": 22,
    "start_time": "2024-06-10T15:15:18.337Z"
   },
   {
    "duration": 60,
    "start_time": "2024-06-10T15:15:18.362Z"
   },
   {
    "duration": 19,
    "start_time": "2024-06-10T15:15:18.427Z"
   },
   {
    "duration": 19,
    "start_time": "2024-06-10T15:15:18.449Z"
   },
   {
    "duration": 40,
    "start_time": "2024-06-10T15:15:18.471Z"
   },
   {
    "duration": 19,
    "start_time": "2024-06-10T15:15:18.516Z"
   },
   {
    "duration": 30,
    "start_time": "2024-06-10T15:15:18.537Z"
   },
   {
    "duration": 26,
    "start_time": "2024-06-10T15:15:18.602Z"
   },
   {
    "duration": 22,
    "start_time": "2024-06-10T15:15:18.631Z"
   },
   {
    "duration": 46,
    "start_time": "2024-06-10T15:15:18.656Z"
   },
   {
    "duration": 5,
    "start_time": "2024-06-10T15:15:18.705Z"
   },
   {
    "duration": 8,
    "start_time": "2024-06-10T15:15:18.717Z"
   },
   {
    "duration": 8,
    "start_time": "2024-06-10T15:15:18.728Z"
   },
   {
    "duration": 1165,
    "start_time": "2024-06-10T15:15:18.739Z"
   },
   {
    "duration": 351,
    "start_time": "2024-06-10T15:16:32.201Z"
   },
   {
    "duration": 4,
    "start_time": "2024-06-10T15:20:31.262Z"
   },
   {
    "duration": 1408,
    "start_time": "2024-06-10T15:20:41.472Z"
   },
   {
    "duration": 46,
    "start_time": "2024-06-10T15:20:42.883Z"
   },
   {
    "duration": 19,
    "start_time": "2024-06-10T15:20:42.931Z"
   },
   {
    "duration": 62,
    "start_time": "2024-06-10T15:20:42.953Z"
   },
   {
    "duration": 18,
    "start_time": "2024-06-10T15:20:43.020Z"
   },
   {
    "duration": 20,
    "start_time": "2024-06-10T15:20:43.042Z"
   },
   {
    "duration": 43,
    "start_time": "2024-06-10T15:20:43.066Z"
   },
   {
    "duration": 19,
    "start_time": "2024-06-10T15:20:43.113Z"
   },
   {
    "duration": 68,
    "start_time": "2024-06-10T15:20:43.135Z"
   },
   {
    "duration": 26,
    "start_time": "2024-06-10T15:20:43.206Z"
   },
   {
    "duration": 28,
    "start_time": "2024-06-10T15:20:43.235Z"
   },
   {
    "duration": 40,
    "start_time": "2024-06-10T15:20:43.271Z"
   },
   {
    "duration": 6,
    "start_time": "2024-06-10T15:20:43.313Z"
   },
   {
    "duration": 8,
    "start_time": "2024-06-10T15:20:43.325Z"
   },
   {
    "duration": 7,
    "start_time": "2024-06-10T15:20:43.336Z"
   },
   {
    "duration": 5,
    "start_time": "2024-06-10T15:20:43.346Z"
   },
   {
    "duration": 491,
    "start_time": "2024-06-10T15:29:55.590Z"
   },
   {
    "duration": 609,
    "start_time": "2024-06-10T15:30:03.300Z"
   },
   {
    "duration": 8,
    "start_time": "2024-06-10T15:30:25.569Z"
   },
   {
    "duration": 8,
    "start_time": "2024-06-10T15:30:28.650Z"
   },
   {
    "duration": 1398,
    "start_time": "2024-06-10T15:30:36.616Z"
   },
   {
    "duration": 40,
    "start_time": "2024-06-10T15:30:38.017Z"
   },
   {
    "duration": 19,
    "start_time": "2024-06-10T15:30:38.059Z"
   },
   {
    "duration": 39,
    "start_time": "2024-06-10T15:30:38.102Z"
   },
   {
    "duration": 21,
    "start_time": "2024-06-10T15:30:38.145Z"
   },
   {
    "duration": 50,
    "start_time": "2024-06-10T15:30:38.169Z"
   },
   {
    "duration": 18,
    "start_time": "2024-06-10T15:30:38.221Z"
   },
   {
    "duration": 20,
    "start_time": "2024-06-10T15:30:38.242Z"
   },
   {
    "duration": 62,
    "start_time": "2024-06-10T15:30:38.264Z"
   },
   {
    "duration": 25,
    "start_time": "2024-06-10T15:30:38.329Z"
   },
   {
    "duration": 54,
    "start_time": "2024-06-10T15:30:38.358Z"
   },
   {
    "duration": 11,
    "start_time": "2024-06-10T15:30:38.415Z"
   },
   {
    "duration": 6,
    "start_time": "2024-06-10T15:30:38.429Z"
   },
   {
    "duration": 8,
    "start_time": "2024-06-10T15:30:38.441Z"
   },
   {
    "duration": 51,
    "start_time": "2024-06-10T15:30:38.452Z"
   },
   {
    "duration": 8,
    "start_time": "2024-06-10T15:30:38.506Z"
   },
   {
    "duration": 482,
    "start_time": "2024-06-10T15:44:50.200Z"
   },
   {
    "duration": 26,
    "start_time": "2024-06-10T15:54:08.780Z"
   },
   {
    "duration": 1547,
    "start_time": "2024-06-10T15:54:24.304Z"
   },
   {
    "duration": 47,
    "start_time": "2024-06-10T15:54:25.855Z"
   },
   {
    "duration": 23,
    "start_time": "2024-06-10T15:54:25.906Z"
   },
   {
    "duration": 45,
    "start_time": "2024-06-10T15:54:25.934Z"
   },
   {
    "duration": 21,
    "start_time": "2024-06-10T15:54:26.003Z"
   },
   {
    "duration": 18,
    "start_time": "2024-06-10T15:54:26.027Z"
   },
   {
    "duration": 14,
    "start_time": "2024-06-10T15:54:26.049Z"
   },
   {
    "duration": 24,
    "start_time": "2024-06-10T15:54:26.102Z"
   },
   {
    "duration": 37,
    "start_time": "2024-06-10T15:54:26.129Z"
   },
   {
    "duration": 60,
    "start_time": "2024-06-10T15:54:26.171Z"
   },
   {
    "duration": 23,
    "start_time": "2024-06-10T15:54:26.237Z"
   },
   {
    "duration": 40,
    "start_time": "2024-06-10T15:54:26.264Z"
   },
   {
    "duration": 11,
    "start_time": "2024-06-10T15:54:26.307Z"
   },
   {
    "duration": 12,
    "start_time": "2024-06-10T15:54:26.321Z"
   },
   {
    "duration": 11,
    "start_time": "2024-06-10T15:54:26.338Z"
   },
   {
    "duration": 66,
    "start_time": "2024-06-10T15:54:26.353Z"
   },
   {
    "duration": 309,
    "start_time": "2024-06-11T18:07:36.261Z"
   },
   {
    "duration": 5050,
    "start_time": "2024-06-11T18:07:43.900Z"
   },
   {
    "duration": 57,
    "start_time": "2024-06-11T18:07:48.954Z"
   },
   {
    "duration": 21,
    "start_time": "2024-06-11T18:07:49.014Z"
   },
   {
    "duration": 39,
    "start_time": "2024-06-11T18:07:49.040Z"
   },
   {
    "duration": 19,
    "start_time": "2024-06-11T18:07:49.107Z"
   },
   {
    "duration": 19,
    "start_time": "2024-06-11T18:07:49.129Z"
   },
   {
    "duration": 13,
    "start_time": "2024-06-11T18:07:49.151Z"
   },
   {
    "duration": 19,
    "start_time": "2024-06-11T18:07:49.205Z"
   },
   {
    "duration": 29,
    "start_time": "2024-06-11T18:07:49.229Z"
   },
   {
    "duration": 59,
    "start_time": "2024-06-11T18:07:49.262Z"
   },
   {
    "duration": 29,
    "start_time": "2024-06-11T18:07:49.325Z"
   },
   {
    "duration": 14,
    "start_time": "2024-06-11T18:07:49.357Z"
   },
   {
    "duration": 35,
    "start_time": "2024-06-11T18:07:49.375Z"
   },
   {
    "duration": 9,
    "start_time": "2024-06-11T18:07:49.414Z"
   },
   {
    "duration": 7,
    "start_time": "2024-06-11T18:07:49.426Z"
   },
   {
    "duration": 1607,
    "start_time": "2024-06-11T18:07:49.436Z"
   },
   {
    "duration": 22,
    "start_time": "2024-06-11T18:07:57.820Z"
   },
   {
    "duration": 27,
    "start_time": "2024-06-11T18:08:23.131Z"
   },
   {
    "duration": 8,
    "start_time": "2024-06-11T18:08:32.119Z"
   },
   {
    "duration": 6,
    "start_time": "2024-06-11T18:08:38.895Z"
   },
   {
    "duration": 11,
    "start_time": "2024-06-11T18:08:56.512Z"
   },
   {
    "duration": 11,
    "start_time": "2024-06-11T18:09:22.101Z"
   },
   {
    "duration": 311,
    "start_time": "2024-06-12T14:25:46.795Z"
   },
   {
    "duration": 5113,
    "start_time": "2024-06-12T14:25:53.913Z"
   },
   {
    "duration": 57,
    "start_time": "2024-06-12T14:25:59.030Z"
   },
   {
    "duration": 19,
    "start_time": "2024-06-12T14:25:59.090Z"
   },
   {
    "duration": 39,
    "start_time": "2024-06-12T14:25:59.115Z"
   },
   {
    "duration": 19,
    "start_time": "2024-06-12T14:25:59.158Z"
   },
   {
    "duration": 47,
    "start_time": "2024-06-12T14:25:59.180Z"
   },
   {
    "duration": 14,
    "start_time": "2024-06-12T14:25:59.231Z"
   },
   {
    "duration": 19,
    "start_time": "2024-06-12T14:25:59.248Z"
   },
   {
    "duration": 70,
    "start_time": "2024-06-12T14:25:59.270Z"
   },
   {
    "duration": 32,
    "start_time": "2024-06-12T14:25:59.346Z"
   },
   {
    "duration": 52,
    "start_time": "2024-06-12T14:25:59.382Z"
   },
   {
    "duration": 11,
    "start_time": "2024-06-12T14:25:59.438Z"
   },
   {
    "duration": 5,
    "start_time": "2024-06-12T14:25:59.452Z"
   },
   {
    "duration": 8,
    "start_time": "2024-06-12T14:25:59.461Z"
   },
   {
    "duration": 7,
    "start_time": "2024-06-12T14:25:59.514Z"
   },
   {
    "duration": 41,
    "start_time": "2024-06-12T14:25:59.525Z"
   },
   {
    "duration": 12,
    "start_time": "2024-06-12T14:55:20.174Z"
   },
   {
    "duration": 10,
    "start_time": "2024-06-12T14:55:35.956Z"
   },
   {
    "duration": 12,
    "start_time": "2024-06-12T14:55:48.613Z"
   },
   {
    "duration": 9,
    "start_time": "2024-06-12T14:55:56.102Z"
   },
   {
    "duration": 716,
    "start_time": "2024-06-12T15:00:09.091Z"
   },
   {
    "duration": 60,
    "start_time": "2024-06-12T15:00:34.287Z"
   },
   {
    "duration": 1457,
    "start_time": "2024-06-12T15:00:44.000Z"
   },
   {
    "duration": 39,
    "start_time": "2024-06-12T15:00:45.462Z"
   },
   {
    "duration": 19,
    "start_time": "2024-06-12T15:00:45.513Z"
   },
   {
    "duration": 40,
    "start_time": "2024-06-12T15:00:45.535Z"
   },
   {
    "duration": 46,
    "start_time": "2024-06-12T15:00:45.580Z"
   },
   {
    "duration": 19,
    "start_time": "2024-06-12T15:00:45.629Z"
   },
   {
    "duration": 14,
    "start_time": "2024-06-12T15:00:45.651Z"
   },
   {
    "duration": 53,
    "start_time": "2024-06-12T15:00:45.668Z"
   },
   {
    "duration": 29,
    "start_time": "2024-06-12T15:00:45.724Z"
   },
   {
    "duration": 59,
    "start_time": "2024-06-12T15:00:45.756Z"
   },
   {
    "duration": 23,
    "start_time": "2024-06-12T15:00:45.818Z"
   },
   {
    "duration": 12,
    "start_time": "2024-06-12T15:00:45.843Z"
   },
   {
    "duration": 6,
    "start_time": "2024-06-12T15:00:45.858Z"
   },
   {
    "duration": 7,
    "start_time": "2024-06-12T15:00:45.912Z"
   },
   {
    "duration": 7,
    "start_time": "2024-06-12T15:00:45.922Z"
   },
   {
    "duration": 32,
    "start_time": "2024-06-12T15:00:45.931Z"
   },
   {
    "duration": 47,
    "start_time": "2024-06-12T15:00:45.966Z"
   },
   {
    "duration": 10,
    "start_time": "2024-06-12T15:00:46.016Z"
   },
   {
    "duration": 741,
    "start_time": "2024-06-12T15:00:46.029Z"
   },
   {
    "duration": 45,
    "start_time": "2024-06-12T15:01:50.255Z"
   },
   {
    "duration": 12,
    "start_time": "2024-06-12T15:09:48.343Z"
   },
   {
    "duration": 10,
    "start_time": "2024-06-12T15:11:24.216Z"
   },
   {
    "duration": 41,
    "start_time": "2024-06-12T15:11:27.494Z"
   },
   {
    "duration": 9,
    "start_time": "2024-06-12T15:11:32.988Z"
   },
   {
    "duration": 9,
    "start_time": "2024-06-12T15:11:35.233Z"
   },
   {
    "duration": 18,
    "start_time": "2024-06-12T15:11:41.519Z"
   },
   {
    "duration": 5305,
    "start_time": "2024-06-12T18:54:53.671Z"
   },
   {
    "duration": 59,
    "start_time": "2024-06-12T18:54:58.980Z"
   },
   {
    "duration": 22,
    "start_time": "2024-06-12T18:54:59.041Z"
   },
   {
    "duration": 66,
    "start_time": "2024-06-12T18:54:59.068Z"
   },
   {
    "duration": 19,
    "start_time": "2024-06-12T18:54:59.137Z"
   },
   {
    "duration": 21,
    "start_time": "2024-06-12T18:54:59.160Z"
   },
   {
    "duration": 44,
    "start_time": "2024-06-12T18:54:59.184Z"
   },
   {
    "duration": 19,
    "start_time": "2024-06-12T18:54:59.231Z"
   },
   {
    "duration": 32,
    "start_time": "2024-06-12T18:54:59.253Z"
   },
   {
    "duration": 26,
    "start_time": "2024-06-12T18:54:59.323Z"
   },
   {
    "duration": 23,
    "start_time": "2024-06-12T18:54:59.352Z"
   },
   {
    "duration": 48,
    "start_time": "2024-06-12T18:54:59.378Z"
   },
   {
    "duration": 7,
    "start_time": "2024-06-12T18:54:59.430Z"
   },
   {
    "duration": 10,
    "start_time": "2024-06-12T18:54:59.442Z"
   },
   {
    "duration": 9,
    "start_time": "2024-06-12T18:54:59.457Z"
   },
   {
    "duration": 83,
    "start_time": "2024-06-12T18:54:59.470Z"
   },
   {
    "duration": 11,
    "start_time": "2024-06-12T18:54:59.556Z"
   },
   {
    "duration": 54,
    "start_time": "2024-06-12T18:54:59.570Z"
   },
   {
    "duration": 13,
    "start_time": "2024-06-12T18:54:59.627Z"
   },
   {
    "duration": 11,
    "start_time": "2024-06-12T18:54:59.644Z"
   },
   {
    "duration": 84,
    "start_time": "2024-06-12T18:54:59.658Z"
   },
   {
    "duration": 12,
    "start_time": "2024-06-12T18:54:59.747Z"
   },
   {
    "duration": 17,
    "start_time": "2024-06-12T18:54:59.762Z"
   },
   {
    "duration": 482,
    "start_time": "2024-06-12T18:56:03.682Z"
   },
   {
    "duration": 1442,
    "start_time": "2024-06-12T18:56:30.075Z"
   },
   {
    "duration": 40,
    "start_time": "2024-06-12T18:56:31.523Z"
   },
   {
    "duration": 19,
    "start_time": "2024-06-12T18:56:31.566Z"
   },
   {
    "duration": 64,
    "start_time": "2024-06-12T18:56:31.589Z"
   },
   {
    "duration": 21,
    "start_time": "2024-06-12T18:56:31.659Z"
   },
   {
    "duration": 41,
    "start_time": "2024-06-12T18:56:31.684Z"
   },
   {
    "duration": 13,
    "start_time": "2024-06-12T18:56:31.728Z"
   },
   {
    "duration": 21,
    "start_time": "2024-06-12T18:56:31.744Z"
   },
   {
    "duration": 71,
    "start_time": "2024-06-12T18:56:31.768Z"
   },
   {
    "duration": 26,
    "start_time": "2024-06-12T18:56:31.843Z"
   },
   {
    "duration": 52,
    "start_time": "2024-06-12T18:56:31.872Z"
   },
   {
    "duration": 12,
    "start_time": "2024-06-12T18:56:31.928Z"
   },
   {
    "duration": 7,
    "start_time": "2024-06-12T18:56:31.942Z"
   },
   {
    "duration": 7,
    "start_time": "2024-06-12T18:56:31.957Z"
   },
   {
    "duration": 58,
    "start_time": "2024-06-12T18:56:31.967Z"
   },
   {
    "duration": 33,
    "start_time": "2024-06-12T18:56:32.027Z"
   },
   {
    "duration": 9,
    "start_time": "2024-06-12T18:56:32.064Z"
   },
   {
    "duration": 49,
    "start_time": "2024-06-12T18:56:32.076Z"
   },
   {
    "duration": 13,
    "start_time": "2024-06-12T18:56:32.129Z"
   },
   {
    "duration": 9,
    "start_time": "2024-06-12T18:56:32.145Z"
   },
   {
    "duration": 77,
    "start_time": "2024-06-12T18:56:32.158Z"
   },
   {
    "duration": 11,
    "start_time": "2024-06-12T18:56:32.238Z"
   },
   {
    "duration": 17,
    "start_time": "2024-06-12T18:56:32.252Z"
   },
   {
    "duration": 537,
    "start_time": "2024-06-12T18:56:32.272Z"
   },
   {
    "duration": 43,
    "start_time": "2024-06-12T19:05:05.613Z"
   },
   {
    "duration": 45,
    "start_time": "2024-06-12T19:06:08.738Z"
   },
   {
    "duration": 38,
    "start_time": "2024-06-12T19:07:36.478Z"
   },
   {
    "duration": 1422,
    "start_time": "2024-06-12T19:07:57.677Z"
   },
   {
    "duration": 58,
    "start_time": "2024-06-12T19:07:59.104Z"
   },
   {
    "duration": 27,
    "start_time": "2024-06-12T19:07:59.165Z"
   },
   {
    "duration": 62,
    "start_time": "2024-06-12T19:07:59.195Z"
   },
   {
    "duration": 21,
    "start_time": "2024-06-12T19:07:59.263Z"
   },
   {
    "duration": 43,
    "start_time": "2024-06-12T19:07:59.288Z"
   },
   {
    "duration": 14,
    "start_time": "2024-06-12T19:07:59.335Z"
   },
   {
    "duration": 19,
    "start_time": "2024-06-12T19:07:59.354Z"
   },
   {
    "duration": 67,
    "start_time": "2024-06-12T19:07:59.376Z"
   },
   {
    "duration": 29,
    "start_time": "2024-06-12T19:07:59.446Z"
   },
   {
    "duration": 56,
    "start_time": "2024-06-12T19:07:59.479Z"
   },
   {
    "duration": 12,
    "start_time": "2024-06-12T19:07:59.538Z"
   },
   {
    "duration": 19,
    "start_time": "2024-06-12T19:07:59.553Z"
   },
   {
    "duration": 7,
    "start_time": "2024-06-12T19:07:59.579Z"
   },
   {
    "duration": 37,
    "start_time": "2024-06-12T19:07:59.590Z"
   },
   {
    "duration": 38,
    "start_time": "2024-06-12T19:07:59.631Z"
   },
   {
    "duration": 532,
    "start_time": "2024-06-12T19:07:59.673Z"
   },
   {
    "duration": 0,
    "start_time": "2024-06-12T19:08:00.208Z"
   },
   {
    "duration": 0,
    "start_time": "2024-06-12T19:08:00.210Z"
   },
   {
    "duration": 0,
    "start_time": "2024-06-12T19:08:00.212Z"
   },
   {
    "duration": 0,
    "start_time": "2024-06-12T19:08:00.213Z"
   },
   {
    "duration": 0,
    "start_time": "2024-06-12T19:08:00.222Z"
   },
   {
    "duration": 0,
    "start_time": "2024-06-12T19:08:00.225Z"
   },
   {
    "duration": 0,
    "start_time": "2024-06-12T19:08:00.228Z"
   },
   {
    "duration": 0,
    "start_time": "2024-06-12T19:08:00.231Z"
   },
   {
    "duration": 30,
    "start_time": "2024-06-12T19:09:17.282Z"
   },
   {
    "duration": 1481,
    "start_time": "2024-06-12T19:10:05.932Z"
   },
   {
    "duration": 50,
    "start_time": "2024-06-12T19:10:07.417Z"
   },
   {
    "duration": 22,
    "start_time": "2024-06-12T19:10:07.471Z"
   },
   {
    "duration": 71,
    "start_time": "2024-06-12T19:10:07.497Z"
   },
   {
    "duration": 19,
    "start_time": "2024-06-12T19:10:07.571Z"
   },
   {
    "duration": 39,
    "start_time": "2024-06-12T19:10:07.594Z"
   },
   {
    "duration": 14,
    "start_time": "2024-06-12T19:10:07.636Z"
   },
   {
    "duration": 19,
    "start_time": "2024-06-12T19:10:07.653Z"
   },
   {
    "duration": 72,
    "start_time": "2024-06-12T19:10:07.676Z"
   },
   {
    "duration": 27,
    "start_time": "2024-06-12T19:10:07.757Z"
   },
   {
    "duration": 50,
    "start_time": "2024-06-12T19:10:07.787Z"
   },
   {
    "duration": 13,
    "start_time": "2024-06-12T19:10:07.840Z"
   },
   {
    "duration": 5,
    "start_time": "2024-06-12T19:10:07.856Z"
   },
   {
    "duration": 8,
    "start_time": "2024-06-12T19:10:07.865Z"
   },
   {
    "duration": 50,
    "start_time": "2024-06-12T19:10:07.877Z"
   },
   {
    "duration": 34,
    "start_time": "2024-06-12T19:10:07.930Z"
   },
   {
    "duration": 11,
    "start_time": "2024-06-12T19:10:07.967Z"
   },
   {
    "duration": 48,
    "start_time": "2024-06-12T19:10:07.981Z"
   },
   {
    "duration": 49,
    "start_time": "2024-06-12T19:10:08.032Z"
   },
   {
    "duration": 22,
    "start_time": "2024-06-12T19:10:08.084Z"
   },
   {
    "duration": 36,
    "start_time": "2024-06-12T19:10:08.110Z"
   },
   {
    "duration": 10,
    "start_time": "2024-06-12T19:10:08.149Z"
   },
   {
    "duration": 16,
    "start_time": "2024-06-12T19:10:08.162Z"
   },
   {
    "duration": 558,
    "start_time": "2024-06-12T19:10:08.181Z"
   },
   {
    "duration": 0,
    "start_time": "2024-06-12T19:10:08.742Z"
   },
   {
    "duration": 23,
    "start_time": "2024-06-12T19:11:16.823Z"
   },
   {
    "duration": 11,
    "start_time": "2024-06-12T19:11:47.982Z"
   },
   {
    "duration": 12,
    "start_time": "2024-06-12T19:12:13.798Z"
   },
   {
    "duration": 25,
    "start_time": "2024-06-12T19:12:25.017Z"
   },
   {
    "duration": 36,
    "start_time": "2024-06-12T19:13:37.719Z"
   },
   {
    "duration": 39,
    "start_time": "2024-06-12T19:14:17.051Z"
   },
   {
    "duration": 17,
    "start_time": "2024-06-12T19:14:28.152Z"
   },
   {
    "duration": 45,
    "start_time": "2024-06-12T19:16:12.015Z"
   },
   {
    "duration": 52,
    "start_time": "2024-06-12T19:16:23.887Z"
   },
   {
    "duration": 43,
    "start_time": "2024-06-12T19:17:06.839Z"
   },
   {
    "duration": 10,
    "start_time": "2024-06-12T19:17:47.252Z"
   },
   {
    "duration": 8,
    "start_time": "2024-06-12T19:27:33.932Z"
   },
   {
    "duration": 12,
    "start_time": "2024-06-12T19:27:40.805Z"
   },
   {
    "duration": 1482,
    "start_time": "2024-06-12T19:28:15.035Z"
   },
   {
    "duration": 50,
    "start_time": "2024-06-12T19:28:16.522Z"
   },
   {
    "duration": 24,
    "start_time": "2024-06-12T19:28:16.576Z"
   },
   {
    "duration": 66,
    "start_time": "2024-06-12T19:28:16.625Z"
   },
   {
    "duration": 31,
    "start_time": "2024-06-12T19:28:16.698Z"
   },
   {
    "duration": 20,
    "start_time": "2024-06-12T19:28:16.732Z"
   },
   {
    "duration": 15,
    "start_time": "2024-06-12T19:28:16.756Z"
   },
   {
    "duration": 63,
    "start_time": "2024-06-12T19:28:16.775Z"
   },
   {
    "duration": 32,
    "start_time": "2024-06-12T19:28:16.841Z"
   },
   {
    "duration": 62,
    "start_time": "2024-06-12T19:28:16.877Z"
   },
   {
    "duration": 24,
    "start_time": "2024-06-12T19:28:16.942Z"
   },
   {
    "duration": 12,
    "start_time": "2024-06-12T19:28:16.969Z"
   },
   {
    "duration": 42,
    "start_time": "2024-06-12T19:28:16.985Z"
   },
   {
    "duration": 8,
    "start_time": "2024-06-12T19:28:17.034Z"
   },
   {
    "duration": 8,
    "start_time": "2024-06-12T19:28:17.046Z"
   },
   {
    "duration": 81,
    "start_time": "2024-06-12T19:28:17.058Z"
   },
   {
    "duration": 9,
    "start_time": "2024-06-12T19:28:17.142Z"
   },
   {
    "duration": 11,
    "start_time": "2024-06-12T19:28:17.154Z"
   },
   {
    "duration": 54,
    "start_time": "2024-06-12T19:28:17.169Z"
   },
   {
    "duration": 10,
    "start_time": "2024-06-12T19:28:17.226Z"
   },
   {
    "duration": 38,
    "start_time": "2024-06-12T19:28:17.240Z"
   },
   {
    "duration": 47,
    "start_time": "2024-06-12T19:28:17.282Z"
   },
   {
    "duration": 20,
    "start_time": "2024-06-12T19:28:17.333Z"
   },
   {
    "duration": 83,
    "start_time": "2024-06-12T19:28:17.357Z"
   },
   {
    "duration": 14,
    "start_time": "2024-06-12T19:28:17.443Z"
   },
   {
    "duration": 13,
    "start_time": "2024-06-12T19:28:51.790Z"
   },
   {
    "duration": 464,
    "start_time": "2024-06-14T22:56:25.728Z"
   },
   {
    "duration": 5249,
    "start_time": "2024-06-14T22:56:37.105Z"
   },
   {
    "duration": 66,
    "start_time": "2024-06-14T22:56:42.358Z"
   },
   {
    "duration": 22,
    "start_time": "2024-06-14T22:56:42.430Z"
   },
   {
    "duration": 71,
    "start_time": "2024-06-14T22:56:42.457Z"
   },
   {
    "duration": 22,
    "start_time": "2024-06-14T22:56:42.531Z"
   },
   {
    "duration": 20,
    "start_time": "2024-06-14T22:56:42.557Z"
   },
   {
    "duration": 15,
    "start_time": "2024-06-14T22:56:42.603Z"
   },
   {
    "duration": 23,
    "start_time": "2024-06-14T22:56:42.622Z"
   },
   {
    "duration": 63,
    "start_time": "2024-06-14T22:56:42.649Z"
   },
   {
    "duration": 25,
    "start_time": "2024-06-14T22:56:42.718Z"
   },
   {
    "duration": 58,
    "start_time": "2024-06-14T22:56:42.746Z"
   },
   {
    "duration": 13,
    "start_time": "2024-06-14T22:56:42.807Z"
   },
   {
    "duration": 7,
    "start_time": "2024-06-14T22:56:42.823Z"
   },
   {
    "duration": 8,
    "start_time": "2024-06-14T22:56:42.833Z"
   },
   {
    "duration": 8,
    "start_time": "2024-06-14T22:56:42.844Z"
   },
   {
    "duration": 79,
    "start_time": "2024-06-14T22:56:42.855Z"
   },
   {
    "duration": 14,
    "start_time": "2024-06-14T22:56:42.936Z"
   },
   {
    "duration": 12,
    "start_time": "2024-06-14T22:56:42.953Z"
   },
   {
    "duration": 14,
    "start_time": "2024-06-14T22:56:43.003Z"
   },
   {
    "duration": 10,
    "start_time": "2024-06-14T22:56:43.020Z"
   },
   {
    "duration": 73,
    "start_time": "2024-06-14T22:56:43.035Z"
   },
   {
    "duration": 10,
    "start_time": "2024-06-14T22:56:43.114Z"
   },
   {
    "duration": 16,
    "start_time": "2024-06-14T22:56:43.127Z"
   },
   {
    "duration": 73,
    "start_time": "2024-06-14T22:56:43.149Z"
   },
   {
    "duration": 15,
    "start_time": "2024-06-14T22:56:43.225Z"
   },
   {
    "duration": 65,
    "start_time": "2024-06-14T22:56:43.243Z"
   },
   {
    "duration": 16,
    "start_time": "2024-06-14T23:15:11.033Z"
   },
   {
    "duration": 16,
    "start_time": "2024-06-14T23:15:13.392Z"
   },
   {
    "duration": 8,
    "start_time": "2024-06-14T23:15:16.414Z"
   },
   {
    "duration": 17,
    "start_time": "2024-06-14T23:21:02.010Z"
   },
   {
    "duration": 34,
    "start_time": "2024-06-14T23:21:29.927Z"
   },
   {
    "duration": 1418,
    "start_time": "2024-06-14T23:21:39.948Z"
   },
   {
    "duration": 48,
    "start_time": "2024-06-14T23:21:41.370Z"
   },
   {
    "duration": 20,
    "start_time": "2024-06-14T23:21:41.423Z"
   },
   {
    "duration": 63,
    "start_time": "2024-06-14T23:21:41.448Z"
   },
   {
    "duration": 18,
    "start_time": "2024-06-14T23:21:41.516Z"
   },
   {
    "duration": 20,
    "start_time": "2024-06-14T23:21:41.537Z"
   },
   {
    "duration": 45,
    "start_time": "2024-06-14T23:21:41.561Z"
   },
   {
    "duration": 57,
    "start_time": "2024-06-14T23:21:41.610Z"
   },
   {
    "duration": 42,
    "start_time": "2024-06-14T23:21:41.670Z"
   },
   {
    "duration": 31,
    "start_time": "2024-06-14T23:21:41.715Z"
   },
   {
    "duration": 1894,
    "start_time": "2024-06-14T23:21:41.749Z"
   },
   {
    "duration": 0,
    "start_time": "2024-06-14T23:21:43.648Z"
   },
   {
    "duration": 0,
    "start_time": "2024-06-14T23:21:43.650Z"
   },
   {
    "duration": 0,
    "start_time": "2024-06-14T23:21:43.652Z"
   },
   {
    "duration": 0,
    "start_time": "2024-06-14T23:21:43.654Z"
   },
   {
    "duration": 0,
    "start_time": "2024-06-14T23:21:43.656Z"
   },
   {
    "duration": 0,
    "start_time": "2024-06-14T23:21:43.657Z"
   },
   {
    "duration": 0,
    "start_time": "2024-06-14T23:21:43.659Z"
   },
   {
    "duration": 0,
    "start_time": "2024-06-14T23:21:43.661Z"
   },
   {
    "duration": 0,
    "start_time": "2024-06-14T23:21:43.663Z"
   },
   {
    "duration": 0,
    "start_time": "2024-06-14T23:21:43.664Z"
   },
   {
    "duration": 0,
    "start_time": "2024-06-14T23:21:43.666Z"
   },
   {
    "duration": 0,
    "start_time": "2024-06-14T23:21:43.668Z"
   },
   {
    "duration": 0,
    "start_time": "2024-06-14T23:21:43.705Z"
   },
   {
    "duration": 0,
    "start_time": "2024-06-14T23:21:43.707Z"
   },
   {
    "duration": 0,
    "start_time": "2024-06-14T23:21:43.710Z"
   },
   {
    "duration": 0,
    "start_time": "2024-06-14T23:21:43.713Z"
   },
   {
    "duration": 0,
    "start_time": "2024-06-14T23:21:43.715Z"
   },
   {
    "duration": 0,
    "start_time": "2024-06-14T23:21:43.717Z"
   },
   {
    "duration": 0,
    "start_time": "2024-06-14T23:21:43.720Z"
   },
   {
    "duration": 1421,
    "start_time": "2024-06-14T23:25:02.127Z"
   },
   {
    "duration": 41,
    "start_time": "2024-06-14T23:25:03.553Z"
   },
   {
    "duration": 22,
    "start_time": "2024-06-14T23:25:03.603Z"
   },
   {
    "duration": 42,
    "start_time": "2024-06-14T23:25:03.629Z"
   },
   {
    "duration": 19,
    "start_time": "2024-06-14T23:25:03.704Z"
   },
   {
    "duration": 18,
    "start_time": "2024-06-14T23:25:03.727Z"
   },
   {
    "duration": 53,
    "start_time": "2024-06-14T23:25:03.748Z"
   },
   {
    "duration": 18,
    "start_time": "2024-06-14T23:25:03.805Z"
   },
   {
    "duration": 29,
    "start_time": "2024-06-14T23:25:03.827Z"
   },
   {
    "duration": 58,
    "start_time": "2024-06-14T23:25:03.863Z"
   },
   {
    "duration": 31,
    "start_time": "2024-06-14T23:25:03.924Z"
   },
   {
    "duration": 13,
    "start_time": "2024-06-14T23:25:03.958Z"
   },
   {
    "duration": 8,
    "start_time": "2024-06-14T23:25:04.002Z"
   },
   {
    "duration": 8,
    "start_time": "2024-06-14T23:25:04.014Z"
   },
   {
    "duration": 9,
    "start_time": "2024-06-14T23:25:04.025Z"
   },
   {
    "duration": 76,
    "start_time": "2024-06-14T23:25:04.037Z"
   },
   {
    "duration": 11,
    "start_time": "2024-06-14T23:25:04.116Z"
   },
   {
    "duration": 13,
    "start_time": "2024-06-14T23:25:04.130Z"
   },
   {
    "duration": 14,
    "start_time": "2024-06-14T23:25:04.147Z"
   },
   {
    "duration": 8,
    "start_time": "2024-06-14T23:25:04.202Z"
   },
   {
    "duration": 38,
    "start_time": "2024-06-14T23:25:04.213Z"
   },
   {
    "duration": 44,
    "start_time": "2024-06-14T23:25:04.258Z"
   },
   {
    "duration": 20,
    "start_time": "2024-06-14T23:25:04.305Z"
   },
   {
    "duration": 42,
    "start_time": "2024-06-14T23:25:04.328Z"
   },
   {
    "duration": 12,
    "start_time": "2024-06-14T23:25:04.402Z"
   },
   {
    "duration": 31,
    "start_time": "2024-06-14T23:25:04.418Z"
   },
   {
    "duration": 54,
    "start_time": "2024-06-14T23:25:04.452Z"
   },
   {
    "duration": 18,
    "start_time": "2024-06-14T23:25:04.513Z"
   },
   {
    "duration": 9,
    "start_time": "2024-06-14T23:25:04.534Z"
   },
   {
    "duration": 40,
    "start_time": "2024-06-14T23:25:21.183Z"
   },
   {
    "duration": 1443,
    "start_time": "2024-06-14T23:25:59.527Z"
   },
   {
    "duration": 56,
    "start_time": "2024-06-14T23:26:00.974Z"
   },
   {
    "duration": 20,
    "start_time": "2024-06-14T23:26:01.034Z"
   },
   {
    "duration": 67,
    "start_time": "2024-06-14T23:26:01.057Z"
   },
   {
    "duration": 22,
    "start_time": "2024-06-14T23:26:01.132Z"
   },
   {
    "duration": 45,
    "start_time": "2024-06-14T23:26:01.158Z"
   },
   {
    "duration": 14,
    "start_time": "2024-06-14T23:26:01.206Z"
   },
   {
    "duration": 25,
    "start_time": "2024-06-14T23:26:01.223Z"
   },
   {
    "duration": 65,
    "start_time": "2024-06-14T23:26:01.251Z"
   },
   {
    "duration": 31,
    "start_time": "2024-06-14T23:26:01.320Z"
   },
   {
    "duration": 3024,
    "start_time": "2024-06-14T23:26:01.354Z"
   },
   {
    "duration": 0,
    "start_time": "2024-06-14T23:26:04.382Z"
   },
   {
    "duration": 0,
    "start_time": "2024-06-14T23:26:04.385Z"
   },
   {
    "duration": 0,
    "start_time": "2024-06-14T23:26:04.401Z"
   },
   {
    "duration": 0,
    "start_time": "2024-06-14T23:26:04.404Z"
   },
   {
    "duration": 0,
    "start_time": "2024-06-14T23:26:04.405Z"
   },
   {
    "duration": 0,
    "start_time": "2024-06-14T23:26:04.409Z"
   },
   {
    "duration": 0,
    "start_time": "2024-06-14T23:26:04.411Z"
   },
   {
    "duration": 0,
    "start_time": "2024-06-14T23:26:04.412Z"
   },
   {
    "duration": 0,
    "start_time": "2024-06-14T23:26:04.416Z"
   },
   {
    "duration": 0,
    "start_time": "2024-06-14T23:26:04.417Z"
   },
   {
    "duration": 0,
    "start_time": "2024-06-14T23:26:04.420Z"
   },
   {
    "duration": 0,
    "start_time": "2024-06-14T23:26:04.422Z"
   },
   {
    "duration": 0,
    "start_time": "2024-06-14T23:26:04.425Z"
   },
   {
    "duration": 0,
    "start_time": "2024-06-14T23:26:04.427Z"
   },
   {
    "duration": 0,
    "start_time": "2024-06-14T23:26:04.430Z"
   },
   {
    "duration": 0,
    "start_time": "2024-06-14T23:26:04.432Z"
   },
   {
    "duration": 0,
    "start_time": "2024-06-14T23:26:04.434Z"
   },
   {
    "duration": 0,
    "start_time": "2024-06-14T23:26:04.436Z"
   },
   {
    "duration": 50,
    "start_time": "2024-06-14T23:29:06.353Z"
   },
   {
    "duration": 1596,
    "start_time": "2024-06-14T23:29:15.829Z"
   },
   {
    "duration": 42,
    "start_time": "2024-06-14T23:29:17.430Z"
   },
   {
    "duration": 40,
    "start_time": "2024-06-14T23:29:17.476Z"
   },
   {
    "duration": 57,
    "start_time": "2024-06-14T23:29:17.520Z"
   },
   {
    "duration": 39,
    "start_time": "2024-06-14T23:29:17.583Z"
   },
   {
    "duration": 28,
    "start_time": "2024-06-14T23:29:17.625Z"
   },
   {
    "duration": 50,
    "start_time": "2024-06-14T23:29:17.657Z"
   },
   {
    "duration": 21,
    "start_time": "2024-06-14T23:29:17.713Z"
   },
   {
    "duration": 37,
    "start_time": "2024-06-14T23:29:17.737Z"
   },
   {
    "duration": 27,
    "start_time": "2024-06-14T23:29:17.803Z"
   },
   {
    "duration": 70,
    "start_time": "2024-06-14T23:29:17.834Z"
   },
   {
    "duration": 16,
    "start_time": "2024-06-14T23:29:17.908Z"
   },
   {
    "duration": 6,
    "start_time": "2024-06-14T23:29:17.927Z"
   },
   {
    "duration": 8,
    "start_time": "2024-06-14T23:29:17.942Z"
   },
   {
    "duration": 60,
    "start_time": "2024-06-14T23:29:17.955Z"
   },
   {
    "duration": 37,
    "start_time": "2024-06-14T23:29:18.018Z"
   },
   {
    "duration": 9,
    "start_time": "2024-06-14T23:29:18.061Z"
   },
   {
    "duration": 30,
    "start_time": "2024-06-14T23:29:18.074Z"
   },
   {
    "duration": 15,
    "start_time": "2024-06-14T23:29:18.108Z"
   },
   {
    "duration": 12,
    "start_time": "2024-06-14T23:29:18.126Z"
   },
   {
    "duration": 97,
    "start_time": "2024-06-14T23:29:18.142Z"
   },
   {
    "duration": 10,
    "start_time": "2024-06-14T23:29:18.242Z"
   },
   {
    "duration": 27,
    "start_time": "2024-06-14T23:29:18.268Z"
   },
   {
    "duration": 37,
    "start_time": "2024-06-14T23:29:18.299Z"
   },
   {
    "duration": 16,
    "start_time": "2024-06-14T23:29:18.340Z"
   },
   {
    "duration": 62,
    "start_time": "2024-06-14T23:29:18.360Z"
   },
   {
    "duration": 18,
    "start_time": "2024-06-14T23:29:18.425Z"
   },
   {
    "duration": 60,
    "start_time": "2024-06-14T23:29:18.446Z"
   },
   {
    "duration": 8,
    "start_time": "2024-06-14T23:29:18.512Z"
   },
   {
    "duration": 326,
    "start_time": "2024-06-15T02:06:37.461Z"
   },
   {
    "duration": 5039,
    "start_time": "2024-06-15T02:06:44.292Z"
   },
   {
    "duration": 56,
    "start_time": "2024-06-15T02:06:49.334Z"
   },
   {
    "duration": 21,
    "start_time": "2024-06-15T02:06:49.393Z"
   },
   {
    "duration": 41,
    "start_time": "2024-06-15T02:06:49.418Z"
   },
   {
    "duration": 18,
    "start_time": "2024-06-15T02:06:49.461Z"
   },
   {
    "duration": 47,
    "start_time": "2024-06-15T02:06:49.482Z"
   },
   {
    "duration": 13,
    "start_time": "2024-06-15T02:06:49.531Z"
   },
   {
    "duration": 19,
    "start_time": "2024-06-15T02:06:49.547Z"
   },
   {
    "duration": 72,
    "start_time": "2024-06-15T02:06:49.568Z"
   },
   {
    "duration": 30,
    "start_time": "2024-06-15T02:06:49.647Z"
   },
   {
    "duration": 74,
    "start_time": "2024-06-15T02:06:49.680Z"
   },
   {
    "duration": 13,
    "start_time": "2024-06-15T02:06:49.757Z"
   },
   {
    "duration": 6,
    "start_time": "2024-06-15T02:06:49.774Z"
   },
   {
    "duration": 7,
    "start_time": "2024-06-15T02:06:49.814Z"
   },
   {
    "duration": 8,
    "start_time": "2024-06-15T02:06:49.825Z"
   },
   {
    "duration": 32,
    "start_time": "2024-06-15T02:06:49.836Z"
   },
   {
    "duration": 10,
    "start_time": "2024-06-15T02:06:49.914Z"
   },
   {
    "duration": 11,
    "start_time": "2024-06-15T02:06:49.926Z"
   },
   {
    "duration": 14,
    "start_time": "2024-06-15T02:06:49.940Z"
   },
   {
    "duration": 57,
    "start_time": "2024-06-15T02:06:49.957Z"
   },
   {
    "duration": 37,
    "start_time": "2024-06-15T02:06:50.016Z"
   },
   {
    "duration": 9,
    "start_time": "2024-06-15T02:06:50.056Z"
   },
   {
    "duration": 57,
    "start_time": "2024-06-15T02:06:50.068Z"
   },
   {
    "duration": 36,
    "start_time": "2024-06-15T02:06:50.128Z"
   },
   {
    "duration": 46,
    "start_time": "2024-06-15T02:06:50.168Z"
   },
   {
    "duration": 32,
    "start_time": "2024-06-15T02:06:50.218Z"
   },
   {
    "duration": 16,
    "start_time": "2024-06-15T02:06:50.253Z"
   },
   {
    "duration": 49,
    "start_time": "2024-06-15T02:06:50.275Z"
   },
   {
    "duration": 7,
    "start_time": "2024-06-15T02:06:50.327Z"
   },
   {
    "duration": 5065,
    "start_time": "2024-06-15T23:21:16.319Z"
   },
   {
    "duration": 62,
    "start_time": "2024-06-15T23:21:21.387Z"
   },
   {
    "duration": 23,
    "start_time": "2024-06-15T23:21:21.452Z"
   },
   {
    "duration": 59,
    "start_time": "2024-06-15T23:21:21.478Z"
   },
   {
    "duration": 18,
    "start_time": "2024-06-15T23:21:21.543Z"
   },
   {
    "duration": 20,
    "start_time": "2024-06-15T23:21:21.564Z"
   },
   {
    "duration": 50,
    "start_time": "2024-06-15T23:21:21.587Z"
   },
   {
    "duration": 19,
    "start_time": "2024-06-15T23:21:21.640Z"
   },
   {
    "duration": 29,
    "start_time": "2024-06-15T23:21:21.662Z"
   },
   {
    "duration": 63,
    "start_time": "2024-06-15T23:21:21.694Z"
   },
   {
    "duration": 46,
    "start_time": "2024-06-15T23:21:21.759Z"
   },
   {
    "duration": 33,
    "start_time": "2024-06-15T23:21:21.808Z"
   },
   {
    "duration": 6,
    "start_time": "2024-06-15T23:21:21.844Z"
   },
   {
    "duration": 7,
    "start_time": "2024-06-15T23:21:21.857Z"
   },
   {
    "duration": 8,
    "start_time": "2024-06-15T23:21:21.867Z"
   },
   {
    "duration": 80,
    "start_time": "2024-06-15T23:21:21.878Z"
   },
   {
    "duration": 9,
    "start_time": "2024-06-15T23:21:21.961Z"
   },
   {
    "duration": 10,
    "start_time": "2024-06-15T23:21:21.973Z"
   },
   {
    "duration": 12,
    "start_time": "2024-06-15T23:21:21.986Z"
   },
   {
    "duration": 13,
    "start_time": "2024-06-15T23:21:22.034Z"
   },
   {
    "duration": 34,
    "start_time": "2024-06-15T23:21:22.050Z"
   },
   {
    "duration": 10,
    "start_time": "2024-06-15T23:21:22.088Z"
   },
   {
    "duration": 17,
    "start_time": "2024-06-15T23:21:22.136Z"
   },
   {
    "duration": 37,
    "start_time": "2024-06-15T23:21:22.156Z"
   },
   {
    "duration": 44,
    "start_time": "2024-06-15T23:21:22.197Z"
   },
   {
    "duration": 33,
    "start_time": "2024-06-15T23:21:22.244Z"
   },
   {
    "duration": 15,
    "start_time": "2024-06-15T23:21:22.280Z"
   },
   {
    "duration": 16,
    "start_time": "2024-06-15T23:21:22.334Z"
   },
   {
    "duration": 7,
    "start_time": "2024-06-15T23:21:22.354Z"
   },
   {
    "duration": 7,
    "start_time": "2024-06-15T23:22:06.209Z"
   },
   {
    "duration": 19,
    "start_time": "2024-06-15T23:34:00.778Z"
   },
   {
    "duration": 404,
    "start_time": "2024-06-15T23:38:24.503Z"
   },
   {
    "duration": 92,
    "start_time": "2024-06-15T23:38:42.712Z"
   },
   {
    "duration": 37,
    "start_time": "2024-06-15T23:38:51.493Z"
   },
   {
    "duration": 18,
    "start_time": "2024-06-15T23:39:10.679Z"
   },
   {
    "duration": 23,
    "start_time": "2024-06-15T23:39:22.079Z"
   },
   {
    "duration": 34,
    "start_time": "2024-06-15T23:42:34.566Z"
   },
   {
    "duration": 21,
    "start_time": "2024-06-15T23:43:02.878Z"
   },
   {
    "duration": 21,
    "start_time": "2024-06-15T23:43:22.595Z"
   },
   {
    "duration": 16,
    "start_time": "2024-06-15T23:43:39.409Z"
   },
   {
    "duration": 590,
    "start_time": "2024-06-15T23:45:09.801Z"
   },
   {
    "duration": 30,
    "start_time": "2024-06-15T23:48:46.919Z"
   },
   {
    "duration": 456,
    "start_time": "2024-06-15T23:48:50.719Z"
   },
   {
    "duration": 7,
    "start_time": "2024-06-15T23:48:54.397Z"
   },
   {
    "duration": 1486,
    "start_time": "2024-06-15T23:49:00.820Z"
   },
   {
    "duration": 49,
    "start_time": "2024-06-15T23:49:02.310Z"
   },
   {
    "duration": 19,
    "start_time": "2024-06-15T23:49:02.362Z"
   },
   {
    "duration": 65,
    "start_time": "2024-06-15T23:49:02.384Z"
   },
   {
    "duration": 19,
    "start_time": "2024-06-15T23:49:02.455Z"
   },
   {
    "duration": 23,
    "start_time": "2024-06-15T23:49:02.477Z"
   },
   {
    "duration": 15,
    "start_time": "2024-06-15T23:49:02.535Z"
   },
   {
    "duration": 24,
    "start_time": "2024-06-15T23:49:02.553Z"
   },
   {
    "duration": 66,
    "start_time": "2024-06-15T23:49:02.580Z"
   },
   {
    "duration": 28,
    "start_time": "2024-06-15T23:49:02.649Z"
   },
   {
    "duration": 71,
    "start_time": "2024-06-15T23:49:02.680Z"
   },
   {
    "duration": 11,
    "start_time": "2024-06-15T23:49:02.755Z"
   },
   {
    "duration": 6,
    "start_time": "2024-06-15T23:49:02.769Z"
   },
   {
    "duration": 7,
    "start_time": "2024-06-15T23:49:02.783Z"
   },
   {
    "duration": 7,
    "start_time": "2024-06-15T23:49:02.832Z"
   },
   {
    "duration": 33,
    "start_time": "2024-06-15T23:49:02.842Z"
   },
   {
    "duration": 10,
    "start_time": "2024-06-15T23:49:02.878Z"
   },
   {
    "duration": 50,
    "start_time": "2024-06-15T23:49:02.891Z"
   },
   {
    "duration": 12,
    "start_time": "2024-06-15T23:49:02.944Z"
   },
   {
    "duration": 8,
    "start_time": "2024-06-15T23:49:02.959Z"
   },
   {
    "duration": 82,
    "start_time": "2024-06-15T23:49:02.972Z"
   },
   {
    "duration": 10,
    "start_time": "2024-06-15T23:49:03.058Z"
   },
   {
    "duration": 17,
    "start_time": "2024-06-15T23:49:03.071Z"
   },
   {
    "duration": 75,
    "start_time": "2024-06-15T23:49:03.091Z"
   },
   {
    "duration": 13,
    "start_time": "2024-06-15T23:49:03.168Z"
   },
   {
    "duration": 64,
    "start_time": "2024-06-15T23:49:03.184Z"
   },
   {
    "duration": 16,
    "start_time": "2024-06-15T23:49:03.251Z"
   },
   {
    "duration": 615,
    "start_time": "2024-06-15T23:49:03.270Z"
   },
   {
    "duration": 561,
    "start_time": "2024-06-15T23:49:03.888Z"
   },
   {
    "duration": 7,
    "start_time": "2024-06-15T23:49:04.453Z"
   },
   {
    "duration": 459,
    "start_time": "2024-06-15T23:49:29.804Z"
   },
   {
    "duration": 476,
    "start_time": "2024-06-15T23:55:29.852Z"
   },
   {
    "duration": 20,
    "start_time": "2024-06-15T23:55:33.162Z"
   },
   {
    "duration": 1145,
    "start_time": "2024-06-15T23:59:14.569Z"
   },
   {
    "duration": 9,
    "start_time": "2024-06-16T00:04:20.698Z"
   },
   {
    "duration": 31,
    "start_time": "2024-06-16T00:05:13.341Z"
   },
   {
    "duration": 43,
    "start_time": "2024-06-16T00:05:20.242Z"
   },
   {
    "duration": 7,
    "start_time": "2024-06-16T00:11:08.078Z"
   },
   {
    "duration": 16,
    "start_time": "2024-06-16T00:12:04.878Z"
   },
   {
    "duration": 308,
    "start_time": "2024-06-16T18:45:44.133Z"
   },
   {
    "duration": 5055,
    "start_time": "2024-06-16T18:45:50.489Z"
   },
   {
    "duration": 57,
    "start_time": "2024-06-16T18:45:55.549Z"
   },
   {
    "duration": 20,
    "start_time": "2024-06-16T18:45:55.609Z"
   },
   {
    "duration": 40,
    "start_time": "2024-06-16T18:45:55.632Z"
   },
   {
    "duration": 46,
    "start_time": "2024-06-16T18:45:55.677Z"
   },
   {
    "duration": 19,
    "start_time": "2024-06-16T18:45:55.726Z"
   },
   {
    "duration": 14,
    "start_time": "2024-06-16T18:45:55.748Z"
   },
   {
    "duration": 18,
    "start_time": "2024-06-16T18:45:55.765Z"
   },
   {
    "duration": 58,
    "start_time": "2024-06-16T18:45:55.785Z"
   },
   {
    "duration": 1619,
    "start_time": "2024-06-16T18:45:55.845Z"
   },
   {
    "duration": 0,
    "start_time": "2024-06-16T18:45:57.468Z"
   },
   {
    "duration": 0,
    "start_time": "2024-06-16T18:45:57.470Z"
   },
   {
    "duration": 0,
    "start_time": "2024-06-16T18:45:57.472Z"
   },
   {
    "duration": 0,
    "start_time": "2024-06-16T18:45:57.474Z"
   },
   {
    "duration": 0,
    "start_time": "2024-06-16T18:45:57.476Z"
   },
   {
    "duration": 0,
    "start_time": "2024-06-16T18:45:57.478Z"
   },
   {
    "duration": 0,
    "start_time": "2024-06-16T18:45:57.480Z"
   },
   {
    "duration": 0,
    "start_time": "2024-06-16T18:45:57.482Z"
   },
   {
    "duration": 0,
    "start_time": "2024-06-16T18:45:57.484Z"
   },
   {
    "duration": 0,
    "start_time": "2024-06-16T18:45:57.486Z"
   },
   {
    "duration": 1,
    "start_time": "2024-06-16T18:45:57.487Z"
   },
   {
    "duration": 0,
    "start_time": "2024-06-16T18:45:57.489Z"
   },
   {
    "duration": 0,
    "start_time": "2024-06-16T18:45:57.523Z"
   },
   {
    "duration": 0,
    "start_time": "2024-06-16T18:45:57.525Z"
   },
   {
    "duration": 0,
    "start_time": "2024-06-16T18:45:57.526Z"
   },
   {
    "duration": 0,
    "start_time": "2024-06-16T18:45:57.528Z"
   },
   {
    "duration": 0,
    "start_time": "2024-06-16T18:45:57.529Z"
   },
   {
    "duration": 0,
    "start_time": "2024-06-16T18:45:57.532Z"
   },
   {
    "duration": 0,
    "start_time": "2024-06-16T18:45:57.533Z"
   },
   {
    "duration": 0,
    "start_time": "2024-06-16T18:45:57.535Z"
   },
   {
    "duration": 13,
    "start_time": "2024-06-16T18:49:06.900Z"
   },
   {
    "duration": 9,
    "start_time": "2024-06-16T18:49:45.344Z"
   },
   {
    "duration": 1420,
    "start_time": "2024-06-16T18:50:59.498Z"
   },
   {
    "duration": 38,
    "start_time": "2024-06-16T18:51:00.923Z"
   },
   {
    "duration": 19,
    "start_time": "2024-06-16T18:51:00.964Z"
   },
   {
    "duration": 67,
    "start_time": "2024-06-16T18:51:00.986Z"
   },
   {
    "duration": 18,
    "start_time": "2024-06-16T18:51:01.058Z"
   },
   {
    "duration": 20,
    "start_time": "2024-06-16T18:51:01.079Z"
   },
   {
    "duration": 13,
    "start_time": "2024-06-16T18:51:01.124Z"
   },
   {
    "duration": 22,
    "start_time": "2024-06-16T18:51:01.140Z"
   },
   {
    "duration": 56,
    "start_time": "2024-06-16T18:51:01.166Z"
   },
   {
    "duration": 18,
    "start_time": "2024-06-16T18:51:01.226Z"
   },
   {
    "duration": 47,
    "start_time": "2024-06-16T18:51:01.247Z"
   },
   {
    "duration": 12,
    "start_time": "2024-06-16T18:51:01.324Z"
   },
   {
    "duration": 6,
    "start_time": "2024-06-16T18:51:01.338Z"
   },
   {
    "duration": 8,
    "start_time": "2024-06-16T18:51:01.352Z"
   },
   {
    "duration": 7,
    "start_time": "2024-06-16T18:51:01.363Z"
   },
   {
    "duration": 76,
    "start_time": "2024-06-16T18:51:01.373Z"
   },
   {
    "duration": 10,
    "start_time": "2024-06-16T18:51:01.452Z"
   },
   {
    "duration": 11,
    "start_time": "2024-06-16T18:51:01.465Z"
   },
   {
    "duration": 51,
    "start_time": "2024-06-16T18:51:01.479Z"
   },
   {
    "duration": 9,
    "start_time": "2024-06-16T18:51:01.532Z"
   },
   {
    "duration": 504,
    "start_time": "2024-06-16T18:51:01.543Z"
   },
   {
    "duration": 0,
    "start_time": "2024-06-16T18:51:02.049Z"
   },
   {
    "duration": 0,
    "start_time": "2024-06-16T18:51:02.052Z"
   },
   {
    "duration": 0,
    "start_time": "2024-06-16T18:51:02.054Z"
   },
   {
    "duration": 0,
    "start_time": "2024-06-16T18:51:02.057Z"
   },
   {
    "duration": 0,
    "start_time": "2024-06-16T18:51:02.059Z"
   },
   {
    "duration": 0,
    "start_time": "2024-06-16T18:51:02.061Z"
   },
   {
    "duration": 0,
    "start_time": "2024-06-16T18:51:02.063Z"
   },
   {
    "duration": 0,
    "start_time": "2024-06-16T18:51:02.065Z"
   },
   {
    "duration": 0,
    "start_time": "2024-06-16T18:51:02.067Z"
   },
   {
    "duration": 1380,
    "start_time": "2024-06-16T18:51:36.886Z"
   },
   {
    "duration": 39,
    "start_time": "2024-06-16T18:51:38.269Z"
   },
   {
    "duration": 19,
    "start_time": "2024-06-16T18:51:38.322Z"
   },
   {
    "duration": 40,
    "start_time": "2024-06-16T18:51:38.345Z"
   },
   {
    "duration": 42,
    "start_time": "2024-06-16T18:51:38.388Z"
   },
   {
    "duration": 18,
    "start_time": "2024-06-16T18:51:38.433Z"
   },
   {
    "duration": 12,
    "start_time": "2024-06-16T18:51:38.454Z"
   },
   {
    "duration": 60,
    "start_time": "2024-06-16T18:51:38.469Z"
   },
   {
    "duration": 28,
    "start_time": "2024-06-16T18:51:38.532Z"
   },
   {
    "duration": 18,
    "start_time": "2024-06-16T18:51:38.565Z"
   },
   {
    "duration": 76,
    "start_time": "2024-06-16T18:51:38.586Z"
   },
   {
    "duration": 14,
    "start_time": "2024-06-16T18:51:38.665Z"
   },
   {
    "duration": 6,
    "start_time": "2024-06-16T18:51:38.681Z"
   },
   {
    "duration": 37,
    "start_time": "2024-06-16T18:51:38.691Z"
   },
   {
    "duration": 7,
    "start_time": "2024-06-16T18:51:38.731Z"
   },
   {
    "duration": 33,
    "start_time": "2024-06-16T18:51:38.741Z"
   },
   {
    "duration": 48,
    "start_time": "2024-06-16T18:51:38.778Z"
   },
   {
    "duration": 12,
    "start_time": "2024-06-16T18:51:38.830Z"
   },
   {
    "duration": 15,
    "start_time": "2024-06-16T18:51:38.846Z"
   },
   {
    "duration": 9,
    "start_time": "2024-06-16T18:51:38.864Z"
   },
   {
    "duration": 514,
    "start_time": "2024-06-16T18:51:38.877Z"
   },
   {
    "duration": 0,
    "start_time": "2024-06-16T18:51:39.394Z"
   },
   {
    "duration": 0,
    "start_time": "2024-06-16T18:51:39.396Z"
   },
   {
    "duration": 0,
    "start_time": "2024-06-16T18:51:39.399Z"
   },
   {
    "duration": 0,
    "start_time": "2024-06-16T18:51:39.401Z"
   },
   {
    "duration": 0,
    "start_time": "2024-06-16T18:51:39.403Z"
   },
   {
    "duration": 0,
    "start_time": "2024-06-16T18:51:39.422Z"
   },
   {
    "duration": 0,
    "start_time": "2024-06-16T18:51:39.424Z"
   },
   {
    "duration": 0,
    "start_time": "2024-06-16T18:51:39.427Z"
   },
   {
    "duration": 1413,
    "start_time": "2024-06-16T18:52:00.994Z"
   },
   {
    "duration": 43,
    "start_time": "2024-06-16T18:52:02.410Z"
   },
   {
    "duration": 19,
    "start_time": "2024-06-16T18:52:02.456Z"
   },
   {
    "duration": 63,
    "start_time": "2024-06-16T18:52:02.479Z"
   },
   {
    "duration": 18,
    "start_time": "2024-06-16T18:52:02.547Z"
   },
   {
    "duration": 19,
    "start_time": "2024-06-16T18:52:02.568Z"
   },
   {
    "duration": 38,
    "start_time": "2024-06-16T18:52:02.591Z"
   },
   {
    "duration": 18,
    "start_time": "2024-06-16T18:52:02.632Z"
   },
   {
    "duration": 30,
    "start_time": "2024-06-16T18:52:02.654Z"
   },
   {
    "duration": 17,
    "start_time": "2024-06-16T18:52:02.722Z"
   },
   {
    "duration": 45,
    "start_time": "2024-06-16T18:52:02.743Z"
   },
   {
    "duration": 40,
    "start_time": "2024-06-16T18:52:02.791Z"
   },
   {
    "duration": 5,
    "start_time": "2024-06-16T18:52:02.834Z"
   },
   {
    "duration": 8,
    "start_time": "2024-06-16T18:52:02.845Z"
   },
   {
    "duration": 8,
    "start_time": "2024-06-16T18:52:02.856Z"
   },
   {
    "duration": 80,
    "start_time": "2024-06-16T18:52:02.866Z"
   },
   {
    "duration": 9,
    "start_time": "2024-06-16T18:52:02.949Z"
   },
   {
    "duration": 10,
    "start_time": "2024-06-16T18:52:02.961Z"
   },
   {
    "duration": 51,
    "start_time": "2024-06-16T18:52:02.974Z"
   },
   {
    "duration": 10,
    "start_time": "2024-06-16T18:52:03.028Z"
   },
   {
    "duration": 41,
    "start_time": "2024-06-16T18:52:03.042Z"
   },
   {
    "duration": 51,
    "start_time": "2024-06-16T18:52:03.086Z"
   },
   {
    "duration": 18,
    "start_time": "2024-06-16T18:52:03.140Z"
   },
   {
    "duration": 603,
    "start_time": "2024-06-16T18:52:03.161Z"
   },
   {
    "duration": 585,
    "start_time": "2024-06-16T18:52:03.768Z"
   },
   {
    "duration": 7,
    "start_time": "2024-06-16T18:52:04.356Z"
   },
   {
    "duration": 479,
    "start_time": "2024-06-16T18:52:04.366Z"
   },
   {
    "duration": 17,
    "start_time": "2024-06-16T18:52:04.849Z"
   },
   {
    "duration": 19,
    "start_time": "2024-06-16T18:54:26.528Z"
   },
   {
    "duration": 409,
    "start_time": "2024-06-16T18:56:42.221Z"
   },
   {
    "duration": 213,
    "start_time": "2024-06-16T18:56:46.907Z"
   },
   {
    "duration": 38,
    "start_time": "2024-06-16T18:59:53.473Z"
   },
   {
    "duration": 425,
    "start_time": "2024-06-16T19:00:10.977Z"
   },
   {
    "duration": 563,
    "start_time": "2024-06-16T19:02:54.854Z"
   },
   {
    "duration": 557,
    "start_time": "2024-06-16T19:03:12.053Z"
   },
   {
    "duration": 585,
    "start_time": "2024-06-16T19:03:24.010Z"
   },
   {
    "duration": 504,
    "start_time": "2024-06-16T19:03:36.526Z"
   },
   {
    "duration": 412,
    "start_time": "2024-06-16T19:03:52.515Z"
   },
   {
    "duration": 36,
    "start_time": "2024-06-16T19:11:58.262Z"
   },
   {
    "duration": 1397,
    "start_time": "2024-06-16T19:12:03.553Z"
   },
   {
    "duration": 42,
    "start_time": "2024-06-16T19:12:04.953Z"
   },
   {
    "duration": 33,
    "start_time": "2024-06-16T19:12:04.999Z"
   },
   {
    "duration": 38,
    "start_time": "2024-06-16T19:12:05.039Z"
   },
   {
    "duration": 43,
    "start_time": "2024-06-16T19:12:05.080Z"
   },
   {
    "duration": 18,
    "start_time": "2024-06-16T19:12:05.126Z"
   },
   {
    "duration": 12,
    "start_time": "2024-06-16T19:12:05.148Z"
   },
   {
    "duration": 18,
    "start_time": "2024-06-16T19:12:05.163Z"
   },
   {
    "duration": 65,
    "start_time": "2024-06-16T19:12:05.184Z"
   },
   {
    "duration": 16,
    "start_time": "2024-06-16T19:12:05.255Z"
   },
   {
    "duration": 81,
    "start_time": "2024-06-16T19:12:05.274Z"
   },
   {
    "duration": 11,
    "start_time": "2024-06-16T19:12:05.358Z"
   },
   {
    "duration": 5,
    "start_time": "2024-06-16T19:12:05.373Z"
   },
   {
    "duration": 44,
    "start_time": "2024-06-16T19:12:05.381Z"
   },
   {
    "duration": 9,
    "start_time": "2024-06-16T19:12:05.428Z"
   },
   {
    "duration": 35,
    "start_time": "2024-06-16T19:12:05.440Z"
   },
   {
    "duration": 45,
    "start_time": "2024-06-16T19:12:05.479Z"
   },
   {
    "duration": 11,
    "start_time": "2024-06-16T19:12:05.528Z"
   },
   {
    "duration": 15,
    "start_time": "2024-06-16T19:12:05.542Z"
   },
   {
    "duration": 10,
    "start_time": "2024-06-16T19:12:05.560Z"
   },
   {
    "duration": 431,
    "start_time": "2024-06-16T19:12:05.574Z"
   },
   {
    "duration": 44,
    "start_time": "2024-06-16T19:12:06.009Z"
   },
   {
    "duration": 17,
    "start_time": "2024-06-16T19:12:06.056Z"
   },
   {
    "duration": 48,
    "start_time": "2024-06-16T19:12:06.076Z"
   },
   {
    "duration": 636,
    "start_time": "2024-06-16T19:12:06.127Z"
   },
   {
    "duration": 468,
    "start_time": "2024-06-16T19:12:06.766Z"
   },
   {
    "duration": 7,
    "start_time": "2024-06-16T19:12:07.237Z"
   },
   {
    "duration": 483,
    "start_time": "2024-06-16T19:12:07.250Z"
   },
   {
    "duration": 21,
    "start_time": "2024-06-16T19:12:07.737Z"
   },
   {
    "duration": 454,
    "start_time": "2024-06-16T19:12:07.762Z"
   },
   {
    "duration": 4,
    "start_time": "2024-06-16T19:12:08.222Z"
   },
   {
    "duration": 424,
    "start_time": "2024-06-16T19:12:08.229Z"
   },
   {
    "duration": 0,
    "start_time": "2024-06-16T19:12:08.656Z"
   },
   {
    "duration": 10,
    "start_time": "2024-06-16T19:12:27.742Z"
   },
   {
    "duration": 11,
    "start_time": "2024-06-16T19:15:33.535Z"
   },
   {
    "duration": 41,
    "start_time": "2024-06-16T19:18:23.079Z"
   },
   {
    "duration": 15,
    "start_time": "2024-06-16T19:19:09.722Z"
   },
   {
    "duration": 510,
    "start_time": "2024-06-16T19:30:46.456Z"
   },
   {
    "duration": 33,
    "start_time": "2024-06-16T19:31:17.950Z"
   },
   {
    "duration": 29,
    "start_time": "2024-06-16T19:31:23.645Z"
   },
   {
    "duration": 456,
    "start_time": "2024-06-16T19:31:31.607Z"
   },
   {
    "duration": 31,
    "start_time": "2024-06-16T19:33:24.961Z"
   },
   {
    "duration": 6,
    "start_time": "2024-06-16T19:49:09.716Z"
   },
   {
    "duration": 403,
    "start_time": "2024-06-16T20:07:15.494Z"
   },
   {
    "duration": 379,
    "start_time": "2024-06-17T00:47:37.415Z"
   },
   {
    "duration": 5091,
    "start_time": "2024-06-17T00:47:46.299Z"
   },
   {
    "duration": 55,
    "start_time": "2024-06-17T00:47:51.395Z"
   },
   {
    "duration": 21,
    "start_time": "2024-06-17T00:47:51.453Z"
   },
   {
    "duration": 59,
    "start_time": "2024-06-17T00:47:51.479Z"
   },
   {
    "duration": 19,
    "start_time": "2024-06-17T00:47:51.541Z"
   },
   {
    "duration": 18,
    "start_time": "2024-06-17T00:47:51.563Z"
   },
   {
    "duration": 43,
    "start_time": "2024-06-17T00:47:51.584Z"
   },
   {
    "duration": 20,
    "start_time": "2024-06-17T00:47:51.630Z"
   },
   {
    "duration": 32,
    "start_time": "2024-06-17T00:47:51.652Z"
   },
   {
    "duration": 50,
    "start_time": "2024-06-17T00:47:51.689Z"
   },
   {
    "duration": 51,
    "start_time": "2024-06-17T00:47:51.742Z"
   },
   {
    "duration": 36,
    "start_time": "2024-06-17T00:47:51.796Z"
   },
   {
    "duration": 6,
    "start_time": "2024-06-17T00:47:51.834Z"
   },
   {
    "duration": 8,
    "start_time": "2024-06-17T00:47:51.843Z"
   },
   {
    "duration": 7,
    "start_time": "2024-06-17T00:47:51.854Z"
   },
   {
    "duration": 80,
    "start_time": "2024-06-17T00:47:51.864Z"
   },
   {
    "duration": 13,
    "start_time": "2024-06-17T00:47:51.947Z"
   },
   {
    "duration": 10,
    "start_time": "2024-06-17T00:47:51.963Z"
   },
   {
    "duration": 47,
    "start_time": "2024-06-17T00:47:51.977Z"
   },
   {
    "duration": 12,
    "start_time": "2024-06-17T00:47:52.027Z"
   },
   {
    "duration": 411,
    "start_time": "2024-06-17T00:47:52.042Z"
   },
   {
    "duration": 39,
    "start_time": "2024-06-17T00:47:52.456Z"
   },
   {
    "duration": 581,
    "start_time": "2024-06-17T00:47:52.498Z"
   },
   {
    "duration": 464,
    "start_time": "2024-06-17T00:47:53.081Z"
   },
   {
    "duration": 6,
    "start_time": "2024-06-17T00:47:53.549Z"
   },
   {
    "duration": 542,
    "start_time": "2024-06-17T00:47:53.558Z"
   },
   {
    "duration": 30,
    "start_time": "2024-06-17T00:47:54.103Z"
   },
   {
    "duration": 490,
    "start_time": "2024-06-17T00:47:54.143Z"
   },
   {
    "duration": 10,
    "start_time": "2024-06-17T00:47:54.636Z"
   },
   {
    "duration": 10,
    "start_time": "2024-06-17T00:47:54.650Z"
   },
   {
    "duration": 382,
    "start_time": "2024-06-17T00:48:12.721Z"
   },
   {
    "duration": 373,
    "start_time": "2024-06-17T00:49:23.897Z"
   },
   {
    "duration": 358,
    "start_time": "2024-06-17T00:49:44.961Z"
   },
   {
    "duration": 374,
    "start_time": "2024-06-17T00:51:20.425Z"
   },
   {
    "duration": 375,
    "start_time": "2024-06-17T00:52:29.828Z"
   },
   {
    "duration": 413,
    "start_time": "2024-06-17T00:57:49.911Z"
   },
   {
    "duration": 28,
    "start_time": "2024-06-17T00:58:12.969Z"
   },
   {
    "duration": 26,
    "start_time": "2024-06-17T00:58:24.144Z"
   },
   {
    "duration": 5,
    "start_time": "2024-06-17T00:59:05.247Z"
   },
   {
    "duration": 11,
    "start_time": "2024-06-17T01:03:06.747Z"
   },
   {
    "duration": 12,
    "start_time": "2024-06-17T01:06:00.260Z"
   },
   {
    "duration": 10,
    "start_time": "2024-06-17T01:06:36.986Z"
   },
   {
    "duration": 8,
    "start_time": "2024-06-17T01:08:08.228Z"
   },
   {
    "duration": 9,
    "start_time": "2024-06-17T01:09:14.852Z"
   },
   {
    "duration": 10,
    "start_time": "2024-06-17T01:09:38.779Z"
   },
   {
    "duration": 9,
    "start_time": "2024-06-17T01:29:23.927Z"
   },
   {
    "duration": 8,
    "start_time": "2024-06-17T01:30:16.247Z"
   },
   {
    "duration": 14,
    "start_time": "2024-06-17T01:31:29.826Z"
   },
   {
    "duration": 282,
    "start_time": "2024-06-17T01:36:06.908Z"
   },
   {
    "duration": 223,
    "start_time": "2024-06-17T01:37:34.517Z"
   },
   {
    "duration": 197,
    "start_time": "2024-06-17T01:38:51.674Z"
   },
   {
    "duration": 191,
    "start_time": "2024-06-17T01:41:13.013Z"
   },
   {
    "duration": 225,
    "start_time": "2024-06-17T01:43:36.623Z"
   },
   {
    "duration": 222,
    "start_time": "2024-06-17T01:43:44.696Z"
   },
   {
    "duration": 1442,
    "start_time": "2024-06-17T01:45:35.287Z"
   },
   {
    "duration": 391,
    "start_time": "2024-06-17T01:45:48.478Z"
   },
   {
    "duration": 199,
    "start_time": "2024-06-17T01:45:55.099Z"
   },
   {
    "duration": 199,
    "start_time": "2024-06-17T01:46:24.631Z"
   },
   {
    "duration": 199,
    "start_time": "2024-06-17T01:49:09.315Z"
   },
   {
    "duration": 222,
    "start_time": "2024-06-17T01:50:57.917Z"
   },
   {
    "duration": 211,
    "start_time": "2024-06-17T01:53:21.187Z"
   },
   {
    "duration": 7,
    "start_time": "2024-06-17T02:14:18.291Z"
   },
   {
    "duration": 10,
    "start_time": "2024-06-17T02:21:05.369Z"
   },
   {
    "duration": 5,
    "start_time": "2024-06-17T02:21:09.764Z"
   },
   {
    "duration": 49,
    "start_time": "2024-06-17T02:21:10.097Z"
   },
   {
    "duration": 25,
    "start_time": "2024-06-17T02:21:10.323Z"
   },
   {
    "duration": 43,
    "start_time": "2024-06-17T02:21:10.814Z"
   },
   {
    "duration": 20,
    "start_time": "2024-06-17T02:21:11.408Z"
   },
   {
    "duration": 18,
    "start_time": "2024-06-17T02:21:11.925Z"
   },
   {
    "duration": 15,
    "start_time": "2024-06-17T02:21:12.615Z"
   },
   {
    "duration": 20,
    "start_time": "2024-06-17T02:21:16.024Z"
   },
   {
    "duration": 759,
    "start_time": "2024-06-17T02:21:46.258Z"
   },
   {
    "duration": 1472,
    "start_time": "2024-06-17T02:21:55.084Z"
   },
   {
    "duration": 41,
    "start_time": "2024-06-17T02:21:56.561Z"
   },
   {
    "duration": 37,
    "start_time": "2024-06-17T02:21:56.605Z"
   },
   {
    "duration": 42,
    "start_time": "2024-06-17T02:21:56.645Z"
   },
   {
    "duration": 21,
    "start_time": "2024-06-17T02:21:56.725Z"
   },
   {
    "duration": 21,
    "start_time": "2024-06-17T02:21:56.749Z"
   },
   {
    "duration": 15,
    "start_time": "2024-06-17T02:21:56.774Z"
   },
   {
    "duration": 22,
    "start_time": "2024-06-17T02:21:56.825Z"
   },
   {
    "duration": 36,
    "start_time": "2024-06-17T02:21:56.851Z"
   },
   {
    "duration": 41,
    "start_time": "2024-06-17T02:21:56.890Z"
   },
   {
    "duration": 56,
    "start_time": "2024-06-17T02:21:56.938Z"
   },
   {
    "duration": 13,
    "start_time": "2024-06-17T02:21:57.024Z"
   },
   {
    "duration": 6,
    "start_time": "2024-06-17T02:21:57.041Z"
   },
   {
    "duration": 8,
    "start_time": "2024-06-17T02:21:57.056Z"
   },
   {
    "duration": 9,
    "start_time": "2024-06-17T02:21:57.067Z"
   },
   {
    "duration": 75,
    "start_time": "2024-06-17T02:21:57.079Z"
   },
   {
    "duration": 11,
    "start_time": "2024-06-17T02:21:57.156Z"
   },
   {
    "duration": 11,
    "start_time": "2024-06-17T02:21:57.170Z"
   },
   {
    "duration": 43,
    "start_time": "2024-06-17T02:21:57.184Z"
   },
   {
    "duration": 9,
    "start_time": "2024-06-17T02:21:57.230Z"
   },
   {
    "duration": 439,
    "start_time": "2024-06-17T02:21:57.242Z"
   },
   {
    "duration": 50,
    "start_time": "2024-06-17T02:21:57.684Z"
   },
   {
    "duration": 639,
    "start_time": "2024-06-17T02:21:57.739Z"
   },
   {
    "duration": 466,
    "start_time": "2024-06-17T02:21:58.381Z"
   },
   {
    "duration": 7,
    "start_time": "2024-06-17T02:21:58.851Z"
   },
   {
    "duration": 499,
    "start_time": "2024-06-17T02:21:58.862Z"
   },
   {
    "duration": 18,
    "start_time": "2024-06-17T02:21:59.364Z"
   },
   {
    "duration": 506,
    "start_time": "2024-06-17T02:21:59.385Z"
   },
   {
    "duration": 0,
    "start_time": "2024-06-17T02:21:59.895Z"
   },
   {
    "duration": 0,
    "start_time": "2024-06-17T02:21:59.901Z"
   },
   {
    "duration": 0,
    "start_time": "2024-06-17T02:21:59.904Z"
   },
   {
    "duration": 0,
    "start_time": "2024-06-17T02:21:59.922Z"
   },
   {
    "duration": 0,
    "start_time": "2024-06-17T02:21:59.924Z"
   },
   {
    "duration": 0,
    "start_time": "2024-06-17T02:21:59.929Z"
   },
   {
    "duration": 0,
    "start_time": "2024-06-17T02:21:59.932Z"
   },
   {
    "duration": 0,
    "start_time": "2024-06-17T02:21:59.935Z"
   },
   {
    "duration": 0,
    "start_time": "2024-06-17T02:21:59.936Z"
   },
   {
    "duration": 0,
    "start_time": "2024-06-17T02:21:59.938Z"
   },
   {
    "duration": 0,
    "start_time": "2024-06-17T02:21:59.939Z"
   },
   {
    "duration": 0,
    "start_time": "2024-06-17T02:21:59.942Z"
   },
   {
    "duration": 0,
    "start_time": "2024-06-17T02:21:59.945Z"
   },
   {
    "duration": 0,
    "start_time": "2024-06-17T02:21:59.947Z"
   },
   {
    "duration": 0,
    "start_time": "2024-06-17T02:21:59.949Z"
   },
   {
    "duration": 0,
    "start_time": "2024-06-17T02:21:59.950Z"
   },
   {
    "duration": 0,
    "start_time": "2024-06-17T02:21:59.952Z"
   },
   {
    "duration": 0,
    "start_time": "2024-06-17T02:21:59.954Z"
   },
   {
    "duration": 0,
    "start_time": "2024-06-17T02:21:59.955Z"
   },
   {
    "duration": 0,
    "start_time": "2024-06-17T02:21:59.958Z"
   },
   {
    "duration": 8,
    "start_time": "2024-06-17T02:22:55.535Z"
   },
   {
    "duration": 8,
    "start_time": "2024-06-17T02:23:11.089Z"
   },
   {
    "duration": 10,
    "start_time": "2024-06-17T02:23:19.214Z"
   },
   {
    "duration": 39,
    "start_time": "2024-06-17T02:25:08.949Z"
   },
   {
    "duration": 1490,
    "start_time": "2024-06-17T02:27:14.136Z"
   },
   {
    "duration": 46,
    "start_time": "2024-06-17T02:27:15.631Z"
   },
   {
    "duration": 43,
    "start_time": "2024-06-17T02:27:15.683Z"
   },
   {
    "duration": 44,
    "start_time": "2024-06-17T02:27:15.728Z"
   },
   {
    "duration": 45,
    "start_time": "2024-06-17T02:27:15.777Z"
   },
   {
    "duration": 19,
    "start_time": "2024-06-17T02:27:15.826Z"
   },
   {
    "duration": 13,
    "start_time": "2024-06-17T02:27:15.848Z"
   },
   {
    "duration": 20,
    "start_time": "2024-06-17T02:27:15.865Z"
   },
   {
    "duration": 31,
    "start_time": "2024-06-17T02:27:15.924Z"
   },
   {
    "duration": 21,
    "start_time": "2024-06-17T02:27:15.958Z"
   },
   {
    "duration": 80,
    "start_time": "2024-06-17T02:27:15.982Z"
   },
   {
    "duration": 13,
    "start_time": "2024-06-17T02:27:16.067Z"
   },
   {
    "duration": 5,
    "start_time": "2024-06-17T02:27:16.086Z"
   },
   {
    "duration": 28,
    "start_time": "2024-06-17T02:27:16.099Z"
   },
   {
    "duration": 7,
    "start_time": "2024-06-17T02:27:16.130Z"
   },
   {
    "duration": 32,
    "start_time": "2024-06-17T02:27:16.142Z"
   },
   {
    "duration": 47,
    "start_time": "2024-06-17T02:27:16.177Z"
   },
   {
    "duration": 33,
    "start_time": "2024-06-17T02:27:16.227Z"
   },
   {
    "duration": 10,
    "start_time": "2024-06-17T02:27:16.264Z"
   },
   {
    "duration": 49,
    "start_time": "2024-06-17T02:27:16.277Z"
   },
   {
    "duration": 9,
    "start_time": "2024-06-17T02:27:16.329Z"
   },
   {
    "duration": 261,
    "start_time": "2024-06-17T02:27:16.340Z"
   },
   {
    "duration": 689,
    "start_time": "2024-06-17T02:27:16.604Z"
   },
   {
    "duration": 496,
    "start_time": "2024-06-17T02:27:17.297Z"
   },
   {
    "duration": 8,
    "start_time": "2024-06-17T02:27:17.799Z"
   },
   {
    "duration": 511,
    "start_time": "2024-06-17T02:27:17.812Z"
   },
   {
    "duration": 18,
    "start_time": "2024-06-17T02:27:18.326Z"
   },
   {
    "duration": 449,
    "start_time": "2024-06-17T02:27:18.347Z"
   },
   {
    "duration": 0,
    "start_time": "2024-06-17T02:27:18.800Z"
   },
   {
    "duration": 0,
    "start_time": "2024-06-17T02:27:18.802Z"
   },
   {
    "duration": 0,
    "start_time": "2024-06-17T02:27:18.804Z"
   },
   {
    "duration": 0,
    "start_time": "2024-06-17T02:27:18.806Z"
   },
   {
    "duration": 0,
    "start_time": "2024-06-17T02:27:18.808Z"
   },
   {
    "duration": 0,
    "start_time": "2024-06-17T02:27:18.809Z"
   },
   {
    "duration": 0,
    "start_time": "2024-06-17T02:27:18.822Z"
   },
   {
    "duration": 0,
    "start_time": "2024-06-17T02:27:18.825Z"
   },
   {
    "duration": 0,
    "start_time": "2024-06-17T02:27:18.827Z"
   },
   {
    "duration": 0,
    "start_time": "2024-06-17T02:27:18.828Z"
   },
   {
    "duration": 0,
    "start_time": "2024-06-17T02:27:18.833Z"
   },
   {
    "duration": 0,
    "start_time": "2024-06-17T02:27:18.836Z"
   },
   {
    "duration": 0,
    "start_time": "2024-06-17T02:27:18.839Z"
   },
   {
    "duration": 0,
    "start_time": "2024-06-17T02:27:18.841Z"
   },
   {
    "duration": 0,
    "start_time": "2024-06-17T02:27:18.843Z"
   },
   {
    "duration": 0,
    "start_time": "2024-06-17T02:27:18.845Z"
   },
   {
    "duration": 0,
    "start_time": "2024-06-17T02:27:18.847Z"
   },
   {
    "duration": 0,
    "start_time": "2024-06-17T02:27:18.849Z"
   },
   {
    "duration": 0,
    "start_time": "2024-06-17T02:27:18.851Z"
   },
   {
    "duration": 0,
    "start_time": "2024-06-17T02:27:18.854Z"
   },
   {
    "duration": 746,
    "start_time": "2024-06-17T02:28:20.009Z"
   },
   {
    "duration": 1645,
    "start_time": "2024-06-17T02:28:29.426Z"
   },
   {
    "duration": 64,
    "start_time": "2024-06-17T02:28:31.075Z"
   },
   {
    "duration": 24,
    "start_time": "2024-06-17T02:28:31.149Z"
   },
   {
    "duration": 56,
    "start_time": "2024-06-17T02:28:31.178Z"
   },
   {
    "duration": 20,
    "start_time": "2024-06-17T02:28:31.237Z"
   },
   {
    "duration": 20,
    "start_time": "2024-06-17T02:28:31.261Z"
   },
   {
    "duration": 44,
    "start_time": "2024-06-17T02:28:31.285Z"
   },
   {
    "duration": 19,
    "start_time": "2024-06-17T02:28:31.334Z"
   },
   {
    "duration": 34,
    "start_time": "2024-06-17T02:28:31.358Z"
   },
   {
    "duration": 20,
    "start_time": "2024-06-17T02:28:31.426Z"
   },
   {
    "duration": 51,
    "start_time": "2024-06-17T02:28:31.450Z"
   },
   {
    "duration": 13,
    "start_time": "2024-06-17T02:28:31.524Z"
   },
   {
    "duration": 6,
    "start_time": "2024-06-17T02:28:31.539Z"
   },
   {
    "duration": 9,
    "start_time": "2024-06-17T02:28:31.549Z"
   },
   {
    "duration": 9,
    "start_time": "2024-06-17T02:28:31.562Z"
   },
   {
    "duration": 81,
    "start_time": "2024-06-17T02:28:31.575Z"
   },
   {
    "duration": 11,
    "start_time": "2024-06-17T02:28:31.659Z"
   },
   {
    "duration": 75,
    "start_time": "2024-06-17T02:28:31.674Z"
   },
   {
    "duration": 11,
    "start_time": "2024-06-17T02:28:31.755Z"
   },
   {
    "duration": 12,
    "start_time": "2024-06-17T02:28:31.769Z"
   },
   {
    "duration": 38,
    "start_time": "2024-06-17T02:28:31.785Z"
   },
   {
    "duration": 308,
    "start_time": "2024-06-17T02:28:31.827Z"
   },
   {
    "duration": 868,
    "start_time": "2024-06-17T02:28:32.139Z"
   },
   {
    "duration": 566,
    "start_time": "2024-06-17T02:28:33.011Z"
   },
   {
    "duration": 11,
    "start_time": "2024-06-17T02:28:33.579Z"
   },
   {
    "duration": 566,
    "start_time": "2024-06-17T02:28:33.596Z"
   },
   {
    "duration": 30,
    "start_time": "2024-06-17T02:28:34.175Z"
   },
   {
    "duration": 1266,
    "start_time": "2024-06-17T02:28:34.225Z"
   },
   {
    "duration": 0,
    "start_time": "2024-06-17T02:28:35.494Z"
   },
   {
    "duration": 0,
    "start_time": "2024-06-17T02:28:35.498Z"
   },
   {
    "duration": 0,
    "start_time": "2024-06-17T02:28:35.501Z"
   },
   {
    "duration": 0,
    "start_time": "2024-06-17T02:28:35.523Z"
   },
   {
    "duration": 1,
    "start_time": "2024-06-17T02:28:35.525Z"
   },
   {
    "duration": 0,
    "start_time": "2024-06-17T02:28:35.528Z"
   },
   {
    "duration": 0,
    "start_time": "2024-06-17T02:28:35.530Z"
   },
   {
    "duration": 0,
    "start_time": "2024-06-17T02:28:35.533Z"
   },
   {
    "duration": 0,
    "start_time": "2024-06-17T02:28:35.536Z"
   },
   {
    "duration": 0,
    "start_time": "2024-06-17T02:28:35.538Z"
   },
   {
    "duration": 0,
    "start_time": "2024-06-17T02:28:35.541Z"
   },
   {
    "duration": 0,
    "start_time": "2024-06-17T02:28:35.543Z"
   },
   {
    "duration": 0,
    "start_time": "2024-06-17T02:28:35.545Z"
   },
   {
    "duration": 0,
    "start_time": "2024-06-17T02:28:35.547Z"
   },
   {
    "duration": 0,
    "start_time": "2024-06-17T02:28:35.549Z"
   },
   {
    "duration": 0,
    "start_time": "2024-06-17T02:28:35.552Z"
   },
   {
    "duration": 0,
    "start_time": "2024-06-17T02:28:35.554Z"
   },
   {
    "duration": 0,
    "start_time": "2024-06-17T02:28:35.557Z"
   },
   {
    "duration": 0,
    "start_time": "2024-06-17T02:28:35.559Z"
   },
   {
    "duration": 0,
    "start_time": "2024-06-17T02:28:35.561Z"
   },
   {
    "duration": 31,
    "start_time": "2024-06-17T02:31:41.643Z"
   },
   {
    "duration": 812,
    "start_time": "2024-06-17T02:32:12.711Z"
   },
   {
    "duration": 1475,
    "start_time": "2024-06-17T02:37:52.719Z"
   },
   {
    "duration": 56,
    "start_time": "2024-06-17T02:37:54.199Z"
   },
   {
    "duration": 21,
    "start_time": "2024-06-17T02:37:54.257Z"
   },
   {
    "duration": 71,
    "start_time": "2024-06-17T02:37:54.283Z"
   },
   {
    "duration": 21,
    "start_time": "2024-06-17T02:37:54.358Z"
   },
   {
    "duration": 42,
    "start_time": "2024-06-17T02:37:54.381Z"
   },
   {
    "duration": 16,
    "start_time": "2024-06-17T02:37:54.426Z"
   },
   {
    "duration": 23,
    "start_time": "2024-06-17T02:37:54.445Z"
   },
   {
    "duration": 67,
    "start_time": "2024-06-17T02:37:54.471Z"
   },
   {
    "duration": 22,
    "start_time": "2024-06-17T02:37:54.544Z"
   },
   {
    "duration": 76,
    "start_time": "2024-06-17T02:37:54.568Z"
   },
   {
    "duration": 14,
    "start_time": "2024-06-17T02:37:54.650Z"
   },
   {
    "duration": 10,
    "start_time": "2024-06-17T02:37:54.667Z"
   },
   {
    "duration": 9,
    "start_time": "2024-06-17T02:37:54.684Z"
   },
   {
    "duration": 8,
    "start_time": "2024-06-17T02:37:54.722Z"
   },
   {
    "duration": 41,
    "start_time": "2024-06-17T02:37:54.735Z"
   },
   {
    "duration": 45,
    "start_time": "2024-06-17T02:37:54.780Z"
   },
   {
    "duration": 788,
    "start_time": "2024-06-17T02:37:54.829Z"
   },
   {
    "duration": 34,
    "start_time": "2024-06-17T02:37:55.620Z"
   },
   {
    "duration": 11,
    "start_time": "2024-06-17T02:37:55.657Z"
   },
   {
    "duration": 11,
    "start_time": "2024-06-17T02:37:55.671Z"
   },
   {
    "duration": 10,
    "start_time": "2024-06-17T02:37:55.724Z"
   },
   {
    "duration": 276,
    "start_time": "2024-06-17T02:37:55.737Z"
   },
   {
    "duration": 554,
    "start_time": "2024-06-17T02:37:56.022Z"
   },
   {
    "duration": 485,
    "start_time": "2024-06-17T02:37:56.580Z"
   },
   {
    "duration": 8,
    "start_time": "2024-06-17T02:37:57.069Z"
   },
   {
    "duration": 535,
    "start_time": "2024-06-17T02:37:57.080Z"
   },
   {
    "duration": 18,
    "start_time": "2024-06-17T02:37:57.626Z"
   },
   {
    "duration": 1183,
    "start_time": "2024-06-17T02:37:57.647Z"
   },
   {
    "duration": 0,
    "start_time": "2024-06-17T02:37:58.833Z"
   },
   {
    "duration": 0,
    "start_time": "2024-06-17T02:37:58.835Z"
   },
   {
    "duration": 0,
    "start_time": "2024-06-17T02:37:58.837Z"
   },
   {
    "duration": 0,
    "start_time": "2024-06-17T02:37:58.839Z"
   },
   {
    "duration": 0,
    "start_time": "2024-06-17T02:37:58.841Z"
   },
   {
    "duration": 0,
    "start_time": "2024-06-17T02:37:58.844Z"
   },
   {
    "duration": 0,
    "start_time": "2024-06-17T02:37:58.846Z"
   },
   {
    "duration": 0,
    "start_time": "2024-06-17T02:37:58.848Z"
   },
   {
    "duration": 0,
    "start_time": "2024-06-17T02:37:58.850Z"
   },
   {
    "duration": 0,
    "start_time": "2024-06-17T02:37:58.852Z"
   },
   {
    "duration": 0,
    "start_time": "2024-06-17T02:37:58.854Z"
   },
   {
    "duration": 0,
    "start_time": "2024-06-17T02:37:58.855Z"
   },
   {
    "duration": 0,
    "start_time": "2024-06-17T02:37:58.857Z"
   },
   {
    "duration": 0,
    "start_time": "2024-06-17T02:37:58.859Z"
   },
   {
    "duration": 0,
    "start_time": "2024-06-17T02:37:58.861Z"
   },
   {
    "duration": 0,
    "start_time": "2024-06-17T02:37:58.863Z"
   },
   {
    "duration": 0,
    "start_time": "2024-06-17T02:37:58.865Z"
   },
   {
    "duration": 0,
    "start_time": "2024-06-17T02:37:58.867Z"
   },
   {
    "duration": 0,
    "start_time": "2024-06-17T02:37:58.923Z"
   },
   {
    "duration": 0,
    "start_time": "2024-06-17T02:37:58.925Z"
   },
   {
    "duration": 28,
    "start_time": "2024-06-17T02:41:15.463Z"
   },
   {
    "duration": 11,
    "start_time": "2024-06-17T02:41:21.482Z"
   },
   {
    "duration": 11,
    "start_time": "2024-06-17T02:42:52.187Z"
   },
   {
    "duration": 1498,
    "start_time": "2024-06-17T02:43:59.344Z"
   },
   {
    "duration": 40,
    "start_time": "2024-06-17T02:44:00.845Z"
   },
   {
    "duration": 41,
    "start_time": "2024-06-17T02:44:00.888Z"
   },
   {
    "duration": 46,
    "start_time": "2024-06-17T02:44:00.936Z"
   },
   {
    "duration": 39,
    "start_time": "2024-06-17T02:44:00.985Z"
   },
   {
    "duration": 19,
    "start_time": "2024-06-17T02:44:01.027Z"
   },
   {
    "duration": 12,
    "start_time": "2024-06-17T02:44:01.051Z"
   },
   {
    "duration": 63,
    "start_time": "2024-06-17T02:44:01.067Z"
   },
   {
    "duration": 36,
    "start_time": "2024-06-17T02:44:01.135Z"
   },
   {
    "duration": 18,
    "start_time": "2024-06-17T02:44:01.177Z"
   },
   {
    "duration": 67,
    "start_time": "2024-06-17T02:44:01.197Z"
   },
   {
    "duration": 13,
    "start_time": "2024-06-17T02:44:01.267Z"
   },
   {
    "duration": 6,
    "start_time": "2024-06-17T02:44:01.283Z"
   },
   {
    "duration": 40,
    "start_time": "2024-06-17T02:44:01.291Z"
   },
   {
    "duration": 8,
    "start_time": "2024-06-17T02:44:01.335Z"
   },
   {
    "duration": 36,
    "start_time": "2024-06-17T02:44:01.346Z"
   },
   {
    "duration": 10,
    "start_time": "2024-06-17T02:44:01.422Z"
   },
   {
    "duration": 857,
    "start_time": "2024-06-17T02:44:01.435Z"
   },
   {
    "duration": 42,
    "start_time": "2024-06-17T02:44:02.296Z"
   },
   {
    "duration": 10,
    "start_time": "2024-06-17T02:44:02.341Z"
   },
   {
    "duration": 11,
    "start_time": "2024-06-17T02:44:02.355Z"
   },
   {
    "duration": 54,
    "start_time": "2024-06-17T02:44:02.369Z"
   },
   {
    "duration": 9,
    "start_time": "2024-06-17T02:44:02.426Z"
   },
   {
    "duration": 264,
    "start_time": "2024-06-17T02:44:02.438Z"
   },
   {
    "duration": 586,
    "start_time": "2024-06-17T02:44:02.706Z"
   },
   {
    "duration": 495,
    "start_time": "2024-06-17T02:44:03.296Z"
   },
   {
    "duration": 11,
    "start_time": "2024-06-17T02:44:03.795Z"
   },
   {
    "duration": 500,
    "start_time": "2024-06-17T02:44:03.818Z"
   },
   {
    "duration": 21,
    "start_time": "2024-06-17T02:44:04.324Z"
   },
   {
    "duration": 12,
    "start_time": "2024-06-17T02:44:04.348Z"
   },
   {
    "duration": 251,
    "start_time": "2024-06-17T02:44:04.364Z"
   },
   {
    "duration": 13,
    "start_time": "2024-06-17T02:44:04.618Z"
   },
   {
    "duration": 291,
    "start_time": "2024-06-17T02:44:04.635Z"
   },
   {
    "duration": 16,
    "start_time": "2024-06-17T02:44:04.929Z"
   },
   {
    "duration": 231,
    "start_time": "2024-06-17T02:44:04.948Z"
   },
   {
    "duration": 14,
    "start_time": "2024-06-17T02:44:05.182Z"
   },
   {
    "duration": 243,
    "start_time": "2024-06-17T02:44:05.200Z"
   },
   {
    "duration": 14,
    "start_time": "2024-06-17T02:44:05.446Z"
   },
   {
    "duration": 254,
    "start_time": "2024-06-17T02:44:05.463Z"
   },
   {
    "duration": 14,
    "start_time": "2024-06-17T02:44:05.724Z"
   },
   {
    "duration": 253,
    "start_time": "2024-06-17T02:44:05.741Z"
   },
   {
    "duration": 26,
    "start_time": "2024-06-17T02:44:05.997Z"
   },
   {
    "duration": 207,
    "start_time": "2024-06-17T02:44:06.027Z"
   },
   {
    "duration": 13,
    "start_time": "2024-06-17T02:44:06.237Z"
   },
   {
    "duration": 353,
    "start_time": "2024-06-17T02:44:06.253Z"
   },
   {
    "duration": 20,
    "start_time": "2024-06-17T02:44:06.610Z"
   },
   {
    "duration": 236,
    "start_time": "2024-06-17T02:44:06.635Z"
   },
   {
    "duration": 17,
    "start_time": "2024-06-17T02:44:06.875Z"
   },
   {
    "duration": 28,
    "start_time": "2024-06-17T02:44:06.897Z"
   },
   {
    "duration": 474,
    "start_time": "2024-06-17T02:45:07.665Z"
   },
   {
    "duration": 18,
    "start_time": "2024-06-17T02:46:45.870Z"
   },
   {
    "duration": 1500,
    "start_time": "2024-06-17T02:47:06.307Z"
   },
   {
    "duration": 47,
    "start_time": "2024-06-17T02:47:07.811Z"
   },
   {
    "duration": 22,
    "start_time": "2024-06-17T02:47:07.861Z"
   },
   {
    "duration": 68,
    "start_time": "2024-06-17T02:47:07.889Z"
   },
   {
    "duration": 23,
    "start_time": "2024-06-17T02:47:07.963Z"
   },
   {
    "duration": 39,
    "start_time": "2024-06-17T02:47:07.989Z"
   },
   {
    "duration": 15,
    "start_time": "2024-06-17T02:47:08.032Z"
   },
   {
    "duration": 22,
    "start_time": "2024-06-17T02:47:08.050Z"
   },
   {
    "duration": 71,
    "start_time": "2024-06-17T02:47:08.075Z"
   },
   {
    "duration": 21,
    "start_time": "2024-06-17T02:47:08.149Z"
   },
   {
    "duration": 75,
    "start_time": "2024-06-17T02:47:08.172Z"
   },
   {
    "duration": 13,
    "start_time": "2024-06-17T02:47:08.251Z"
   },
   {
    "duration": 7,
    "start_time": "2024-06-17T02:47:08.267Z"
   },
   {
    "duration": 43,
    "start_time": "2024-06-17T02:47:08.282Z"
   },
   {
    "duration": 9,
    "start_time": "2024-06-17T02:47:08.328Z"
   },
   {
    "duration": 38,
    "start_time": "2024-06-17T02:47:08.340Z"
   },
   {
    "duration": 44,
    "start_time": "2024-06-17T02:47:08.381Z"
   },
   {
    "duration": 946,
    "start_time": "2024-06-17T02:47:08.428Z"
   },
   {
    "duration": 37,
    "start_time": "2024-06-17T02:47:09.378Z"
   },
   {
    "duration": 11,
    "start_time": "2024-06-17T02:47:09.424Z"
   },
   {
    "duration": 14,
    "start_time": "2024-06-17T02:47:09.439Z"
   },
   {
    "duration": 12,
    "start_time": "2024-06-17T02:47:09.456Z"
   },
   {
    "duration": 297,
    "start_time": "2024-06-17T02:47:09.471Z"
   },
   {
    "duration": 662,
    "start_time": "2024-06-17T02:47:09.771Z"
   },
   {
    "duration": 573,
    "start_time": "2024-06-17T02:47:10.443Z"
   },
   {
    "duration": 17,
    "start_time": "2024-06-17T02:47:11.024Z"
   },
   {
    "duration": 562,
    "start_time": "2024-06-17T02:47:11.050Z"
   },
   {
    "duration": 26,
    "start_time": "2024-06-17T02:47:11.616Z"
   },
   {
    "duration": 12,
    "start_time": "2024-06-17T02:47:11.645Z"
   },
   {
    "duration": 269,
    "start_time": "2024-06-17T02:47:11.660Z"
   },
   {
    "duration": 25,
    "start_time": "2024-06-17T02:47:11.936Z"
   },
   {
    "duration": 267,
    "start_time": "2024-06-17T02:47:11.967Z"
   },
   {
    "duration": 12,
    "start_time": "2024-06-17T02:47:12.236Z"
   },
   {
    "duration": 249,
    "start_time": "2024-06-17T02:47:12.251Z"
   },
   {
    "duration": 24,
    "start_time": "2024-06-17T02:47:12.504Z"
   },
   {
    "duration": 264,
    "start_time": "2024-06-17T02:47:12.531Z"
   },
   {
    "duration": 12,
    "start_time": "2024-06-17T02:47:12.798Z"
   },
   {
    "duration": 326,
    "start_time": "2024-06-17T02:47:12.813Z"
   },
   {
    "duration": 13,
    "start_time": "2024-06-17T02:47:13.143Z"
   },
   {
    "duration": 271,
    "start_time": "2024-06-17T02:47:13.159Z"
   },
   {
    "duration": 12,
    "start_time": "2024-06-17T02:47:13.440Z"
   },
   {
    "duration": 262,
    "start_time": "2024-06-17T02:47:13.456Z"
   },
   {
    "duration": 12,
    "start_time": "2024-06-17T02:47:13.725Z"
   },
   {
    "duration": 406,
    "start_time": "2024-06-17T02:47:13.741Z"
   },
   {
    "duration": 12,
    "start_time": "2024-06-17T02:47:14.150Z"
   },
   {
    "duration": 234,
    "start_time": "2024-06-17T02:47:14.165Z"
   },
   {
    "duration": 20,
    "start_time": "2024-06-17T02:47:14.403Z"
   },
   {
    "duration": 11,
    "start_time": "2024-06-17T02:47:14.426Z"
   },
   {
    "duration": 446,
    "start_time": "2024-06-17T02:52:25.150Z"
   },
   {
    "duration": 615,
    "start_time": "2024-06-17T02:52:49.704Z"
   },
   {
    "duration": 1448,
    "start_time": "2024-06-17T02:54:41.080Z"
   },
   {
    "duration": 40,
    "start_time": "2024-06-17T02:54:42.532Z"
   },
   {
    "duration": 22,
    "start_time": "2024-06-17T02:54:42.575Z"
   },
   {
    "duration": 41,
    "start_time": "2024-06-17T02:54:42.626Z"
   },
   {
    "duration": 20,
    "start_time": "2024-06-17T02:54:42.671Z"
   },
   {
    "duration": 44,
    "start_time": "2024-06-17T02:54:42.694Z"
   },
   {
    "duration": 15,
    "start_time": "2024-06-17T02:54:42.740Z"
   },
   {
    "duration": 22,
    "start_time": "2024-06-17T02:54:42.758Z"
   },
   {
    "duration": 72,
    "start_time": "2024-06-17T02:54:42.783Z"
   },
   {
    "duration": 22,
    "start_time": "2024-06-17T02:54:42.861Z"
   },
   {
    "duration": 74,
    "start_time": "2024-06-17T02:54:42.886Z"
   },
   {
    "duration": 13,
    "start_time": "2024-06-17T02:54:42.963Z"
   },
   {
    "duration": 7,
    "start_time": "2024-06-17T02:54:42.979Z"
   },
   {
    "duration": 40,
    "start_time": "2024-06-17T02:54:42.989Z"
   },
   {
    "duration": 10,
    "start_time": "2024-06-17T02:54:43.033Z"
   },
   {
    "duration": 34,
    "start_time": "2024-06-17T02:54:43.047Z"
   },
   {
    "duration": 45,
    "start_time": "2024-06-17T02:54:43.084Z"
   },
   {
    "duration": 849,
    "start_time": "2024-06-17T02:54:43.132Z"
   },
   {
    "duration": 46,
    "start_time": "2024-06-17T02:54:43.985Z"
   },
   {
    "duration": 10,
    "start_time": "2024-06-17T02:54:44.034Z"
   },
   {
    "duration": 11,
    "start_time": "2024-06-17T02:54:44.047Z"
   },
   {
    "duration": 264,
    "start_time": "2024-06-17T02:54:44.062Z"
   },
   {
    "duration": 592,
    "start_time": "2024-06-17T02:54:44.331Z"
   },
   {
    "duration": 511,
    "start_time": "2024-06-17T02:54:44.926Z"
   },
   {
    "duration": 8,
    "start_time": "2024-06-17T02:54:45.440Z"
   },
   {
    "duration": 513,
    "start_time": "2024-06-17T02:54:45.451Z"
   },
   {
    "duration": 19,
    "start_time": "2024-06-17T02:54:45.967Z"
   },
   {
    "duration": 12,
    "start_time": "2024-06-17T02:54:46.023Z"
   },
   {
    "duration": 208,
    "start_time": "2024-06-17T02:54:46.041Z"
   },
   {
    "duration": 12,
    "start_time": "2024-06-17T02:54:46.255Z"
   },
   {
    "duration": 252,
    "start_time": "2024-06-17T02:54:46.270Z"
   },
   {
    "duration": 12,
    "start_time": "2024-06-17T02:54:46.525Z"
   },
   {
    "duration": 283,
    "start_time": "2024-06-17T02:54:46.540Z"
   },
   {
    "duration": 11,
    "start_time": "2024-06-17T02:54:46.827Z"
   },
   {
    "duration": 233,
    "start_time": "2024-06-17T02:54:46.842Z"
   },
   {
    "duration": 12,
    "start_time": "2024-06-17T02:54:47.079Z"
   },
   {
    "duration": 256,
    "start_time": "2024-06-17T02:54:47.095Z"
   },
   {
    "duration": 12,
    "start_time": "2024-06-17T02:54:47.355Z"
   },
   {
    "duration": 234,
    "start_time": "2024-06-17T02:54:47.370Z"
   },
   {
    "duration": 16,
    "start_time": "2024-06-17T02:54:47.610Z"
   },
   {
    "duration": 221,
    "start_time": "2024-06-17T02:54:47.629Z"
   },
   {
    "duration": 15,
    "start_time": "2024-06-17T02:54:47.853Z"
   },
   {
    "duration": 389,
    "start_time": "2024-06-17T02:54:47.872Z"
   },
   {
    "duration": 11,
    "start_time": "2024-06-17T02:54:48.265Z"
   },
   {
    "duration": 226,
    "start_time": "2024-06-17T02:54:48.281Z"
   },
   {
    "duration": 19,
    "start_time": "2024-06-17T02:54:48.510Z"
   },
   {
    "duration": 11,
    "start_time": "2024-06-17T02:54:48.534Z"
   },
   {
    "duration": 5916,
    "start_time": "2024-06-17T04:21:08.730Z"
   },
   {
    "duration": 68,
    "start_time": "2024-06-17T04:21:14.649Z"
   },
   {
    "duration": 35,
    "start_time": "2024-06-17T04:21:14.719Z"
   },
   {
    "duration": 45,
    "start_time": "2024-06-17T04:21:14.763Z"
   },
   {
    "duration": 23,
    "start_time": "2024-06-17T04:21:14.811Z"
   },
   {
    "duration": 26,
    "start_time": "2024-06-17T04:21:14.836Z"
   },
   {
    "duration": 14,
    "start_time": "2024-06-17T04:21:14.866Z"
   },
   {
    "duration": 22,
    "start_time": "2024-06-17T04:21:14.883Z"
   },
   {
    "duration": 46,
    "start_time": "2024-06-17T04:21:14.924Z"
   },
   {
    "duration": 22,
    "start_time": "2024-06-17T04:21:14.976Z"
   },
   {
    "duration": 60,
    "start_time": "2024-06-17T04:21:15.002Z"
   },
   {
    "duration": 16,
    "start_time": "2024-06-17T04:21:15.065Z"
   },
   {
    "duration": 6,
    "start_time": "2024-06-17T04:21:15.085Z"
   },
   {
    "duration": 30,
    "start_time": "2024-06-17T04:21:15.094Z"
   },
   {
    "duration": 6,
    "start_time": "2024-06-17T04:21:15.127Z"
   },
   {
    "duration": 42,
    "start_time": "2024-06-17T04:21:15.136Z"
   },
   {
    "duration": 9,
    "start_time": "2024-06-17T04:21:15.181Z"
   },
   {
    "duration": 767,
    "start_time": "2024-06-17T04:21:15.194Z"
   },
   {
    "duration": 32,
    "start_time": "2024-06-17T04:21:15.964Z"
   },
   {
    "duration": 28,
    "start_time": "2024-06-17T04:21:15.999Z"
   },
   {
    "duration": 11,
    "start_time": "2024-06-17T04:21:16.030Z"
   },
   {
    "duration": 232,
    "start_time": "2024-06-17T04:21:16.043Z"
   },
   {
    "duration": 717,
    "start_time": "2024-06-17T04:21:16.279Z"
   },
   {
    "duration": 484,
    "start_time": "2024-06-17T04:21:16.999Z"
   },
   {
    "duration": 7,
    "start_time": "2024-06-17T04:21:17.487Z"
   },
   {
    "duration": 523,
    "start_time": "2024-06-17T04:21:17.498Z"
   },
   {
    "duration": 29,
    "start_time": "2024-06-17T04:21:18.029Z"
   },
   {
    "duration": 22,
    "start_time": "2024-06-17T04:21:18.065Z"
   },
   {
    "duration": 202,
    "start_time": "2024-06-17T04:21:18.091Z"
   },
   {
    "duration": 12,
    "start_time": "2024-06-17T04:21:18.295Z"
   },
   {
    "duration": 229,
    "start_time": "2024-06-17T04:21:18.324Z"
   },
   {
    "duration": 10,
    "start_time": "2024-06-17T04:21:18.556Z"
   },
   {
    "duration": 218,
    "start_time": "2024-06-17T04:21:18.569Z"
   },
   {
    "duration": 13,
    "start_time": "2024-06-17T04:21:18.790Z"
   },
   {
    "duration": 216,
    "start_time": "2024-06-17T04:21:18.831Z"
   },
   {
    "duration": 10,
    "start_time": "2024-06-17T04:21:19.050Z"
   },
   {
    "duration": 245,
    "start_time": "2024-06-17T04:21:19.062Z"
   },
   {
    "duration": 17,
    "start_time": "2024-06-17T04:21:19.311Z"
   },
   {
    "duration": 214,
    "start_time": "2024-06-17T04:21:19.331Z"
   },
   {
    "duration": 16,
    "start_time": "2024-06-17T04:21:19.548Z"
   },
   {
    "duration": 224,
    "start_time": "2024-06-17T04:21:19.566Z"
   },
   {
    "duration": 12,
    "start_time": "2024-06-17T04:21:19.797Z"
   },
   {
    "duration": 269,
    "start_time": "2024-06-17T04:21:19.813Z"
   },
   {
    "duration": 12,
    "start_time": "2024-06-17T04:21:20.086Z"
   },
   {
    "duration": 239,
    "start_time": "2024-06-17T04:21:20.103Z"
   },
   {
    "duration": 11,
    "start_time": "2024-06-17T04:21:20.345Z"
   },
   {
    "duration": 18,
    "start_time": "2024-06-17T04:21:20.361Z"
   },
   {
    "duration": 9,
    "start_time": "2024-06-17T04:32:09.417Z"
   },
   {
    "duration": 5115,
    "start_time": "2024-06-17T17:11:00.231Z"
   },
   {
    "duration": 57,
    "start_time": "2024-06-17T17:11:05.350Z"
   },
   {
    "duration": 19,
    "start_time": "2024-06-17T17:11:05.410Z"
   },
   {
    "duration": 41,
    "start_time": "2024-06-17T17:11:05.432Z"
   },
   {
    "duration": 44,
    "start_time": "2024-06-17T17:11:05.477Z"
   },
   {
    "duration": 19,
    "start_time": "2024-06-17T17:11:05.524Z"
   },
   {
    "duration": 13,
    "start_time": "2024-06-17T17:11:05.546Z"
   },
   {
    "duration": 59,
    "start_time": "2024-06-17T17:11:05.562Z"
   },
   {
    "duration": 29,
    "start_time": "2024-06-17T17:11:05.624Z"
   },
   {
    "duration": 18,
    "start_time": "2024-06-17T17:11:05.657Z"
   },
   {
    "duration": 6,
    "start_time": "2024-06-17T17:11:05.711Z"
   },
   {
    "duration": 8,
    "start_time": "2024-06-17T17:11:05.721Z"
   },
   {
    "duration": 7,
    "start_time": "2024-06-17T17:11:05.732Z"
   },
   {
    "duration": 74,
    "start_time": "2024-06-17T17:11:05.747Z"
   },
   {
    "duration": 10,
    "start_time": "2024-06-17T17:11:05.823Z"
   },
   {
    "duration": 822,
    "start_time": "2024-06-17T17:11:05.836Z"
   },
   {
    "duration": 31,
    "start_time": "2024-06-17T17:11:06.662Z"
   },
   {
    "duration": 9,
    "start_time": "2024-06-17T17:11:06.713Z"
   },
   {
    "duration": 12,
    "start_time": "2024-06-17T17:11:06.726Z"
   },
   {
    "duration": 255,
    "start_time": "2024-06-17T17:11:06.742Z"
   },
   {
    "duration": 561,
    "start_time": "2024-06-17T17:11:06.999Z"
   },
   {
    "duration": 560,
    "start_time": "2024-06-17T17:11:07.565Z"
   },
   {
    "duration": 7,
    "start_time": "2024-06-17T17:11:08.129Z"
   },
   {
    "duration": 473,
    "start_time": "2024-06-17T17:11:08.139Z"
   },
   {
    "duration": 18,
    "start_time": "2024-06-17T17:11:08.615Z"
   },
   {
    "duration": 11,
    "start_time": "2024-06-17T17:11:08.635Z"
   },
   {
    "duration": 231,
    "start_time": "2024-06-17T17:11:08.649Z"
   },
   {
    "duration": 10,
    "start_time": "2024-06-17T17:11:08.883Z"
   },
   {
    "duration": 241,
    "start_time": "2024-06-17T17:11:08.912Z"
   },
   {
    "duration": 12,
    "start_time": "2024-06-17T17:11:09.158Z"
   },
   {
    "duration": 249,
    "start_time": "2024-06-17T17:11:09.174Z"
   },
   {
    "duration": 12,
    "start_time": "2024-06-17T17:11:09.428Z"
   },
   {
    "duration": 210,
    "start_time": "2024-06-17T17:11:09.444Z"
   },
   {
    "duration": 10,
    "start_time": "2024-06-17T17:11:09.658Z"
   },
   {
    "duration": 248,
    "start_time": "2024-06-17T17:11:09.672Z"
   },
   {
    "duration": 10,
    "start_time": "2024-06-17T17:11:09.923Z"
   },
   {
    "duration": 222,
    "start_time": "2024-06-17T17:11:09.937Z"
   },
   {
    "duration": 12,
    "start_time": "2024-06-17T17:11:10.162Z"
   },
   {
    "duration": 230,
    "start_time": "2024-06-17T17:11:10.177Z"
   },
   {
    "duration": 11,
    "start_time": "2024-06-17T17:11:10.413Z"
   },
   {
    "duration": 262,
    "start_time": "2024-06-17T17:11:10.432Z"
   },
   {
    "duration": 21,
    "start_time": "2024-06-17T17:11:10.697Z"
   },
   {
    "duration": 191,
    "start_time": "2024-06-17T17:11:10.721Z"
   },
   {
    "duration": 11,
    "start_time": "2024-06-17T17:11:10.915Z"
   },
   {
    "duration": 11,
    "start_time": "2024-06-17T17:11:10.929Z"
   },
   {
    "duration": 38,
    "start_time": "2024-06-17T17:12:07.881Z"
   },
   {
    "duration": 826,
    "start_time": "2024-06-17T17:13:28.486Z"
   },
   {
    "duration": 31,
    "start_time": "2024-06-17T17:13:58.150Z"
   },
   {
    "duration": 10,
    "start_time": "2024-06-17T17:14:03.232Z"
   },
   {
    "duration": 564,
    "start_time": "2024-06-17T17:16:51.682Z"
   },
   {
    "duration": 1684,
    "start_time": "2024-06-17T17:16:58.333Z"
   },
   {
    "duration": 1435,
    "start_time": "2024-06-17T17:17:09.031Z"
   },
   {
    "duration": 47,
    "start_time": "2024-06-17T17:17:10.470Z"
   },
   {
    "duration": 21,
    "start_time": "2024-06-17T17:17:10.520Z"
   },
   {
    "duration": 71,
    "start_time": "2024-06-17T17:17:10.546Z"
   },
   {
    "duration": 20,
    "start_time": "2024-06-17T17:17:10.620Z"
   },
   {
    "duration": 19,
    "start_time": "2024-06-17T17:17:10.644Z"
   },
   {
    "duration": 48,
    "start_time": "2024-06-17T17:17:10.666Z"
   },
   {
    "duration": 21,
    "start_time": "2024-06-17T17:17:10.717Z"
   },
   {
    "duration": 31,
    "start_time": "2024-06-17T17:17:10.742Z"
   },
   {
    "duration": 51,
    "start_time": "2024-06-17T17:17:10.778Z"
   },
   {
    "duration": 33,
    "start_time": "2024-06-17T17:17:10.832Z"
   },
   {
    "duration": 6,
    "start_time": "2024-06-17T17:17:10.868Z"
   },
   {
    "duration": 8,
    "start_time": "2024-06-17T17:17:10.913Z"
   },
   {
    "duration": 11,
    "start_time": "2024-06-17T17:17:10.925Z"
   },
   {
    "duration": 42,
    "start_time": "2024-06-17T17:17:10.939Z"
   },
   {
    "duration": 10,
    "start_time": "2024-06-17T17:17:11.013Z"
   },
   {
    "duration": 837,
    "start_time": "2024-06-17T17:17:11.027Z"
   },
   {
    "duration": 47,
    "start_time": "2024-06-17T17:17:11.867Z"
   },
   {
    "duration": 11,
    "start_time": "2024-06-17T17:17:11.918Z"
   },
   {
    "duration": 14,
    "start_time": "2024-06-17T17:17:11.932Z"
   },
   {
    "duration": 256,
    "start_time": "2024-06-17T17:17:11.949Z"
   },
   {
    "duration": 1787,
    "start_time": "2024-06-17T17:17:12.213Z"
   },
   {
    "duration": 0,
    "start_time": "2024-06-17T17:17:14.013Z"
   },
   {
    "duration": 0,
    "start_time": "2024-06-17T17:17:14.015Z"
   },
   {
    "duration": 0,
    "start_time": "2024-06-17T17:17:14.017Z"
   },
   {
    "duration": 0,
    "start_time": "2024-06-17T17:17:14.019Z"
   },
   {
    "duration": 0,
    "start_time": "2024-06-17T17:17:14.021Z"
   },
   {
    "duration": 0,
    "start_time": "2024-06-17T17:17:14.022Z"
   },
   {
    "duration": 0,
    "start_time": "2024-06-17T17:17:14.023Z"
   },
   {
    "duration": 0,
    "start_time": "2024-06-17T17:17:14.028Z"
   },
   {
    "duration": 0,
    "start_time": "2024-06-17T17:17:14.031Z"
   },
   {
    "duration": 0,
    "start_time": "2024-06-17T17:17:14.032Z"
   },
   {
    "duration": 0,
    "start_time": "2024-06-17T17:17:14.035Z"
   },
   {
    "duration": 0,
    "start_time": "2024-06-17T17:17:14.037Z"
   },
   {
    "duration": 0,
    "start_time": "2024-06-17T17:17:14.039Z"
   },
   {
    "duration": 0,
    "start_time": "2024-06-17T17:17:14.041Z"
   },
   {
    "duration": 0,
    "start_time": "2024-06-17T17:17:14.043Z"
   },
   {
    "duration": 0,
    "start_time": "2024-06-17T17:17:14.045Z"
   },
   {
    "duration": 0,
    "start_time": "2024-06-17T17:17:14.046Z"
   },
   {
    "duration": 0,
    "start_time": "2024-06-17T17:17:14.048Z"
   },
   {
    "duration": 0,
    "start_time": "2024-06-17T17:17:14.050Z"
   },
   {
    "duration": 0,
    "start_time": "2024-06-17T17:17:14.054Z"
   },
   {
    "duration": 0,
    "start_time": "2024-06-17T17:17:14.056Z"
   },
   {
    "duration": 0,
    "start_time": "2024-06-17T17:17:14.112Z"
   },
   {
    "duration": 0,
    "start_time": "2024-06-17T17:17:14.114Z"
   },
   {
    "duration": 0,
    "start_time": "2024-06-17T17:17:14.117Z"
   },
   {
    "duration": 591,
    "start_time": "2024-06-17T17:17:31.738Z"
   },
   {
    "duration": 1462,
    "start_time": "2024-06-17T17:17:39.933Z"
   },
   {
    "duration": 43,
    "start_time": "2024-06-17T17:17:41.399Z"
   },
   {
    "duration": 20,
    "start_time": "2024-06-17T17:17:41.445Z"
   },
   {
    "duration": 73,
    "start_time": "2024-06-17T17:17:41.472Z"
   },
   {
    "duration": 28,
    "start_time": "2024-06-17T17:17:41.548Z"
   },
   {
    "duration": 38,
    "start_time": "2024-06-17T17:17:41.579Z"
   },
   {
    "duration": 16,
    "start_time": "2024-06-17T17:17:41.621Z"
   },
   {
    "duration": 21,
    "start_time": "2024-06-17T17:17:41.640Z"
   },
   {
    "duration": 62,
    "start_time": "2024-06-17T17:17:41.664Z"
   },
   {
    "duration": 21,
    "start_time": "2024-06-17T17:17:41.733Z"
   },
   {
    "duration": 58,
    "start_time": "2024-06-17T17:17:41.756Z"
   },
   {
    "duration": 6,
    "start_time": "2024-06-17T17:17:41.817Z"
   },
   {
    "duration": 8,
    "start_time": "2024-06-17T17:17:41.827Z"
   },
   {
    "duration": 7,
    "start_time": "2024-06-17T17:17:41.837Z"
   },
   {
    "duration": 73,
    "start_time": "2024-06-17T17:17:41.848Z"
   },
   {
    "duration": 9,
    "start_time": "2024-06-17T17:17:41.924Z"
   },
   {
    "duration": 832,
    "start_time": "2024-06-17T17:17:41.935Z"
   },
   {
    "duration": 46,
    "start_time": "2024-06-17T17:17:42.770Z"
   },
   {
    "duration": 9,
    "start_time": "2024-06-17T17:17:42.820Z"
   },
   {
    "duration": 11,
    "start_time": "2024-06-17T17:17:42.833Z"
   },
   {
    "duration": 265,
    "start_time": "2024-06-17T17:17:42.847Z"
   },
   {
    "duration": 600,
    "start_time": "2024-06-17T17:17:43.115Z"
   },
   {
    "duration": 507,
    "start_time": "2024-06-17T17:17:43.719Z"
   },
   {
    "duration": 7,
    "start_time": "2024-06-17T17:17:44.232Z"
   },
   {
    "duration": 474,
    "start_time": "2024-06-17T17:17:44.242Z"
   },
   {
    "duration": 20,
    "start_time": "2024-06-17T17:17:44.721Z"
   },
   {
    "duration": 10,
    "start_time": "2024-06-17T17:17:44.745Z"
   },
   {
    "duration": 235,
    "start_time": "2024-06-17T17:17:44.764Z"
   },
   {
    "duration": 21,
    "start_time": "2024-06-17T17:17:45.002Z"
   },
   {
    "duration": 246,
    "start_time": "2024-06-17T17:17:45.026Z"
   },
   {
    "duration": 12,
    "start_time": "2024-06-17T17:17:45.275Z"
   },
   {
    "duration": 211,
    "start_time": "2024-06-17T17:17:45.290Z"
   },
   {
    "duration": 17,
    "start_time": "2024-06-17T17:17:45.504Z"
   },
   {
    "duration": 220,
    "start_time": "2024-06-17T17:17:45.524Z"
   },
   {
    "duration": 11,
    "start_time": "2024-06-17T17:17:45.749Z"
   },
   {
    "duration": 245,
    "start_time": "2024-06-17T17:17:45.763Z"
   },
   {
    "duration": 16,
    "start_time": "2024-06-17T17:17:46.014Z"
   },
   {
    "duration": 208,
    "start_time": "2024-06-17T17:17:46.033Z"
   },
   {
    "duration": 12,
    "start_time": "2024-06-17T17:17:46.244Z"
   },
   {
    "duration": 203,
    "start_time": "2024-06-17T17:17:46.259Z"
   },
   {
    "duration": 10,
    "start_time": "2024-06-17T17:17:46.466Z"
   },
   {
    "duration": 332,
    "start_time": "2024-06-17T17:17:46.480Z"
   },
   {
    "duration": 12,
    "start_time": "2024-06-17T17:17:46.815Z"
   },
   {
    "duration": 208,
    "start_time": "2024-06-17T17:17:46.830Z"
   },
   {
    "duration": 13,
    "start_time": "2024-06-17T17:17:47.042Z"
   },
   {
    "duration": 15,
    "start_time": "2024-06-17T17:17:47.060Z"
   },
   {
    "duration": 591,
    "start_time": "2024-06-17T17:19:38.624Z"
   },
   {
    "duration": 1360,
    "start_time": "2024-06-17T17:19:48.057Z"
   },
   {
    "duration": 44,
    "start_time": "2024-06-17T17:19:49.421Z"
   },
   {
    "duration": 22,
    "start_time": "2024-06-17T17:19:49.469Z"
   },
   {
    "duration": 39,
    "start_time": "2024-06-17T17:19:49.514Z"
   },
   {
    "duration": 18,
    "start_time": "2024-06-17T17:19:49.558Z"
   },
   {
    "duration": 44,
    "start_time": "2024-06-17T17:19:49.579Z"
   },
   {
    "duration": 14,
    "start_time": "2024-06-17T17:19:49.625Z"
   },
   {
    "duration": 18,
    "start_time": "2024-06-17T17:19:49.642Z"
   },
   {
    "duration": 72,
    "start_time": "2024-06-17T17:19:49.663Z"
   },
   {
    "duration": 18,
    "start_time": "2024-06-17T17:19:49.738Z"
   },
   {
    "duration": 64,
    "start_time": "2024-06-17T17:19:49.759Z"
   },
   {
    "duration": 6,
    "start_time": "2024-06-17T17:19:49.826Z"
   },
   {
    "duration": 8,
    "start_time": "2024-06-17T17:19:49.834Z"
   },
   {
    "duration": 8,
    "start_time": "2024-06-17T17:19:49.850Z"
   },
   {
    "duration": 68,
    "start_time": "2024-06-17T17:19:49.863Z"
   },
   {
    "duration": 11,
    "start_time": "2024-06-17T17:19:49.933Z"
   },
   {
    "duration": 863,
    "start_time": "2024-06-17T17:19:49.947Z"
   },
   {
    "duration": 30,
    "start_time": "2024-06-17T17:19:50.814Z"
   },
   {
    "duration": 10,
    "start_time": "2024-06-17T17:19:50.847Z"
   },
   {
    "duration": 11,
    "start_time": "2024-06-17T17:19:50.861Z"
   },
   {
    "duration": 290,
    "start_time": "2024-06-17T17:19:50.875Z"
   },
   {
    "duration": 649,
    "start_time": "2024-06-17T17:19:51.169Z"
   },
   {
    "duration": 499,
    "start_time": "2024-06-17T17:19:51.821Z"
   },
   {
    "duration": 7,
    "start_time": "2024-06-17T17:19:52.322Z"
   },
   {
    "duration": 481,
    "start_time": "2024-06-17T17:19:52.332Z"
   },
   {
    "duration": 18,
    "start_time": "2024-06-17T17:19:52.815Z"
   },
   {
    "duration": 12,
    "start_time": "2024-06-17T17:19:52.836Z"
   },
   {
    "duration": 242,
    "start_time": "2024-06-17T17:19:52.851Z"
   },
   {
    "duration": 20,
    "start_time": "2024-06-17T17:19:53.096Z"
   },
   {
    "duration": 243,
    "start_time": "2024-06-17T17:19:53.119Z"
   },
   {
    "duration": 12,
    "start_time": "2024-06-17T17:19:53.367Z"
   },
   {
    "duration": 210,
    "start_time": "2024-06-17T17:19:53.382Z"
   },
   {
    "duration": 25,
    "start_time": "2024-06-17T17:19:53.595Z"
   },
   {
    "duration": 218,
    "start_time": "2024-06-17T17:19:53.624Z"
   },
   {
    "duration": 12,
    "start_time": "2024-06-17T17:19:53.845Z"
   },
   {
    "duration": 252,
    "start_time": "2024-06-17T17:19:53.860Z"
   },
   {
    "duration": 11,
    "start_time": "2024-06-17T17:19:54.116Z"
   },
   {
    "duration": 200,
    "start_time": "2024-06-17T17:19:54.130Z"
   },
   {
    "duration": 11,
    "start_time": "2024-06-17T17:19:54.333Z"
   },
   {
    "duration": 206,
    "start_time": "2024-06-17T17:19:54.348Z"
   },
   {
    "duration": 11,
    "start_time": "2024-06-17T17:19:54.563Z"
   },
   {
    "duration": 329,
    "start_time": "2024-06-17T17:19:54.577Z"
   },
   {
    "duration": 13,
    "start_time": "2024-06-17T17:19:54.913Z"
   },
   {
    "duration": 221,
    "start_time": "2024-06-17T17:19:54.929Z"
   },
   {
    "duration": 11,
    "start_time": "2024-06-17T17:19:55.153Z"
   },
   {
    "duration": 12,
    "start_time": "2024-06-17T17:19:55.167Z"
   },
   {
    "duration": 633,
    "start_time": "2024-06-17T17:23:23.676Z"
   },
   {
    "duration": 621,
    "start_time": "2024-06-17T17:23:48.475Z"
   },
   {
    "duration": 1417,
    "start_time": "2024-06-17T17:24:26.643Z"
   },
   {
    "duration": 52,
    "start_time": "2024-06-17T17:24:28.064Z"
   },
   {
    "duration": 31,
    "start_time": "2024-06-17T17:24:28.119Z"
   },
   {
    "duration": 70,
    "start_time": "2024-06-17T17:24:28.155Z"
   },
   {
    "duration": 25,
    "start_time": "2024-06-17T17:24:28.228Z"
   },
   {
    "duration": 26,
    "start_time": "2024-06-17T17:24:28.260Z"
   },
   {
    "duration": 35,
    "start_time": "2024-06-17T17:24:28.289Z"
   },
   {
    "duration": 23,
    "start_time": "2024-06-17T17:24:28.328Z"
   },
   {
    "duration": 32,
    "start_time": "2024-06-17T17:24:28.357Z"
   },
   {
    "duration": 21,
    "start_time": "2024-06-17T17:24:28.416Z"
   },
   {
    "duration": 43,
    "start_time": "2024-06-17T17:24:28.442Z"
   },
   {
    "duration": 9,
    "start_time": "2024-06-17T17:24:28.511Z"
   },
   {
    "duration": 12,
    "start_time": "2024-06-17T17:24:28.524Z"
   },
   {
    "duration": 10,
    "start_time": "2024-06-17T17:24:28.544Z"
   },
   {
    "duration": 62,
    "start_time": "2024-06-17T17:24:28.559Z"
   },
   {
    "duration": 9,
    "start_time": "2024-06-17T17:24:28.624Z"
   },
   {
    "duration": 835,
    "start_time": "2024-06-17T17:24:28.636Z"
   },
   {
    "duration": 43,
    "start_time": "2024-06-17T17:24:29.476Z"
   },
   {
    "duration": 10,
    "start_time": "2024-06-17T17:24:29.522Z"
   },
   {
    "duration": 12,
    "start_time": "2024-06-17T17:24:29.535Z"
   },
   {
    "duration": 313,
    "start_time": "2024-06-17T17:24:29.550Z"
   },
   {
    "duration": 612,
    "start_time": "2024-06-17T17:24:29.867Z"
   },
   {
    "duration": 488,
    "start_time": "2024-06-17T17:24:30.482Z"
   },
   {
    "duration": 8,
    "start_time": "2024-06-17T17:24:30.973Z"
   },
   {
    "duration": 516,
    "start_time": "2024-06-17T17:24:30.986Z"
   },
   {
    "duration": 21,
    "start_time": "2024-06-17T17:24:31.507Z"
   },
   {
    "duration": 697,
    "start_time": "2024-06-17T17:24:31.539Z"
   },
   {
    "duration": 14,
    "start_time": "2024-06-17T17:24:32.246Z"
   },
   {
    "duration": 208,
    "start_time": "2024-06-17T17:24:32.264Z"
   },
   {
    "duration": 13,
    "start_time": "2024-06-17T17:24:32.476Z"
   },
   {
    "duration": 257,
    "start_time": "2024-06-17T17:24:32.514Z"
   },
   {
    "duration": 15,
    "start_time": "2024-06-17T17:24:32.774Z"
   },
   {
    "duration": 213,
    "start_time": "2024-06-17T17:24:32.814Z"
   },
   {
    "duration": 12,
    "start_time": "2024-06-17T17:24:33.030Z"
   },
   {
    "duration": 239,
    "start_time": "2024-06-17T17:24:33.046Z"
   },
   {
    "duration": 25,
    "start_time": "2024-06-17T17:24:33.288Z"
   },
   {
    "duration": 346,
    "start_time": "2024-06-17T17:24:33.319Z"
   },
   {
    "duration": 15,
    "start_time": "2024-06-17T17:24:33.670Z"
   },
   {
    "duration": 228,
    "start_time": "2024-06-17T17:24:33.689Z"
   },
   {
    "duration": 17,
    "start_time": "2024-06-17T17:24:33.921Z"
   },
   {
    "duration": 227,
    "start_time": "2024-06-17T17:24:33.941Z"
   },
   {
    "duration": 13,
    "start_time": "2024-06-17T17:24:34.172Z"
   },
   {
    "duration": 267,
    "start_time": "2024-06-17T17:24:34.188Z"
   },
   {
    "duration": 13,
    "start_time": "2024-06-17T17:24:34.458Z"
   },
   {
    "duration": 224,
    "start_time": "2024-06-17T17:24:34.474Z"
   },
   {
    "duration": 17,
    "start_time": "2024-06-17T17:24:34.701Z"
   },
   {
    "duration": 12,
    "start_time": "2024-06-17T17:24:34.722Z"
   },
   {
    "duration": 12,
    "start_time": "2024-06-17T19:35:11.076Z"
   }
  ],
  "kernelspec": {
   "display_name": "Python 3 (ipykernel)",
   "language": "python",
   "name": "python3"
  },
  "language_info": {
   "codemirror_mode": {
    "name": "ipython",
    "version": 3
   },
   "file_extension": ".py",
   "mimetype": "text/x-python",
   "name": "python",
   "nbconvert_exporter": "python",
   "pygments_lexer": "ipython3",
   "version": "3.9.19"
  },
  "toc": {
   "base_numbering": 1,
   "nav_menu": {},
   "number_sections": true,
   "sideBar": true,
   "skip_h1_title": true,
   "title_cell": "Table of Contents",
   "title_sidebar": "Contents",
   "toc_cell": false,
   "toc_position": {},
   "toc_section_display": true,
   "toc_window_display": false
  }
 },
 "nbformat": 4,
 "nbformat_minor": 2
}
